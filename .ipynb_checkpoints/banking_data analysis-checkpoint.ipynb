{
 "cells": [
  {
   "cell_type": "markdown",
   "id": "2d5bca91",
   "metadata": {},
   "source": [
    "# BANKING DATA ANALYSIS "
   ]
  },
  {
   "cell_type": "markdown",
   "id": "314a9e6e",
   "metadata": {},
   "source": [
    "# Project Description\n",
    "In the ever-evolving world of banking and finance, understanding customer behavior and the regional impact of transactions plays a crucial role in decision-making and strategic planning. This project, titled \"Analyzing Banking Trends: Customer Transactions and Regional Impact,\" aims to explore and analyze the vast troves of transaction data to gain valuable insights into customer behavior patterns and their implications on different world regions.\n",
    "\n",
    "Objective: The primary objective of this project is to delve into customer transactions and identify trends that may impact regional economies and financial systems. By combining data cleaning techniques in Python and utilizing SQL queries on a set of interconnected tables, we aim to gain a comprehensive understanding of how customer transactions vary across different regions and the possible implications on the banking sector.\n",
    "\n",
    "Data Sources: The project leverages three key tables that provide valuable information for analysis:\n",
    "\n",
    "1. world_regions table: This table contains data on various world regions and their corresponding codes and names. It serves as a reference to categorize customers based on their regional affiliation.\n",
    "\n",
    "2. user_nodes table: The user_nodes table holds crucial details about consumers' banking nodes, including their unique consumer IDs, associated region IDs, node IDs, start dates, and end dates. This data enables us to identify the specific banking nodes to which customers are connected and their duration of association.\n",
    "\n",
    "3. user_transaction table: This table is a comprehensive repository of customer transactions, containing data such as consumer IDs, transaction dates, types of transactions, and transaction amounts. Analyzing this data allows us to uncover patterns in customer spending and financial behaviors\n",
    " \n",
    "All of this dataset was sourced by hicounselor(https://hicounselor.com/projects/analyzing-banking-trends-customer-transactions-and-regional-impact) as part of their materials for individuals to learn and build their portfolio"
   ]
  },
  {
   "cell_type": "code",
   "execution_count": null,
   "id": "91898bb5",
   "metadata": {},
   "outputs": [],
   "source": []
  },
  {
   "cell_type": "code",
   "execution_count": 1,
   "id": "d7ae8ac3",
   "metadata": {},
   "outputs": [],
   "source": [
    "import psycopg2\n",
    "import pandas as pd\n",
    "import numpy as np\n",
    "import seaborn as sns\n",
    "import matplotlib.pyplot as plt \n"
   ]
  },
  {
   "cell_type": "code",
   "execution_count": 2,
   "id": "7f7fa9d3",
   "metadata": {},
   "outputs": [],
   "source": [
    "db_params = {\n",
    "    \"host\": \"localhost\",  # or \"127.0.0.1\" if your database is on the local machine\n",
    "    \"port\": 5432,         # Default PostgreSQL port\n",
    "    \"database\": \"banking_data\",\n",
    "    \"user\": \"postgres\",\n",
    "    \"password\": \"dibie04062000\"\n",
    "}\n"
   ]
  },
  {
   "cell_type": "code",
   "execution_count": 3,
   "id": "463803e0",
   "metadata": {},
   "outputs": [],
   "source": [
    "conn = psycopg2.connect(**db_params)\n"
   ]
  },
  {
   "cell_type": "code",
   "execution_count": 4,
   "id": "92959e76",
   "metadata": {},
   "outputs": [],
   "source": [
    "query = \"SELECT * FROM user_nodes_cleaned;\"  # Replace \"your_table\" with the actual table name\n",
    "user_nodes = pd.read_sql_query(query, conn)\n"
   ]
  },
  {
   "cell_type": "code",
   "execution_count": 5,
   "id": "5363816e",
   "metadata": {},
   "outputs": [
    {
     "data": {
      "text/html": [
       "<div>\n",
       "<style scoped>\n",
       "    .dataframe tbody tr th:only-of-type {\n",
       "        vertical-align: middle;\n",
       "    }\n",
       "\n",
       "    .dataframe tbody tr th {\n",
       "        vertical-align: top;\n",
       "    }\n",
       "\n",
       "    .dataframe thead th {\n",
       "        text-align: right;\n",
       "    }\n",
       "</style>\n",
       "<table border=\"1\" class=\"dataframe\">\n",
       "  <thead>\n",
       "    <tr style=\"text-align: right;\">\n",
       "      <th></th>\n",
       "      <th>consumer_id</th>\n",
       "      <th>region_id</th>\n",
       "      <th>node_id</th>\n",
       "      <th>start_date</th>\n",
       "      <th>end_date</th>\n",
       "    </tr>\n",
       "  </thead>\n",
       "  <tbody>\n",
       "    <tr>\n",
       "      <th>0</th>\n",
       "      <td>1</td>\n",
       "      <td>3</td>\n",
       "      <td>4</td>\n",
       "      <td>2020-01-02</td>\n",
       "      <td>2020-01-03</td>\n",
       "    </tr>\n",
       "    <tr>\n",
       "      <th>1</th>\n",
       "      <td>2</td>\n",
       "      <td>3</td>\n",
       "      <td>5</td>\n",
       "      <td>2020-01-03</td>\n",
       "      <td>2020-01-17</td>\n",
       "    </tr>\n",
       "    <tr>\n",
       "      <th>2</th>\n",
       "      <td>3</td>\n",
       "      <td>5</td>\n",
       "      <td>4</td>\n",
       "      <td>2020-01-27</td>\n",
       "      <td>2020-02-18</td>\n",
       "    </tr>\n",
       "    <tr>\n",
       "      <th>3</th>\n",
       "      <td>4</td>\n",
       "      <td>5</td>\n",
       "      <td>4</td>\n",
       "      <td>2020-01-07</td>\n",
       "      <td>2020-01-19</td>\n",
       "    </tr>\n",
       "    <tr>\n",
       "      <th>4</th>\n",
       "      <td>5</td>\n",
       "      <td>3</td>\n",
       "      <td>3</td>\n",
       "      <td>2020-01-15</td>\n",
       "      <td>2020-01-23</td>\n",
       "    </tr>\n",
       "    <tr>\n",
       "      <th>...</th>\n",
       "      <td>...</td>\n",
       "      <td>...</td>\n",
       "      <td>...</td>\n",
       "      <td>...</td>\n",
       "      <td>...</td>\n",
       "    </tr>\n",
       "    <tr>\n",
       "      <th>3495</th>\n",
       "      <td>496</td>\n",
       "      <td>3</td>\n",
       "      <td>4</td>\n",
       "      <td>2020-02-25</td>\n",
       "      <td>2021-12-31</td>\n",
       "    </tr>\n",
       "    <tr>\n",
       "      <th>3496</th>\n",
       "      <td>497</td>\n",
       "      <td>5</td>\n",
       "      <td>4</td>\n",
       "      <td>2020-05-27</td>\n",
       "      <td>2021-12-31</td>\n",
       "    </tr>\n",
       "    <tr>\n",
       "      <th>3497</th>\n",
       "      <td>498</td>\n",
       "      <td>1</td>\n",
       "      <td>2</td>\n",
       "      <td>2020-04-05</td>\n",
       "      <td>2021-12-31</td>\n",
       "    </tr>\n",
       "    <tr>\n",
       "      <th>3498</th>\n",
       "      <td>499</td>\n",
       "      <td>5</td>\n",
       "      <td>1</td>\n",
       "      <td>2020-02-03</td>\n",
       "      <td>2021-12-31</td>\n",
       "    </tr>\n",
       "    <tr>\n",
       "      <th>3499</th>\n",
       "      <td>500</td>\n",
       "      <td>2</td>\n",
       "      <td>2</td>\n",
       "      <td>2020-04-15</td>\n",
       "      <td>2021-12-31</td>\n",
       "    </tr>\n",
       "  </tbody>\n",
       "</table>\n",
       "<p>3500 rows × 5 columns</p>\n",
       "</div>"
      ],
      "text/plain": [
       "      consumer_id  region_id  node_id  start_date    end_date\n",
       "0               1          3        4  2020-01-02  2020-01-03\n",
       "1               2          3        5  2020-01-03  2020-01-17\n",
       "2               3          5        4  2020-01-27  2020-02-18\n",
       "3               4          5        4  2020-01-07  2020-01-19\n",
       "4               5          3        3  2020-01-15  2020-01-23\n",
       "...           ...        ...      ...         ...         ...\n",
       "3495          496          3        4  2020-02-25  2021-12-31\n",
       "3496          497          5        4  2020-05-27  2021-12-31\n",
       "3497          498          1        2  2020-04-05  2021-12-31\n",
       "3498          499          5        1  2020-02-03  2021-12-31\n",
       "3499          500          2        2  2020-04-15  2021-12-31\n",
       "\n",
       "[3500 rows x 5 columns]"
      ]
     },
     "execution_count": 5,
     "metadata": {},
     "output_type": "execute_result"
    }
   ],
   "source": [
    "user_nodes"
   ]
  },
  {
   "cell_type": "code",
   "execution_count": 6,
   "id": "169e0a98",
   "metadata": {},
   "outputs": [
    {
     "data": {
      "text/plain": [
       "consumer_id    0\n",
       "region_id      0\n",
       "node_id        0\n",
       "start_date     0\n",
       "end_date       0\n",
       "dtype: int64"
      ]
     },
     "execution_count": 6,
     "metadata": {},
     "output_type": "execute_result"
    }
   ],
   "source": [
    "user_nodes.isnull().sum()"
   ]
  },
  {
   "cell_type": "code",
   "execution_count": null,
   "id": "9422c382",
   "metadata": {},
   "outputs": [],
   "source": []
  },
  {
   "cell_type": "code",
   "execution_count": 7,
   "id": "1b39845b",
   "metadata": {},
   "outputs": [],
   "source": [
    "query = \"SELECT * FROM user_transaction_cleaned;\"  # Replace \"your_table\" with the actual table name\n",
    "user_transaction = pd.read_sql_query(query, conn)\n"
   ]
  },
  {
   "cell_type": "code",
   "execution_count": 8,
   "id": "04cb92b3",
   "metadata": {},
   "outputs": [
    {
     "data": {
      "text/html": [
       "<div>\n",
       "<style scoped>\n",
       "    .dataframe tbody tr th:only-of-type {\n",
       "        vertical-align: middle;\n",
       "    }\n",
       "\n",
       "    .dataframe tbody tr th {\n",
       "        vertical-align: top;\n",
       "    }\n",
       "\n",
       "    .dataframe thead th {\n",
       "        text-align: right;\n",
       "    }\n",
       "</style>\n",
       "<table border=\"1\" class=\"dataframe\">\n",
       "  <thead>\n",
       "    <tr style=\"text-align: right;\">\n",
       "      <th></th>\n",
       "      <th>consumer_id</th>\n",
       "      <th>transaction_date</th>\n",
       "      <th>transaction_type</th>\n",
       "      <th>transaction_amount</th>\n",
       "    </tr>\n",
       "  </thead>\n",
       "  <tbody>\n",
       "    <tr>\n",
       "      <th>0</th>\n",
       "      <td>312</td>\n",
       "      <td>2020-01-20</td>\n",
       "      <td>deposit</td>\n",
       "      <td>485.0</td>\n",
       "    </tr>\n",
       "    <tr>\n",
       "      <th>1</th>\n",
       "      <td>376</td>\n",
       "      <td>2020-01-03</td>\n",
       "      <td>deposit</td>\n",
       "      <td>706.0</td>\n",
       "    </tr>\n",
       "    <tr>\n",
       "      <th>2</th>\n",
       "      <td>188</td>\n",
       "      <td>2020-01-13</td>\n",
       "      <td>deposit</td>\n",
       "      <td>601.0</td>\n",
       "    </tr>\n",
       "    <tr>\n",
       "      <th>3</th>\n",
       "      <td>138</td>\n",
       "      <td>2020-01-11</td>\n",
       "      <td>deposit</td>\n",
       "      <td>520.0</td>\n",
       "    </tr>\n",
       "    <tr>\n",
       "      <th>4</th>\n",
       "      <td>373</td>\n",
       "      <td>2020-01-18</td>\n",
       "      <td>deposit</td>\n",
       "      <td>596.0</td>\n",
       "    </tr>\n",
       "    <tr>\n",
       "      <th>...</th>\n",
       "      <td>...</td>\n",
       "      <td>...</td>\n",
       "      <td>...</td>\n",
       "      <td>...</td>\n",
       "    </tr>\n",
       "    <tr>\n",
       "      <th>5863</th>\n",
       "      <td>155</td>\n",
       "      <td>2020-01-10</td>\n",
       "      <td>deposit</td>\n",
       "      <td>712.0</td>\n",
       "    </tr>\n",
       "    <tr>\n",
       "      <th>5864</th>\n",
       "      <td>398</td>\n",
       "      <td>2020-01-01</td>\n",
       "      <td>deposit</td>\n",
       "      <td>196.0</td>\n",
       "    </tr>\n",
       "    <tr>\n",
       "      <th>5865</th>\n",
       "      <td>255</td>\n",
       "      <td>2020-01-14</td>\n",
       "      <td>deposit</td>\n",
       "      <td>563.0</td>\n",
       "    </tr>\n",
       "    <tr>\n",
       "      <th>5866</th>\n",
       "      <td>185</td>\n",
       "      <td>2020-01-29</td>\n",
       "      <td>deposit</td>\n",
       "      <td>626.0</td>\n",
       "    </tr>\n",
       "    <tr>\n",
       "      <th>5867</th>\n",
       "      <td>309</td>\n",
       "      <td>2020-01-13</td>\n",
       "      <td>deposit</td>\n",
       "      <td>995.0</td>\n",
       "    </tr>\n",
       "  </tbody>\n",
       "</table>\n",
       "<p>5868 rows × 4 columns</p>\n",
       "</div>"
      ],
      "text/plain": [
       "      consumer_id transaction_date transaction_type  transaction_amount\n",
       "0             312       2020-01-20          deposit               485.0\n",
       "1             376       2020-01-03          deposit               706.0\n",
       "2             188       2020-01-13          deposit               601.0\n",
       "3             138       2020-01-11          deposit               520.0\n",
       "4             373       2020-01-18          deposit               596.0\n",
       "...           ...              ...              ...                 ...\n",
       "5863          155       2020-01-10          deposit               712.0\n",
       "5864          398       2020-01-01          deposit               196.0\n",
       "5865          255       2020-01-14          deposit               563.0\n",
       "5866          185       2020-01-29          deposit               626.0\n",
       "5867          309       2020-01-13          deposit               995.0\n",
       "\n",
       "[5868 rows x 4 columns]"
      ]
     },
     "execution_count": 8,
     "metadata": {},
     "output_type": "execute_result"
    }
   ],
   "source": [
    "user_transaction"
   ]
  },
  {
   "cell_type": "code",
   "execution_count": 9,
   "id": "0103aa5f",
   "metadata": {},
   "outputs": [
    {
     "data": {
      "text/plain": [
       "consumer_id           0\n",
       "transaction_date      0\n",
       "transaction_type      0\n",
       "transaction_amount    0\n",
       "dtype: int64"
      ]
     },
     "execution_count": 9,
     "metadata": {},
     "output_type": "execute_result"
    }
   ],
   "source": [
    "user_transaction.isnull().sum()"
   ]
  },
  {
   "cell_type": "code",
   "execution_count": null,
   "id": "97d307bd",
   "metadata": {},
   "outputs": [],
   "source": []
  },
  {
   "cell_type": "code",
   "execution_count": 10,
   "id": "bd1c92ce",
   "metadata": {},
   "outputs": [],
   "source": [
    "query = \"SELECT * FROM world_regions;\"  # Replace \"your_table\" with the actual table name\n",
    "world_regions = pd.read_sql_query(query, conn)"
   ]
  },
  {
   "cell_type": "code",
   "execution_count": 11,
   "id": "36cabcfe",
   "metadata": {},
   "outputs": [
    {
     "data": {
      "text/html": [
       "<div>\n",
       "<style scoped>\n",
       "    .dataframe tbody tr th:only-of-type {\n",
       "        vertical-align: middle;\n",
       "    }\n",
       "\n",
       "    .dataframe tbody tr th {\n",
       "        vertical-align: top;\n",
       "    }\n",
       "\n",
       "    .dataframe thead th {\n",
       "        text-align: right;\n",
       "    }\n",
       "</style>\n",
       "<table border=\"1\" class=\"dataframe\">\n",
       "  <thead>\n",
       "    <tr style=\"text-align: right;\">\n",
       "      <th></th>\n",
       "      <th>region_code</th>\n",
       "      <th>region_name</th>\n",
       "    </tr>\n",
       "  </thead>\n",
       "  <tbody>\n",
       "    <tr>\n",
       "      <th>0</th>\n",
       "      <td>1</td>\n",
       "      <td>United States</td>\n",
       "    </tr>\n",
       "    <tr>\n",
       "      <th>1</th>\n",
       "      <td>2</td>\n",
       "      <td>Europe</td>\n",
       "    </tr>\n",
       "    <tr>\n",
       "      <th>2</th>\n",
       "      <td>3</td>\n",
       "      <td>Australia</td>\n",
       "    </tr>\n",
       "    <tr>\n",
       "      <th>3</th>\n",
       "      <td>4</td>\n",
       "      <td>Asia</td>\n",
       "    </tr>\n",
       "    <tr>\n",
       "      <th>4</th>\n",
       "      <td>5</td>\n",
       "      <td>Africa</td>\n",
       "    </tr>\n",
       "    <tr>\n",
       "      <th>5</th>\n",
       "      <td>6</td>\n",
       "      <td>Russia</td>\n",
       "    </tr>\n",
       "    <tr>\n",
       "      <th>6</th>\n",
       "      <td>7</td>\n",
       "      <td>China</td>\n",
       "    </tr>\n",
       "  </tbody>\n",
       "</table>\n",
       "</div>"
      ],
      "text/plain": [
       "   region_code    region_name\n",
       "0            1  United States\n",
       "1            2         Europe\n",
       "2            3      Australia\n",
       "3            4           Asia\n",
       "4            5         Africa\n",
       "5            6         Russia\n",
       "6            7          China"
      ]
     },
     "execution_count": 11,
     "metadata": {},
     "output_type": "execute_result"
    }
   ],
   "source": [
    "world_regions"
   ]
  },
  {
   "cell_type": "code",
   "execution_count": 12,
   "id": "ded197a7",
   "metadata": {},
   "outputs": [
    {
     "data": {
      "text/plain": [
       "region_code    0\n",
       "region_name    0\n",
       "dtype: int64"
      ]
     },
     "execution_count": 12,
     "metadata": {},
     "output_type": "execute_result"
    }
   ],
   "source": [
    "world_regions.isnull().sum()"
   ]
  },
  {
   "cell_type": "code",
   "execution_count": null,
   "id": "1baa62de",
   "metadata": {},
   "outputs": [],
   "source": []
  },
  {
   "cell_type": "markdown",
   "id": "f8558ebc",
   "metadata": {},
   "source": [
    "# Exploratory Analysis"
   ]
  },
  {
   "cell_type": "markdown",
   "id": "2f4bfdc8",
   "metadata": {},
   "source": [
    "Task 1:List all regions along with the number of users assigned to each region.\n"
   ]
  },
  {
   "cell_type": "code",
   "execution_count": 13,
   "id": "3ecffd7e",
   "metadata": {},
   "outputs": [],
   "source": [
    "query =\"\"\"SELECT\n",
    "    wr.region_name AS Region,\n",
    "    COUNT(DISTINCT un.consumer_id) AS NumberOfUsers\n",
    "FROM\n",
    "    world_regions wr\n",
    "LEFT JOIN\n",
    "    user_nodes_cleaned un\n",
    "ON\n",
    "    wr.region_code = un.region_id\n",
    "GROUP BY\n",
    "    wr.region_name\n",
    "ORDER BY\n",
    "    NumberOfUsers DESC;\n",
    "\n",
    "\"\"\""
   ]
  },
  {
   "cell_type": "code",
   "execution_count": 14,
   "id": "69793119",
   "metadata": {},
   "outputs": [],
   "source": [
    "regions=  pd.read_sql_query(query, conn)"
   ]
  },
  {
   "cell_type": "code",
   "execution_count": 15,
   "id": "a2f2f460",
   "metadata": {},
   "outputs": [
    {
     "data": {
      "text/html": [
       "<div>\n",
       "<style scoped>\n",
       "    .dataframe tbody tr th:only-of-type {\n",
       "        vertical-align: middle;\n",
       "    }\n",
       "\n",
       "    .dataframe tbody tr th {\n",
       "        vertical-align: top;\n",
       "    }\n",
       "\n",
       "    .dataframe thead th {\n",
       "        text-align: right;\n",
       "    }\n",
       "</style>\n",
       "<table border=\"1\" class=\"dataframe\">\n",
       "  <thead>\n",
       "    <tr style=\"text-align: right;\">\n",
       "      <th></th>\n",
       "      <th>region</th>\n",
       "      <th>numberofusers</th>\n",
       "    </tr>\n",
       "  </thead>\n",
       "  <tbody>\n",
       "    <tr>\n",
       "      <th>0</th>\n",
       "      <td>United States</td>\n",
       "      <td>110</td>\n",
       "    </tr>\n",
       "    <tr>\n",
       "      <th>1</th>\n",
       "      <td>Europe</td>\n",
       "      <td>105</td>\n",
       "    </tr>\n",
       "    <tr>\n",
       "      <th>2</th>\n",
       "      <td>Australia</td>\n",
       "      <td>102</td>\n",
       "    </tr>\n",
       "    <tr>\n",
       "      <th>3</th>\n",
       "      <td>Asia</td>\n",
       "      <td>95</td>\n",
       "    </tr>\n",
       "    <tr>\n",
       "      <th>4</th>\n",
       "      <td>Africa</td>\n",
       "      <td>88</td>\n",
       "    </tr>\n",
       "    <tr>\n",
       "      <th>5</th>\n",
       "      <td>China</td>\n",
       "      <td>0</td>\n",
       "    </tr>\n",
       "    <tr>\n",
       "      <th>6</th>\n",
       "      <td>Russia</td>\n",
       "      <td>0</td>\n",
       "    </tr>\n",
       "  </tbody>\n",
       "</table>\n",
       "</div>"
      ],
      "text/plain": [
       "          region  numberofusers\n",
       "0  United States            110\n",
       "1         Europe            105\n",
       "2      Australia            102\n",
       "3           Asia             95\n",
       "4         Africa             88\n",
       "5          China              0\n",
       "6         Russia              0"
      ]
     },
     "execution_count": 15,
     "metadata": {},
     "output_type": "execute_result"
    }
   ],
   "source": [
    "regions "
   ]
  },
  {
   "cell_type": "code",
   "execution_count": 16,
   "id": "d7645ad4",
   "metadata": {},
   "outputs": [],
   "source": [
    "#conn.close()"
   ]
  },
  {
   "cell_type": "code",
   "execution_count": 17,
   "id": "b76dde94",
   "metadata": {},
   "outputs": [
    {
     "data": {
      "text/plain": [
       "Text(0.5, 1.0, 'Number of Users by Region')"
      ]
     },
     "execution_count": 17,
     "metadata": {},
     "output_type": "execute_result"
    },
    {
     "data": {
      "image/png": "[encoded data removed]",
      "text/plain": [
       "<Figure size 432x288 with 1 Axes>"
      ]
     },
     "metadata": {
      "needs_background": "light"
     },
     "output_type": "display_data"
    }
   ],
   "source": [
    "plt.bar(x=regions['region'], height=regions['numberofusers'])\n",
    "plt.xlabel('Region')\n",
    "plt.ylabel('Number of Users')\n",
    "plt.title('Number of Users by Region')\n"
   ]
  },
  {
   "cell_type": "markdown",
   "id": "22c0be58",
   "metadata": {},
   "source": [
    "Task 2:\n",
    "Find the user who made the largest deposit amount and the transaction type for that deposit."
   ]
  },
  {
   "cell_type": "code",
   "execution_count": 18,
   "id": "a6eb9c95",
   "metadata": {},
   "outputs": [],
   "source": [
    "query = \"\"\"SELECT consumer_id,transaction_type,transaction_amount FROM user_transaction_cleaned WHERE transaction_amount = (select MAX(transaction_amount) from user_transaction_cleaned);\n",
    "\"\"\""
   ]
  },
  {
   "cell_type": "code",
   "execution_count": 19,
   "id": "29f81539",
   "metadata": {},
   "outputs": [],
   "source": [
    "largest_amount= pd.read_sql_query(query, conn)"
   ]
  },
  {
   "cell_type": "code",
   "execution_count": 20,
   "id": "a7e3abef",
   "metadata": {},
   "outputs": [
    {
     "data": {
      "text/html": [
       "<div>\n",
       "<style scoped>\n",
       "    .dataframe tbody tr th:only-of-type {\n",
       "        vertical-align: middle;\n",
       "    }\n",
       "\n",
       "    .dataframe tbody tr th {\n",
       "        vertical-align: top;\n",
       "    }\n",
       "\n",
       "    .dataframe thead th {\n",
       "        text-align: right;\n",
       "    }\n",
       "</style>\n",
       "<table border=\"1\" class=\"dataframe\">\n",
       "  <thead>\n",
       "    <tr style=\"text-align: right;\">\n",
       "      <th></th>\n",
       "      <th>consumer_id</th>\n",
       "      <th>transaction_type</th>\n",
       "      <th>transaction_amount</th>\n",
       "    </tr>\n",
       "  </thead>\n",
       "  <tbody>\n",
       "    <tr>\n",
       "      <th>0</th>\n",
       "      <td>218</td>\n",
       "      <td>deposit</td>\n",
       "      <td>1000.0</td>\n",
       "    </tr>\n",
       "    <tr>\n",
       "      <th>1</th>\n",
       "      <td>219</td>\n",
       "      <td>deposit</td>\n",
       "      <td>1000.0</td>\n",
       "    </tr>\n",
       "  </tbody>\n",
       "</table>\n",
       "</div>"
      ],
      "text/plain": [
       "   consumer_id transaction_type  transaction_amount\n",
       "0          218          deposit              1000.0\n",
       "1          219          deposit              1000.0"
      ]
     },
     "execution_count": 20,
     "metadata": {},
     "output_type": "execute_result"
    }
   ],
   "source": [
    "largest_amount"
   ]
  },
  {
   "cell_type": "code",
   "execution_count": 21,
   "id": "426a5cec",
   "metadata": {},
   "outputs": [
    {
     "data": {
      "image/png": "[encoded data removed]",
      "text/plain": [
       "<Figure size 432x288 with 1 Axes>"
      ]
     },
     "metadata": {
      "needs_background": "light"
     },
     "output_type": "display_data"
    }
   ],
   "source": [
    "sns.kdeplot(data=largest_amount, x='consumer_id', hue='transaction_type', common_norm=False)\n",
    "plt.title(\"KDE Plot of Consumer ID by Transaction Type\")\n",
    "plt.xlabel(\"Consumer ID\")\n",
    "plt.ylabel(\"Density\")\n",
    "plt.show()\n"
   ]
  },
  {
   "cell_type": "markdown",
   "id": "be6dec25",
   "metadata": {},
   "source": [
    "Task 3: \n",
    "Calculate the total amount deposited for each user in the \"Europe\" region."
   ]
  },
  {
   "cell_type": "code",
   "execution_count": 100,
   "id": "74ba6c4f",
   "metadata": {},
   "outputs": [],
   "source": [
    "query =\"\"\"SELECT ut.consumer_id AS user, SUM(ut.transaction_amount) AS total_amount_deposited\n",
    "FROM user_transaction_cleaned ut\n",
    "JOIN user_nodes_cleaned ur ON ut.consumer_id = ur.consumer_id\n",
    "JOIN world_regions wr ON wr.region_code = ur.region_id\n",
    "WHERE wr.region_name = 'Europe'\n",
    "GROUP BY ut.consumer_id\n",
    "ORDER BY total_amount_deposited desc;\n",
    "\"\"\""
   ]
  },
  {
   "cell_type": "code",
   "execution_count": 101,
   "id": "8854cdde",
   "metadata": {},
   "outputs": [],
   "source": [
    "europe_deposit= pd.read_sql_query(query, conn)"
   ]
  },
  {
   "cell_type": "code",
   "execution_count": 102,
   "id": "5bae3545",
   "metadata": {},
   "outputs": [
    {
     "data": {
      "text/html": [
       "<div>\n",
       "<style scoped>\n",
       "    .dataframe tbody tr th:only-of-type {\n",
       "        vertical-align: middle;\n",
       "    }\n",
       "\n",
       "    .dataframe tbody tr th {\n",
       "        vertical-align: top;\n",
       "    }\n",
       "\n",
       "    .dataframe thead th {\n",
       "        text-align: right;\n",
       "    }\n",
       "</style>\n",
       "<table border=\"1\" class=\"dataframe\">\n",
       "  <thead>\n",
       "    <tr style=\"text-align: right;\">\n",
       "      <th></th>\n",
       "      <th>user</th>\n",
       "      <th>total_amount_deposited</th>\n",
       "    </tr>\n",
       "  </thead>\n",
       "  <tbody>\n",
       "    <tr>\n",
       "      <th>0</th>\n",
       "      <td>197</td>\n",
       "      <td>87563.0</td>\n",
       "    </tr>\n",
       "    <tr>\n",
       "      <th>1</th>\n",
       "      <td>281</td>\n",
       "      <td>86184.0</td>\n",
       "    </tr>\n",
       "    <tr>\n",
       "      <th>2</th>\n",
       "      <td>76</td>\n",
       "      <td>77889.0</td>\n",
       "    </tr>\n",
       "    <tr>\n",
       "      <th>3</th>\n",
       "      <td>275</td>\n",
       "      <td>77049.0</td>\n",
       "    </tr>\n",
       "    <tr>\n",
       "      <th>4</th>\n",
       "      <td>110</td>\n",
       "      <td>76447.0</td>\n",
       "    </tr>\n",
       "    <tr>\n",
       "      <th>...</th>\n",
       "      <td>...</td>\n",
       "      <td>...</td>\n",
       "    </tr>\n",
       "    <tr>\n",
       "      <th>100</th>\n",
       "      <td>62</td>\n",
       "      <td>8393.0</td>\n",
       "    </tr>\n",
       "    <tr>\n",
       "      <th>101</th>\n",
       "      <td>263</td>\n",
       "      <td>8190.0</td>\n",
       "    </tr>\n",
       "    <tr>\n",
       "      <th>102</th>\n",
       "      <td>99</td>\n",
       "      <td>8127.0</td>\n",
       "    </tr>\n",
       "    <tr>\n",
       "      <th>103</th>\n",
       "      <td>162</td>\n",
       "      <td>8092.0</td>\n",
       "    </tr>\n",
       "    <tr>\n",
       "      <th>104</th>\n",
       "      <td>133</td>\n",
       "      <td>6482.0</td>\n",
       "    </tr>\n",
       "  </tbody>\n",
       "</table>\n",
       "<p>105 rows × 2 columns</p>\n",
       "</div>"
      ],
      "text/plain": [
       "     user  total_amount_deposited\n",
       "0     197                 87563.0\n",
       "1     281                 86184.0\n",
       "2      76                 77889.0\n",
       "3     275                 77049.0\n",
       "4     110                 76447.0\n",
       "..    ...                     ...\n",
       "100    62                  8393.0\n",
       "101   263                  8190.0\n",
       "102    99                  8127.0\n",
       "103   162                  8092.0\n",
       "104   133                  6482.0\n",
       "\n",
       "[105 rows x 2 columns]"
      ]
     },
     "execution_count": 102,
     "metadata": {},
     "output_type": "execute_result"
    }
   ],
   "source": [
    "europe_deposit"
   ]
  },
  {
   "cell_type": "code",
   "execution_count": 119,
   "id": "62a812a7",
   "metadata": {},
   "outputs": [],
   "source": [
    "# plt.bar(europe_deposit['user'], europe_deposit['total_amount_deposited'])\n",
    "# plt.xlabel('User')\n",
    "# plt.ylabel('Total Amount Deposited')\n",
    "# plt.title('Total Amount Deposited by User')\n",
    "# plt.show()"
   ]
  },
  {
   "cell_type": "code",
   "execution_count": 108,
   "id": "c139b8f8",
   "metadata": {},
   "outputs": [],
   "source": [
    "highset_deposit = europe_deposit.head(5)"
   ]
  },
  {
   "cell_type": "code",
   "execution_count": 109,
   "id": "6cef3b46",
   "metadata": {},
   "outputs": [
    {
     "data": {
      "text/html": [
       "<div>\n",
       "<style scoped>\n",
       "    .dataframe tbody tr th:only-of-type {\n",
       "        vertical-align: middle;\n",
       "    }\n",
       "\n",
       "    .dataframe tbody tr th {\n",
       "        vertical-align: top;\n",
       "    }\n",
       "\n",
       "    .dataframe thead th {\n",
       "        text-align: right;\n",
       "    }\n",
       "</style>\n",
       "<table border=\"1\" class=\"dataframe\">\n",
       "  <thead>\n",
       "    <tr style=\"text-align: right;\">\n",
       "      <th></th>\n",
       "      <th>user</th>\n",
       "      <th>total_amount_deposited</th>\n",
       "    </tr>\n",
       "  </thead>\n",
       "  <tbody>\n",
       "    <tr>\n",
       "      <th>0</th>\n",
       "      <td>197</td>\n",
       "      <td>87563.0</td>\n",
       "    </tr>\n",
       "    <tr>\n",
       "      <th>1</th>\n",
       "      <td>281</td>\n",
       "      <td>86184.0</td>\n",
       "    </tr>\n",
       "    <tr>\n",
       "      <th>2</th>\n",
       "      <td>76</td>\n",
       "      <td>77889.0</td>\n",
       "    </tr>\n",
       "    <tr>\n",
       "      <th>3</th>\n",
       "      <td>275</td>\n",
       "      <td>77049.0</td>\n",
       "    </tr>\n",
       "    <tr>\n",
       "      <th>4</th>\n",
       "      <td>110</td>\n",
       "      <td>76447.0</td>\n",
       "    </tr>\n",
       "  </tbody>\n",
       "</table>\n",
       "</div>"
      ],
      "text/plain": [
       "   user  total_amount_deposited\n",
       "0   197                 87563.0\n",
       "1   281                 86184.0\n",
       "2    76                 77889.0\n",
       "3   275                 77049.0\n",
       "4   110                 76447.0"
      ]
     },
     "execution_count": 109,
     "metadata": {},
     "output_type": "execute_result"
    }
   ],
   "source": [
    "highset_deposit"
   ]
  },
  {
   "cell_type": "code",
   "execution_count": 110,
   "id": "ad52687e",
   "metadata": {},
   "outputs": [
    {
     "data": {
      "image/png": "[encoded data removed]",
      "text/plain": [
       "<Figure size 576x432 with 2 Axes>"
      ]
     },
     "metadata": {
      "needs_background": "light"
     },
     "output_type": "display_data"
    }
   ],
   "source": [
    "contingency_table = pd.crosstab(highset_deposit[\"user\"], highset_deposit[\"total_amount_deposited\"])\n",
    "fig = plt.figure(figsize=(8, 6))\n",
    "fig.suptitle('Contingency Table of 5 Highest Deposit by User')\n",
    "sns.heatmap(contingency_table, annot=True, cmap=\"YlGnBu\")\n",
    "fig.savefig('user_transactions_heatmap.jpg', dpi=300)\n",
    "plt.show()"
   ]
  },
  {
   "cell_type": "code",
   "execution_count": 111,
   "id": "f2720127",
   "metadata": {},
   "outputs": [],
   "source": [
    "lowest_deposit = europe_deposit.tail(5)"
   ]
  },
  {
   "cell_type": "code",
   "execution_count": 112,
   "id": "933dcf08",
   "metadata": {},
   "outputs": [
    {
     "data": {
      "text/html": [
       "<div>\n",
       "<style scoped>\n",
       "    .dataframe tbody tr th:only-of-type {\n",
       "        vertical-align: middle;\n",
       "    }\n",
       "\n",
       "    .dataframe tbody tr th {\n",
       "        vertical-align: top;\n",
       "    }\n",
       "\n",
       "    .dataframe thead th {\n",
       "        text-align: right;\n",
       "    }\n",
       "</style>\n",
       "<table border=\"1\" class=\"dataframe\">\n",
       "  <thead>\n",
       "    <tr style=\"text-align: right;\">\n",
       "      <th></th>\n",
       "      <th>user</th>\n",
       "      <th>total_amount_deposited</th>\n",
       "    </tr>\n",
       "  </thead>\n",
       "  <tbody>\n",
       "    <tr>\n",
       "      <th>100</th>\n",
       "      <td>62</td>\n",
       "      <td>8393.0</td>\n",
       "    </tr>\n",
       "    <tr>\n",
       "      <th>101</th>\n",
       "      <td>263</td>\n",
       "      <td>8190.0</td>\n",
       "    </tr>\n",
       "    <tr>\n",
       "      <th>102</th>\n",
       "      <td>99</td>\n",
       "      <td>8127.0</td>\n",
       "    </tr>\n",
       "    <tr>\n",
       "      <th>103</th>\n",
       "      <td>162</td>\n",
       "      <td>8092.0</td>\n",
       "    </tr>\n",
       "    <tr>\n",
       "      <th>104</th>\n",
       "      <td>133</td>\n",
       "      <td>6482.0</td>\n",
       "    </tr>\n",
       "  </tbody>\n",
       "</table>\n",
       "</div>"
      ],
      "text/plain": [
       "     user  total_amount_deposited\n",
       "100    62                  8393.0\n",
       "101   263                  8190.0\n",
       "102    99                  8127.0\n",
       "103   162                  8092.0\n",
       "104   133                  6482.0"
      ]
     },
     "execution_count": 112,
     "metadata": {},
     "output_type": "execute_result"
    }
   ],
   "source": [
    "lowest_deposit"
   ]
  },
  {
   "cell_type": "code",
   "execution_count": 113,
   "id": "cf6860d1",
   "metadata": {},
   "outputs": [
    {
     "data": {
      "image/png": "[encoded data removed]",
      "text/plain": [
       "<Figure size 576x432 with 2 Axes>"
      ]
     },
     "metadata": {
      "needs_background": "light"
     },
     "output_type": "display_data"
    }
   ],
   "source": [
    "contingency_table = pd.crosstab(lowest_deposit[\"user\"], lowest_deposit[\"total_amount_deposited\"])\n",
    "fig = plt.figure(figsize=(8, 6))\n",
    "fig.suptitle('Contingency Table of 5 Highest Deposit by User')\n",
    "sns.heatmap(contingency_table, annot=True, cmap=\"YlGnBu\")\n",
    "fig.savefig('user_transactions_heatmap.jpg', dpi=300)\n",
    "plt.show()"
   ]
  },
  {
   "cell_type": "code",
   "execution_count": null,
   "id": "f5ba4b9d",
   "metadata": {},
   "outputs": [],
   "source": []
  },
  {
   "cell_type": "markdown",
   "id": "dfdf4ad6",
   "metadata": {},
   "source": [
    "TASK 4:\n",
    "Calculate the total number of transactions made by each user in the \"United States\" region."
   ]
  },
  {
   "cell_type": "code",
   "execution_count": 89,
   "id": "4d471455",
   "metadata": {},
   "outputs": [],
   "source": [
    "query = \"\"\"SELECT ut.consumer_id AS user, COUNT(ut.consumer_id) AS total_transactions\n",
    "FROM user_transaction_cleaned ut\n",
    "JOIN user_nodes_cleaned ur ON ut.consumer_id = ur.consumer_id\n",
    "JOIN world_regions wr ON wr.region_code = ur.region_id\n",
    "WHERE wr.region_name = 'United States'\n",
    "GROUP BY ut.consumer_id\n",
    "ORDER BY total_transactions DESC;\n",
    "\"\"\""
   ]
  },
  {
   "cell_type": "code",
   "execution_count": 90,
   "id": "9a8e63d1",
   "metadata": {},
   "outputs": [],
   "source": [
    "usa_transaction = pd.read_sql_query(query,conn)"
   ]
  },
  {
   "cell_type": "code",
   "execution_count": 91,
   "id": "6c2b035d",
   "metadata": {},
   "outputs": [
    {
     "data": {
      "text/html": [
       "<div>\n",
       "<style scoped>\n",
       "    .dataframe tbody tr th:only-of-type {\n",
       "        vertical-align: middle;\n",
       "    }\n",
       "\n",
       "    .dataframe tbody tr th {\n",
       "        vertical-align: top;\n",
       "    }\n",
       "\n",
       "    .dataframe thead th {\n",
       "        text-align: right;\n",
       "    }\n",
       "</style>\n",
       "<table border=\"1\" class=\"dataframe\">\n",
       "  <thead>\n",
       "    <tr style=\"text-align: right;\">\n",
       "      <th></th>\n",
       "      <th>user</th>\n",
       "      <th>total_transactions</th>\n",
       "    </tr>\n",
       "  </thead>\n",
       "  <tbody>\n",
       "    <tr>\n",
       "      <th>0</th>\n",
       "      <td>69</td>\n",
       "      <td>154</td>\n",
       "    </tr>\n",
       "    <tr>\n",
       "      <th>1</th>\n",
       "      <td>284</td>\n",
       "      <td>154</td>\n",
       "    </tr>\n",
       "    <tr>\n",
       "      <th>2</th>\n",
       "      <td>37</td>\n",
       "      <td>154</td>\n",
       "    </tr>\n",
       "    <tr>\n",
       "      <th>3</th>\n",
       "      <td>161</td>\n",
       "      <td>147</td>\n",
       "    </tr>\n",
       "    <tr>\n",
       "      <th>4</th>\n",
       "      <td>462</td>\n",
       "      <td>147</td>\n",
       "    </tr>\n",
       "    <tr>\n",
       "      <th>...</th>\n",
       "      <td>...</td>\n",
       "      <td>...</td>\n",
       "    </tr>\n",
       "    <tr>\n",
       "      <th>105</th>\n",
       "      <td>114</td>\n",
       "      <td>21</td>\n",
       "    </tr>\n",
       "    <tr>\n",
       "      <th>106</th>\n",
       "      <td>79</td>\n",
       "      <td>21</td>\n",
       "    </tr>\n",
       "    <tr>\n",
       "      <th>107</th>\n",
       "      <td>84</td>\n",
       "      <td>14</td>\n",
       "    </tr>\n",
       "    <tr>\n",
       "      <th>108</th>\n",
       "      <td>15</td>\n",
       "      <td>14</td>\n",
       "    </tr>\n",
       "    <tr>\n",
       "      <th>109</th>\n",
       "      <td>73</td>\n",
       "      <td>14</td>\n",
       "    </tr>\n",
       "  </tbody>\n",
       "</table>\n",
       "<p>110 rows × 2 columns</p>\n",
       "</div>"
      ],
      "text/plain": [
       "     user  total_transactions\n",
       "0      69                 154\n",
       "1     284                 154\n",
       "2      37                 154\n",
       "3     161                 147\n",
       "4     462                 147\n",
       "..    ...                 ...\n",
       "105   114                  21\n",
       "106    79                  21\n",
       "107    84                  14\n",
       "108    15                  14\n",
       "109    73                  14\n",
       "\n",
       "[110 rows x 2 columns]"
      ]
     },
     "execution_count": 91,
     "metadata": {},
     "output_type": "execute_result"
    }
   ],
   "source": [
    "usa_transaction"
   ]
  },
  {
   "cell_type": "code",
   "execution_count": 93,
   "id": "85f659c8",
   "metadata": {},
   "outputs": [],
   "source": [
    "highset_transaction = usa_transaction.head(10)"
   ]
  },
  {
   "cell_type": "code",
   "execution_count": 94,
   "id": "cd0ee59f",
   "metadata": {},
   "outputs": [
    {
     "data": {
      "text/html": [
       "<div>\n",
       "<style scoped>\n",
       "    .dataframe tbody tr th:only-of-type {\n",
       "        vertical-align: middle;\n",
       "    }\n",
       "\n",
       "    .dataframe tbody tr th {\n",
       "        vertical-align: top;\n",
       "    }\n",
       "\n",
       "    .dataframe thead th {\n",
       "        text-align: right;\n",
       "    }\n",
       "</style>\n",
       "<table border=\"1\" class=\"dataframe\">\n",
       "  <thead>\n",
       "    <tr style=\"text-align: right;\">\n",
       "      <th></th>\n",
       "      <th>user</th>\n",
       "      <th>total_transactions</th>\n",
       "    </tr>\n",
       "  </thead>\n",
       "  <tbody>\n",
       "    <tr>\n",
       "      <th>0</th>\n",
       "      <td>69</td>\n",
       "      <td>154</td>\n",
       "    </tr>\n",
       "    <tr>\n",
       "      <th>1</th>\n",
       "      <td>284</td>\n",
       "      <td>154</td>\n",
       "    </tr>\n",
       "    <tr>\n",
       "      <th>2</th>\n",
       "      <td>37</td>\n",
       "      <td>154</td>\n",
       "    </tr>\n",
       "    <tr>\n",
       "      <th>3</th>\n",
       "      <td>161</td>\n",
       "      <td>147</td>\n",
       "    </tr>\n",
       "    <tr>\n",
       "      <th>4</th>\n",
       "      <td>462</td>\n",
       "      <td>147</td>\n",
       "    </tr>\n",
       "    <tr>\n",
       "      <th>5</th>\n",
       "      <td>422</td>\n",
       "      <td>147</td>\n",
       "    </tr>\n",
       "    <tr>\n",
       "      <th>6</th>\n",
       "      <td>102</td>\n",
       "      <td>147</td>\n",
       "    </tr>\n",
       "    <tr>\n",
       "      <th>7</th>\n",
       "      <td>344</td>\n",
       "      <td>147</td>\n",
       "    </tr>\n",
       "    <tr>\n",
       "      <th>8</th>\n",
       "      <td>442</td>\n",
       "      <td>147</td>\n",
       "    </tr>\n",
       "    <tr>\n",
       "      <th>9</th>\n",
       "      <td>283</td>\n",
       "      <td>140</td>\n",
       "    </tr>\n",
       "  </tbody>\n",
       "</table>\n",
       "</div>"
      ],
      "text/plain": [
       "   user  total_transactions\n",
       "0    69                 154\n",
       "1   284                 154\n",
       "2    37                 154\n",
       "3   161                 147\n",
       "4   462                 147\n",
       "5   422                 147\n",
       "6   102                 147\n",
       "7   344                 147\n",
       "8   442                 147\n",
       "9   283                 140"
      ]
     },
     "execution_count": 94,
     "metadata": {},
     "output_type": "execute_result"
    }
   ],
   "source": [
    "highset_transaction"
   ]
  },
  {
   "cell_type": "code",
   "execution_count": 96,
   "id": "7384b0bc",
   "metadata": {},
   "outputs": [
    {
     "data": {
      "image/png": "[encoded data removed]",
      "text/plain": [
       "<Figure size 576x432 with 2 Axes>"
      ]
     },
     "metadata": {
      "needs_background": "light"
     },
     "output_type": "display_data"
    }
   ],
   "source": [
    "contingency_table = pd.crosstab(highset_transaction[\"user\"], highset_transaction[\"total_transactions\"])\n",
    "fig = plt.figure(figsize=(8, 6))\n",
    "fig.suptitle('Contingency Table of 10 Highest Transactions by User')\n",
    "sns.heatmap(contingency_table, annot=True, cmap=\"YlGnBu\")\n",
    "fig.savefig('user_transactions_heatmap.jpg', dpi=300)\n",
    "plt.show()\n"
   ]
  },
  {
   "cell_type": "code",
   "execution_count": 116,
   "id": "4957b2f3",
   "metadata": {},
   "outputs": [],
   "source": [
    "lowest_transaction = usa_transaction.tail(10)"
   ]
  },
  {
   "cell_type": "code",
   "execution_count": 117,
   "id": "9d847e78",
   "metadata": {},
   "outputs": [
    {
     "data": {
      "text/html": [
       "<div>\n",
       "<style scoped>\n",
       "    .dataframe tbody tr th:only-of-type {\n",
       "        vertical-align: middle;\n",
       "    }\n",
       "\n",
       "    .dataframe tbody tr th {\n",
       "        vertical-align: top;\n",
       "    }\n",
       "\n",
       "    .dataframe thead th {\n",
       "        text-align: right;\n",
       "    }\n",
       "</style>\n",
       "<table border=\"1\" class=\"dataframe\">\n",
       "  <thead>\n",
       "    <tr style=\"text-align: right;\">\n",
       "      <th></th>\n",
       "      <th>user</th>\n",
       "      <th>total_transactions</th>\n",
       "    </tr>\n",
       "  </thead>\n",
       "  <tbody>\n",
       "    <tr>\n",
       "      <th>100</th>\n",
       "      <td>204</td>\n",
       "      <td>28</td>\n",
       "    </tr>\n",
       "    <tr>\n",
       "      <th>101</th>\n",
       "      <td>12</td>\n",
       "      <td>28</td>\n",
       "    </tr>\n",
       "    <tr>\n",
       "      <th>102</th>\n",
       "      <td>137</td>\n",
       "      <td>28</td>\n",
       "    </tr>\n",
       "    <tr>\n",
       "      <th>103</th>\n",
       "      <td>71</td>\n",
       "      <td>28</td>\n",
       "    </tr>\n",
       "    <tr>\n",
       "      <th>104</th>\n",
       "      <td>455</td>\n",
       "      <td>21</td>\n",
       "    </tr>\n",
       "    <tr>\n",
       "      <th>105</th>\n",
       "      <td>114</td>\n",
       "      <td>21</td>\n",
       "    </tr>\n",
       "    <tr>\n",
       "      <th>106</th>\n",
       "      <td>79</td>\n",
       "      <td>21</td>\n",
       "    </tr>\n",
       "    <tr>\n",
       "      <th>107</th>\n",
       "      <td>84</td>\n",
       "      <td>14</td>\n",
       "    </tr>\n",
       "    <tr>\n",
       "      <th>108</th>\n",
       "      <td>15</td>\n",
       "      <td>14</td>\n",
       "    </tr>\n",
       "    <tr>\n",
       "      <th>109</th>\n",
       "      <td>73</td>\n",
       "      <td>14</td>\n",
       "    </tr>\n",
       "  </tbody>\n",
       "</table>\n",
       "</div>"
      ],
      "text/plain": [
       "     user  total_transactions\n",
       "100   204                  28\n",
       "101    12                  28\n",
       "102   137                  28\n",
       "103    71                  28\n",
       "104   455                  21\n",
       "105   114                  21\n",
       "106    79                  21\n",
       "107    84                  14\n",
       "108    15                  14\n",
       "109    73                  14"
      ]
     },
     "execution_count": 117,
     "metadata": {},
     "output_type": "execute_result"
    }
   ],
   "source": [
    "lowest_transaction "
   ]
  },
  {
   "cell_type": "code",
   "execution_count": 118,
   "id": "f5186199",
   "metadata": {},
   "outputs": [
    {
     "data": {
      "image/png": "[encoded data removed]",
      "text/plain": [
       "<Figure size 576x432 with 2 Axes>"
      ]
     },
     "metadata": {
      "needs_background": "light"
     },
     "output_type": "display_data"
    }
   ],
   "source": [
    "contingency_table = pd.crosstab(lowest_transaction[\"user\"], lowest_transaction[\"total_transactions\"])\n",
    "fig = plt.figure(figsize=(8, 6))\n",
    "fig.suptitle('Contingency Table of 10 lowest Transactions by User')\n",
    "sns.heatmap(contingency_table, annot=True, cmap=\"YlGnBu\")\n",
    "fig.savefig('user_transactions_heatmap.jpg', dpi=300)\n",
    "plt.show()\n"
   ]
  },
  {
   "cell_type": "markdown",
   "id": "dc520fba",
   "metadata": {},
   "source": [
    "Task 5: \n",
    "Calculate the total number of users who made more than 5 transactions."
   ]
  },
  {
   "cell_type": "code",
   "execution_count": null,
   "id": "9e745cc7",
   "metadata": {},
   "outputs": [],
   "source": [
    "quey = \"\"\"SELECT \n",
    "\"\"\""
   ]
  },
  {
   "cell_type": "code",
   "execution_count": 25,
   "id": "37a877bc",
   "metadata": {},
   "outputs": [],
   "source": [
    "# # Import necessary libraries\n",
    "# import pandas as pd\n",
    "# from datetime import datetime, timedelta\n",
    "# from sklearn.model_selection import train_test_split\n",
    "# from sklearn.ensemble import RandomForestClassifier\n",
    "# from sklearn.metrics import accuracy_score, confusion_matrix\n",
    "\n",
    "# # Load data from your three tables (you should adapt this part according to your data source)\n",
    "# user_nodes_data = pd.read_csv('user_nodes.csv')\n",
    "# user_transaction_data = pd.read_csv('user_transaction.csv')\n",
    "# world_regions_data = pd.read_csv('world_regions.csv')\n",
    "\n",
    "# # Define churn based on a time-based threshold (e.g., 3 months of inactivity)\n",
    "# end_date = datetime.strptime('3/1/20', '%d/%m/%y')\n",
    "# cutoff_date = end_date - timedelta(days=90)\n",
    "\n",
    "# # Merge data from user_nodes and user_transaction based on common columns\n",
    "# merged_data = user_nodes_data.merge(user_transaction_data, on='consumer_id', how='left')\n",
    "\n",
    "# # Create a target variable for churn based on the time threshold\n",
    "# merged_data['churn'] = (merged_data['transaction_date'] < cutoff_date).astype(int)\n",
    "\n",
    "# # Feature engineering: You can add more features based on your data\n",
    "\n",
    "# # Split data into training and testing sets\n",
    "# X = merged_data.drop(columns=['churn'])\n",
    "# y = merged_data['churn']\n",
    "# X_train, X_test, y_train, y_test = train_test_split(X, y, test_size=0.2, random_state=42)\n",
    "\n",
    "# # Initialize and train a predictive model (e.g., Random Forest)\n",
    "# model = RandomForestClassifier()\n",
    "# model.fit(X_train, y_train)\n",
    "\n",
    "# # Make predictions on the test set\n",
    "# y_pred = model.predict(X_test)\n",
    "\n",
    "# # Evaluate the model\n",
    "# accuracy = accuracy_score(y_test, y_pred)\n",
    "# conf_matrix = confusion_matrix(y_test, y_pred)\n",
    "\n",
    "# # Print evaluation metrics\n",
    "# print(f'Accuracy: {accuracy}')\n",
    "# print(f'Confusion Matrix:\\n{conf_matrix}')\n"
   ]
  }
 ],
 "metadata": {
  "kernelspec": {
   "display_name": "Python 3 (ipykernel)",
   "language": "python",
   "name": "python3"
  },
  "language_info": {
   "codemirror_mode": {
    "name": "ipython",
    "version": 3
   },
   "file_extension": ".py",
   "mimetype": "text/x-python",
   "name": "python",
   "nbconvert_exporter": "python",
   "pygments_lexer": "ipython3",
   "version": "3.7.4"
  }
 },
 "nbformat": 4,
 "nbformat_minor": 5
}
