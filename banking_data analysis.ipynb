{
 "cells": [
  {
   "cell_type": "markdown",
   "id": "2d5bca91",
   "metadata": {},
   "source": [
    "# BANKING DATA ANALYSIS "
   ]
  },
  {
   "cell_type": "markdown",
   "id": "314a9e6e",
   "metadata": {},
   "source": [
    "# Project Description\n",
    "In the ever-evolving world of banking and finance, understanding customer behavior and the regional impact of transactions plays a crucial role in decision-making and strategic planning. This project, titled \"Analyzing Banking Trends: Customer Transactions and Regional Impact,\" aims to explore and analyze the vast troves of transaction data to gain valuable insights into customer behavior patterns and their implications on different world regions.\n",
    "\n",
    "Objective: The primary objective of this project is to delve into customer transactions and identify trends that may impact regional economies and financial systems. By combining data cleaning techniques in Python and utilizing SQL queries on a set of interconnected tables, we aim to gain a comprehensive understanding of how customer transactions vary across different regions and the possible implications on the banking sector.\n",
    "\n",
    "Data Sources: The project leverages three key tables that provide valuable information for analysis:\n",
    "\n",
    "1. world_regions table: This table contains data on various world regions and their corresponding codes and names. It serves as a reference to categorize customers based on their regional affiliation.\n",
    "\n",
    "2. user_nodes table: The user_nodes table holds crucial details about consumers' banking nodes, including their unique consumer IDs, associated region IDs, node IDs, start dates, and end dates. This data enables us to identify the specific banking nodes to which customers are connected and their duration of association.\n",
    "\n",
    "3. user_transaction table: This table is a comprehensive repository of customer transactions, containing data such as consumer IDs, transaction dates, types of transactions, and transaction amounts. Analyzing this data allows us to uncover patterns in customer spending and financial behaviors\n",
    " \n",
    "All of this dataset was sourced by hicounselor(https://hicounselor.com/projects/analyzing-banking-trends-customer-transactions-and-regional-impact) as part of their materials for individuals to learn and build their portfolio"
   ]
  },
  {
   "cell_type": "code",
   "execution_count": null,
   "id": "91898bb5",
   "metadata": {},
   "outputs": [],
   "source": []
  },
  {
   "cell_type": "code",
   "execution_count": 1,
   "id": "d7ae8ac3",
   "metadata": {},
   "outputs": [],
   "source": [
    "import psycopg2\n",
    "import pandas as pd\n",
    "import numpy as np\n",
    "import seaborn as sns\n",
    "import matplotlib.pyplot as plt \n"
   ]
  },
  {
   "cell_type": "code",
   "execution_count": 2,
   "id": "7f7fa9d3",
   "metadata": {},
   "outputs": [],
   "source": [
    "db_params = {\n",
    "    \"host\": \"localhost\",  # or \"127.0.0.1\" if your database is on the local machine\n",
    "    \"port\": 5432,         # Default PostgreSQL port\n",
    "    \"database\": \"banking_data\",\n",
    "    \"user\": \"postgres\",\n",
    "    \"password\": \"dibie04062000\"\n",
    "}\n"
   ]
  },
  {
   "cell_type": "code",
   "execution_count": 3,
   "id": "463803e0",
   "metadata": {},
   "outputs": [],
   "source": [
    "conn = psycopg2.connect(**db_params)\n"
   ]
  },
  {
   "cell_type": "code",
   "execution_count": 4,
   "id": "92959e76",
   "metadata": {},
   "outputs": [],
   "source": [
    "query = \"SELECT * FROM user_nodes_cleaned;\"  # Replace \"your_table\" with the actual table name\n",
    "user_nodes = pd.read_sql_query(query, conn)\n"
   ]
  },
  {
   "cell_type": "code",
   "execution_count": 5,
   "id": "5363816e",
   "metadata": {},
   "outputs": [
    {
     "data": {
      "text/html": [
       "<div>\n",
       "<style scoped>\n",
       "    .dataframe tbody tr th:only-of-type {\n",
       "        vertical-align: middle;\n",
       "    }\n",
       "\n",
       "    .dataframe tbody tr th {\n",
       "        vertical-align: top;\n",
       "    }\n",
       "\n",
       "    .dataframe thead th {\n",
       "        text-align: right;\n",
       "    }\n",
       "</style>\n",
       "<table border=\"1\" class=\"dataframe\">\n",
       "  <thead>\n",
       "    <tr style=\"text-align: right;\">\n",
       "      <th></th>\n",
       "      <th>consumer_id</th>\n",
       "      <th>region_id</th>\n",
       "      <th>node_id</th>\n",
       "      <th>start_date</th>\n",
       "      <th>end_date</th>\n",
       "    </tr>\n",
       "  </thead>\n",
       "  <tbody>\n",
       "    <tr>\n",
       "      <th>0</th>\n",
       "      <td>1</td>\n",
       "      <td>3</td>\n",
       "      <td>4</td>\n",
       "      <td>2020-01-02</td>\n",
       "      <td>2020-01-03</td>\n",
       "    </tr>\n",
       "    <tr>\n",
       "      <th>1</th>\n",
       "      <td>2</td>\n",
       "      <td>3</td>\n",
       "      <td>5</td>\n",
       "      <td>2020-01-03</td>\n",
       "      <td>2020-01-17</td>\n",
       "    </tr>\n",
       "    <tr>\n",
       "      <th>2</th>\n",
       "      <td>3</td>\n",
       "      <td>5</td>\n",
       "      <td>4</td>\n",
       "      <td>2020-01-27</td>\n",
       "      <td>2020-02-18</td>\n",
       "    </tr>\n",
       "    <tr>\n",
       "      <th>3</th>\n",
       "      <td>4</td>\n",
       "      <td>5</td>\n",
       "      <td>4</td>\n",
       "      <td>2020-01-07</td>\n",
       "      <td>2020-01-19</td>\n",
       "    </tr>\n",
       "    <tr>\n",
       "      <th>4</th>\n",
       "      <td>5</td>\n",
       "      <td>3</td>\n",
       "      <td>3</td>\n",
       "      <td>2020-01-15</td>\n",
       "      <td>2020-01-23</td>\n",
       "    </tr>\n",
       "    <tr>\n",
       "      <th>...</th>\n",
       "      <td>...</td>\n",
       "      <td>...</td>\n",
       "      <td>...</td>\n",
       "      <td>...</td>\n",
       "      <td>...</td>\n",
       "    </tr>\n",
       "    <tr>\n",
       "      <th>3495</th>\n",
       "      <td>496</td>\n",
       "      <td>3</td>\n",
       "      <td>4</td>\n",
       "      <td>2020-02-25</td>\n",
       "      <td>2021-12-31</td>\n",
       "    </tr>\n",
       "    <tr>\n",
       "      <th>3496</th>\n",
       "      <td>497</td>\n",
       "      <td>5</td>\n",
       "      <td>4</td>\n",
       "      <td>2020-05-27</td>\n",
       "      <td>2021-12-31</td>\n",
       "    </tr>\n",
       "    <tr>\n",
       "      <th>3497</th>\n",
       "      <td>498</td>\n",
       "      <td>1</td>\n",
       "      <td>2</td>\n",
       "      <td>2020-04-05</td>\n",
       "      <td>2021-12-31</td>\n",
       "    </tr>\n",
       "    <tr>\n",
       "      <th>3498</th>\n",
       "      <td>499</td>\n",
       "      <td>5</td>\n",
       "      <td>1</td>\n",
       "      <td>2020-02-03</td>\n",
       "      <td>2021-12-31</td>\n",
       "    </tr>\n",
       "    <tr>\n",
       "      <th>3499</th>\n",
       "      <td>500</td>\n",
       "      <td>2</td>\n",
       "      <td>2</td>\n",
       "      <td>2020-04-15</td>\n",
       "      <td>2021-12-31</td>\n",
       "    </tr>\n",
       "  </tbody>\n",
       "</table>\n",
       "<p>3500 rows × 5 columns</p>\n",
       "</div>"
      ],
      "text/plain": [
       "      consumer_id  region_id  node_id  start_date    end_date\n",
       "0               1          3        4  2020-01-02  2020-01-03\n",
       "1               2          3        5  2020-01-03  2020-01-17\n",
       "2               3          5        4  2020-01-27  2020-02-18\n",
       "3               4          5        4  2020-01-07  2020-01-19\n",
       "4               5          3        3  2020-01-15  2020-01-23\n",
       "...           ...        ...      ...         ...         ...\n",
       "3495          496          3        4  2020-02-25  2021-12-31\n",
       "3496          497          5        4  2020-05-27  2021-12-31\n",
       "3497          498          1        2  2020-04-05  2021-12-31\n",
       "3498          499          5        1  2020-02-03  2021-12-31\n",
       "3499          500          2        2  2020-04-15  2021-12-31\n",
       "\n",
       "[3500 rows x 5 columns]"
      ]
     },
     "execution_count": 5,
     "metadata": {},
     "output_type": "execute_result"
    }
   ],
   "source": [
    "user_nodes"
   ]
  },
  {
   "cell_type": "code",
   "execution_count": 6,
   "id": "169e0a98",
   "metadata": {},
   "outputs": [
    {
     "data": {
      "text/plain": [
       "consumer_id    0\n",
       "region_id      0\n",
       "node_id        0\n",
       "start_date     0\n",
       "end_date       0\n",
       "dtype: int64"
      ]
     },
     "execution_count": 6,
     "metadata": {},
     "output_type": "execute_result"
    }
   ],
   "source": [
    "user_nodes.isnull().sum()"
   ]
  },
  {
   "cell_type": "code",
   "execution_count": null,
   "id": "9422c382",
   "metadata": {},
   "outputs": [],
   "source": []
  },
  {
   "cell_type": "code",
   "execution_count": 7,
   "id": "1b39845b",
   "metadata": {},
   "outputs": [],
   "source": [
    "query = \"SELECT * FROM user_transaction_cleaned;\"  # Replace \"your_table\" with the actual table name\n",
    "user_transaction = pd.read_sql_query(query, conn)\n"
   ]
  },
  {
   "cell_type": "code",
   "execution_count": 8,
   "id": "04cb92b3",
   "metadata": {},
   "outputs": [
    {
     "data": {
      "text/html": [
       "<div>\n",
       "<style scoped>\n",
       "    .dataframe tbody tr th:only-of-type {\n",
       "        vertical-align: middle;\n",
       "    }\n",
       "\n",
       "    .dataframe tbody tr th {\n",
       "        vertical-align: top;\n",
       "    }\n",
       "\n",
       "    .dataframe thead th {\n",
       "        text-align: right;\n",
       "    }\n",
       "</style>\n",
       "<table border=\"1\" class=\"dataframe\">\n",
       "  <thead>\n",
       "    <tr style=\"text-align: right;\">\n",
       "      <th></th>\n",
       "      <th>consumer_id</th>\n",
       "      <th>transaction_date</th>\n",
       "      <th>transaction_type</th>\n",
       "      <th>transaction_amount</th>\n",
       "    </tr>\n",
       "  </thead>\n",
       "  <tbody>\n",
       "    <tr>\n",
       "      <th>0</th>\n",
       "      <td>312</td>\n",
       "      <td>2020-01-20</td>\n",
       "      <td>deposit</td>\n",
       "      <td>485.0</td>\n",
       "    </tr>\n",
       "    <tr>\n",
       "      <th>1</th>\n",
       "      <td>376</td>\n",
       "      <td>2020-01-03</td>\n",
       "      <td>deposit</td>\n",
       "      <td>706.0</td>\n",
       "    </tr>\n",
       "    <tr>\n",
       "      <th>2</th>\n",
       "      <td>188</td>\n",
       "      <td>2020-01-13</td>\n",
       "      <td>deposit</td>\n",
       "      <td>601.0</td>\n",
       "    </tr>\n",
       "    <tr>\n",
       "      <th>3</th>\n",
       "      <td>138</td>\n",
       "      <td>2020-01-11</td>\n",
       "      <td>deposit</td>\n",
       "      <td>520.0</td>\n",
       "    </tr>\n",
       "    <tr>\n",
       "      <th>4</th>\n",
       "      <td>373</td>\n",
       "      <td>2020-01-18</td>\n",
       "      <td>deposit</td>\n",
       "      <td>596.0</td>\n",
       "    </tr>\n",
       "    <tr>\n",
       "      <th>...</th>\n",
       "      <td>...</td>\n",
       "      <td>...</td>\n",
       "      <td>...</td>\n",
       "      <td>...</td>\n",
       "    </tr>\n",
       "    <tr>\n",
       "      <th>5863</th>\n",
       "      <td>155</td>\n",
       "      <td>2020-01-10</td>\n",
       "      <td>deposit</td>\n",
       "      <td>712.0</td>\n",
       "    </tr>\n",
       "    <tr>\n",
       "      <th>5864</th>\n",
       "      <td>398</td>\n",
       "      <td>2020-01-01</td>\n",
       "      <td>deposit</td>\n",
       "      <td>196.0</td>\n",
       "    </tr>\n",
       "    <tr>\n",
       "      <th>5865</th>\n",
       "      <td>255</td>\n",
       "      <td>2020-01-14</td>\n",
       "      <td>deposit</td>\n",
       "      <td>563.0</td>\n",
       "    </tr>\n",
       "    <tr>\n",
       "      <th>5866</th>\n",
       "      <td>185</td>\n",
       "      <td>2020-01-29</td>\n",
       "      <td>deposit</td>\n",
       "      <td>626.0</td>\n",
       "    </tr>\n",
       "    <tr>\n",
       "      <th>5867</th>\n",
       "      <td>309</td>\n",
       "      <td>2020-01-13</td>\n",
       "      <td>deposit</td>\n",
       "      <td>995.0</td>\n",
       "    </tr>\n",
       "  </tbody>\n",
       "</table>\n",
       "<p>5868 rows × 4 columns</p>\n",
       "</div>"
      ],
      "text/plain": [
       "      consumer_id transaction_date transaction_type  transaction_amount\n",
       "0             312       2020-01-20          deposit               485.0\n",
       "1             376       2020-01-03          deposit               706.0\n",
       "2             188       2020-01-13          deposit               601.0\n",
       "3             138       2020-01-11          deposit               520.0\n",
       "4             373       2020-01-18          deposit               596.0\n",
       "...           ...              ...              ...                 ...\n",
       "5863          155       2020-01-10          deposit               712.0\n",
       "5864          398       2020-01-01          deposit               196.0\n",
       "5865          255       2020-01-14          deposit               563.0\n",
       "5866          185       2020-01-29          deposit               626.0\n",
       "5867          309       2020-01-13          deposit               995.0\n",
       "\n",
       "[5868 rows x 4 columns]"
      ]
     },
     "execution_count": 8,
     "metadata": {},
     "output_type": "execute_result"
    }
   ],
   "source": [
    "user_transaction"
   ]
  },
  {
   "cell_type": "code",
   "execution_count": 9,
   "id": "0103aa5f",
   "metadata": {},
   "outputs": [
    {
     "data": {
      "text/plain": [
       "consumer_id           0\n",
       "transaction_date      0\n",
       "transaction_type      0\n",
       "transaction_amount    0\n",
       "dtype: int64"
      ]
     },
     "execution_count": 9,
     "metadata": {},
     "output_type": "execute_result"
    }
   ],
   "source": [
    "user_transaction.isnull().sum()"
   ]
  },
  {
   "cell_type": "code",
   "execution_count": null,
   "id": "97d307bd",
   "metadata": {},
   "outputs": [],
   "source": []
  },
  {
   "cell_type": "code",
   "execution_count": 10,
   "id": "bd1c92ce",
   "metadata": {},
   "outputs": [],
   "source": [
    "query = \"SELECT * FROM world_regions;\"  # Replace \"your_table\" with the actual table name\n",
    "world_regions = pd.read_sql_query(query, conn)"
   ]
  },
  {
   "cell_type": "code",
   "execution_count": 11,
   "id": "36cabcfe",
   "metadata": {},
   "outputs": [
    {
     "data": {
      "text/html": [
       "<div>\n",
       "<style scoped>\n",
       "    .dataframe tbody tr th:only-of-type {\n",
       "        vertical-align: middle;\n",
       "    }\n",
       "\n",
       "    .dataframe tbody tr th {\n",
       "        vertical-align: top;\n",
       "    }\n",
       "\n",
       "    .dataframe thead th {\n",
       "        text-align: right;\n",
       "    }\n",
       "</style>\n",
       "<table border=\"1\" class=\"dataframe\">\n",
       "  <thead>\n",
       "    <tr style=\"text-align: right;\">\n",
       "      <th></th>\n",
       "      <th>region_code</th>\n",
       "      <th>region_name</th>\n",
       "    </tr>\n",
       "  </thead>\n",
       "  <tbody>\n",
       "    <tr>\n",
       "      <th>0</th>\n",
       "      <td>1</td>\n",
       "      <td>United States</td>\n",
       "    </tr>\n",
       "    <tr>\n",
       "      <th>1</th>\n",
       "      <td>2</td>\n",
       "      <td>Europe</td>\n",
       "    </tr>\n",
       "    <tr>\n",
       "      <th>2</th>\n",
       "      <td>3</td>\n",
       "      <td>Australia</td>\n",
       "    </tr>\n",
       "    <tr>\n",
       "      <th>3</th>\n",
       "      <td>4</td>\n",
       "      <td>Asia</td>\n",
       "    </tr>\n",
       "    <tr>\n",
       "      <th>4</th>\n",
       "      <td>5</td>\n",
       "      <td>Africa</td>\n",
       "    </tr>\n",
       "    <tr>\n",
       "      <th>5</th>\n",
       "      <td>6</td>\n",
       "      <td>Russia</td>\n",
       "    </tr>\n",
       "    <tr>\n",
       "      <th>6</th>\n",
       "      <td>7</td>\n",
       "      <td>China</td>\n",
       "    </tr>\n",
       "  </tbody>\n",
       "</table>\n",
       "</div>"
      ],
      "text/plain": [
       "   region_code    region_name\n",
       "0            1  United States\n",
       "1            2         Europe\n",
       "2            3      Australia\n",
       "3            4           Asia\n",
       "4            5         Africa\n",
       "5            6         Russia\n",
       "6            7          China"
      ]
     },
     "execution_count": 11,
     "metadata": {},
     "output_type": "execute_result"
    }
   ],
   "source": [
    "world_regions"
   ]
  },
  {
   "cell_type": "code",
   "execution_count": 12,
   "id": "ded197a7",
   "metadata": {},
   "outputs": [
    {
     "data": {
      "text/plain": [
       "region_code    0\n",
       "region_name    0\n",
       "dtype: int64"
      ]
     },
     "execution_count": 12,
     "metadata": {},
     "output_type": "execute_result"
    }
   ],
   "source": [
    "world_regions.isnull().sum()"
   ]
  },
  {
   "cell_type": "code",
   "execution_count": null,
   "id": "1baa62de",
   "metadata": {},
   "outputs": [],
   "source": []
  },
  {
   "cell_type": "markdown",
   "id": "f8558ebc",
   "metadata": {},
   "source": [
    "# Exploratory Analysis"
   ]
  },
  {
   "cell_type": "markdown",
   "id": "2f4bfdc8",
   "metadata": {},
   "source": [
    "List all regions along with the number of users assigned to each region.\n"
   ]
  },
  {
   "cell_type": "code",
   "execution_count": 13,
   "id": "3ecffd7e",
   "metadata": {},
   "outputs": [],
   "source": [
    "query =\"\"\"SELECT\n",
    "    wr.region_name AS Region,\n",
    "    COUNT(DISTINCT un.consumer_id) AS NumberOfUsers\n",
    "FROM\n",
    "    world_regions wr\n",
    "LEFT JOIN\n",
    "    user_nodes_cleaned un\n",
    "ON\n",
    "    wr.region_code = un.region_id\n",
    "GROUP BY\n",
    "    wr.region_name\n",
    "ORDER BY\n",
    "    NumberOfUsers DESC;\n",
    "\n",
    "\"\"\""
   ]
  },
  {
   "cell_type": "code",
   "execution_count": 14,
   "id": "69793119",
   "metadata": {},
   "outputs": [],
   "source": [
    "regions=  pd.read_sql_query(query, conn)"
   ]
  },
  {
   "cell_type": "code",
   "execution_count": 15,
   "id": "a2f2f460",
   "metadata": {},
   "outputs": [
    {
     "data": {
      "text/html": [
       "<div>\n",
       "<style scoped>\n",
       "    .dataframe tbody tr th:only-of-type {\n",
       "        vertical-align: middle;\n",
       "    }\n",
       "\n",
       "    .dataframe tbody tr th {\n",
       "        vertical-align: top;\n",
       "    }\n",
       "\n",
       "    .dataframe thead th {\n",
       "        text-align: right;\n",
       "    }\n",
       "</style>\n",
       "<table border=\"1\" class=\"dataframe\">\n",
       "  <thead>\n",
       "    <tr style=\"text-align: right;\">\n",
       "      <th></th>\n",
       "      <th>region</th>\n",
       "      <th>numberofusers</th>\n",
       "    </tr>\n",
       "  </thead>\n",
       "  <tbody>\n",
       "    <tr>\n",
       "      <th>0</th>\n",
       "      <td>United States</td>\n",
       "      <td>110</td>\n",
       "    </tr>\n",
       "    <tr>\n",
       "      <th>1</th>\n",
       "      <td>Europe</td>\n",
       "      <td>105</td>\n",
       "    </tr>\n",
       "    <tr>\n",
       "      <th>2</th>\n",
       "      <td>Australia</td>\n",
       "      <td>102</td>\n",
       "    </tr>\n",
       "    <tr>\n",
       "      <th>3</th>\n",
       "      <td>Asia</td>\n",
       "      <td>95</td>\n",
       "    </tr>\n",
       "    <tr>\n",
       "      <th>4</th>\n",
       "      <td>Africa</td>\n",
       "      <td>88</td>\n",
       "    </tr>\n",
       "    <tr>\n",
       "      <th>5</th>\n",
       "      <td>China</td>\n",
       "      <td>0</td>\n",
       "    </tr>\n",
       "    <tr>\n",
       "      <th>6</th>\n",
       "      <td>Russia</td>\n",
       "      <td>0</td>\n",
       "    </tr>\n",
       "  </tbody>\n",
       "</table>\n",
       "</div>"
      ],
      "text/plain": [
       "          region  numberofusers\n",
       "0  United States            110\n",
       "1         Europe            105\n",
       "2      Australia            102\n",
       "3           Asia             95\n",
       "4         Africa             88\n",
       "5          China              0\n",
       "6         Russia              0"
      ]
     },
     "execution_count": 15,
     "metadata": {},
     "output_type": "execute_result"
    }
   ],
   "source": [
    "regions "
   ]
  },
  {
   "cell_type": "code",
   "execution_count": 16,
   "id": "d7645ad4",
   "metadata": {},
   "outputs": [],
   "source": [
    "#conn.close()"
   ]
  },
  {
   "cell_type": "code",
   "execution_count": 24,
   "id": "b76dde94",
   "metadata": {},
   "outputs": [
    {
     "data": {
      "text/plain": [
       "Text(0.5, 1.0, 'Number of Users by Region')"
      ]
     },
     "execution_count": 24,
     "metadata": {},
     "output_type": "execute_result"
    },
    {
     "data": {
      "image/png": "[encoded data removed]",
      "text/plain": [
       "<Figure size 432x288 with 1 Axes>"
      ]
     },
     "metadata": {
      "needs_background": "light"
     },
     "output_type": "display_data"
    }
   ],
   "source": [
    "plt.bar(x=regions['region'], height=regions['numberofusers'])\n",
    "plt.xlabel('Region')\n",
    "plt.ylabel('Number of Users')\n",
    "plt.title('Number of Users by Region')\n"
   ]
  },
  {
   "cell_type": "code",
   "execution_count": null,
   "id": "15071abf",
   "metadata": {},
   "outputs": [],
   "source": []
  },
  {
   "cell_type": "code",
   "execution_count": null,
   "id": "01abd03a",
   "metadata": {},
   "outputs": [],
   "source": []
  },
  {
   "cell_type": "code",
   "execution_count": null,
   "id": "c2d6adc0",
   "metadata": {},
   "outputs": [],
   "source": []
  },
  {
   "cell_type": "code",
   "execution_count": null,
   "id": "bd8461c7",
   "metadata": {},
   "outputs": [],
   "source": []
  }
 ],
 "metadata": {
  "kernelspec": {
   "display_name": "Python 3 (ipykernel)",
   "language": "python",
   "name": "python3"
  },
  "language_info": {
   "codemirror_mode": {
    "name": "ipython",
    "version": 3
   },
   "file_extension": ".py",
   "mimetype": "text/x-python",
   "name": "python",
   "nbconvert_exporter": "python",
   "pygments_lexer": "ipython3",
   "version": "3.7.4"
  }
 },
 "nbformat": 4,
 "nbformat_minor": 5
}
