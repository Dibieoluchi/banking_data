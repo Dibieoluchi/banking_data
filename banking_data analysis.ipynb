{
 "cells": [
  {
   "cell_type": "markdown",
   "id": "2d5bca91",
   "metadata": {},
   "source": [
    "# BANKING DATA ANALYSIS "
   ]
  },
  {
   "cell_type": "markdown",
   "id": "314a9e6e",
   "metadata": {},
   "source": [
    "# Project Description\n",
    "In the ever-evolving world of banking and finance, understanding customer behavior and the regional impact of transactions plays a crucial role in decision-making and strategic planning. This project, titled \"Analyzing Banking Trends: Customer Transactions and Regional Impact,\" aims to explore and analyze the vast troves of transaction data to gain valuable insights into customer behavior patterns and their implications on different world regions.\n",
    "\n",
    "Objective: The primary objective of this project is to delve into customer transactions and identify trends that may impact regional economies and financial systems. By combining data cleaning techniques in Python and utilizing SQL queries on a set of interconnected tables, we aim to gain a comprehensive understanding of how customer transactions vary across different regions and the possible implications on the banking sector.\n",
    "\n",
    "Data Sources: The project leverages three key tables that provide valuable information for analysis:\n",
    "\n",
    "1. world_regions table: This table contains data on various world regions and their corresponding codes and names. It serves as a reference to categorize customers based on their regional affiliation.\n",
    "\n",
    "2. user_nodes table: The user_nodes table holds crucial details about consumers' banking nodes, including their unique consumer IDs, associated region IDs, node IDs, start dates, and end dates. This data enables us to identify the specific banking nodes to which customers are connected and their duration of association.\n",
    "\n",
    "3. user_transaction table: This table is a comprehensive repository of customer transactions, containing data such as consumer IDs, transaction dates, types of transactions, and transaction amounts. Analyzing this data allows us to uncover patterns in customer spending and financial behaviors\n",
    " \n",
    "All of this dataset was sourced by hicounselor(https://hicounselor.com/projects/analyzing-banking-trends-customer-transactions-and-regional-impact) as part of their materials for individuals to learn and build their portfolio"
   ]
  },
  {
   "cell_type": "code",
   "execution_count": null,
   "id": "91898bb5",
   "metadata": {},
   "outputs": [],
   "source": []
  },
  {
   "cell_type": "code",
   "execution_count": 1,
   "id": "d7ae8ac3",
   "metadata": {},
   "outputs": [],
   "source": [
    "import psycopg2\n",
    "import pandas as pd\n",
    "import numpy as np\n",
    "import seaborn as sns\n",
    "import matplotlib.pyplot as plt \n"
   ]
  },
  {
   "cell_type": "code",
   "execution_count": 2,
   "id": "7f7fa9d3",
   "metadata": {},
   "outputs": [],
   "source": [
    "db_params = {\n",
    "    \"host\": \"localhost\",  # or \"127.0.0.1\" if your database is on the local machine\n",
    "    \"port\": 5432,         # Default PostgreSQL port\n",
    "    \"database\": \"banking_data\",\n",
    "    \"user\": \"postgres\",\n",
    "    \"password\": \"dibie04062000\"\n",
    "}\n"
   ]
  },
  {
   "cell_type": "code",
   "execution_count": 3,
   "id": "463803e0",
   "metadata": {},
   "outputs": [],
   "source": [
    "conn = psycopg2.connect(**db_params)\n"
   ]
  },
  {
   "cell_type": "code",
   "execution_count": 4,
   "id": "92959e76",
   "metadata": {},
   "outputs": [],
   "source": [
    "query = \"SELECT * FROM user_nodes_cleaned;\"  # Replace \"your_table\" with the actual table name\n",
    "user_nodes = pd.read_sql_query(query, conn)\n"
   ]
  },
  {
   "cell_type": "code",
   "execution_count": 5,
   "id": "5363816e",
   "metadata": {},
   "outputs": [
    {
     "data": {
      "text/html": [
       "<div>\n",
       "<style scoped>\n",
       "    .dataframe tbody tr th:only-of-type {\n",
       "        vertical-align: middle;\n",
       "    }\n",
       "\n",
       "    .dataframe tbody tr th {\n",
       "        vertical-align: top;\n",
       "    }\n",
       "\n",
       "    .dataframe thead th {\n",
       "        text-align: right;\n",
       "    }\n",
       "</style>\n",
       "<table border=\"1\" class=\"dataframe\">\n",
       "  <thead>\n",
       "    <tr style=\"text-align: right;\">\n",
       "      <th></th>\n",
       "      <th>consumer_id</th>\n",
       "      <th>region_id</th>\n",
       "      <th>node_id</th>\n",
       "      <th>start_date</th>\n",
       "      <th>end_date</th>\n",
       "    </tr>\n",
       "  </thead>\n",
       "  <tbody>\n",
       "    <tr>\n",
       "      <th>0</th>\n",
       "      <td>1</td>\n",
       "      <td>3</td>\n",
       "      <td>4</td>\n",
       "      <td>2020-01-02</td>\n",
       "      <td>2020-01-03</td>\n",
       "    </tr>\n",
       "    <tr>\n",
       "      <th>1</th>\n",
       "      <td>2</td>\n",
       "      <td>3</td>\n",
       "      <td>5</td>\n",
       "      <td>2020-01-03</td>\n",
       "      <td>2020-01-17</td>\n",
       "    </tr>\n",
       "    <tr>\n",
       "      <th>2</th>\n",
       "      <td>3</td>\n",
       "      <td>5</td>\n",
       "      <td>4</td>\n",
       "      <td>2020-01-27</td>\n",
       "      <td>2020-02-18</td>\n",
       "    </tr>\n",
       "    <tr>\n",
       "      <th>3</th>\n",
       "      <td>4</td>\n",
       "      <td>5</td>\n",
       "      <td>4</td>\n",
       "      <td>2020-01-07</td>\n",
       "      <td>2020-01-19</td>\n",
       "    </tr>\n",
       "    <tr>\n",
       "      <th>4</th>\n",
       "      <td>5</td>\n",
       "      <td>3</td>\n",
       "      <td>3</td>\n",
       "      <td>2020-01-15</td>\n",
       "      <td>2020-01-23</td>\n",
       "    </tr>\n",
       "    <tr>\n",
       "      <th>...</th>\n",
       "      <td>...</td>\n",
       "      <td>...</td>\n",
       "      <td>...</td>\n",
       "      <td>...</td>\n",
       "      <td>...</td>\n",
       "    </tr>\n",
       "    <tr>\n",
       "      <th>3495</th>\n",
       "      <td>496</td>\n",
       "      <td>3</td>\n",
       "      <td>4</td>\n",
       "      <td>2020-02-25</td>\n",
       "      <td>2021-12-31</td>\n",
       "    </tr>\n",
       "    <tr>\n",
       "      <th>3496</th>\n",
       "      <td>497</td>\n",
       "      <td>5</td>\n",
       "      <td>4</td>\n",
       "      <td>2020-05-27</td>\n",
       "      <td>2021-12-31</td>\n",
       "    </tr>\n",
       "    <tr>\n",
       "      <th>3497</th>\n",
       "      <td>498</td>\n",
       "      <td>1</td>\n",
       "      <td>2</td>\n",
       "      <td>2020-04-05</td>\n",
       "      <td>2021-12-31</td>\n",
       "    </tr>\n",
       "    <tr>\n",
       "      <th>3498</th>\n",
       "      <td>499</td>\n",
       "      <td>5</td>\n",
       "      <td>1</td>\n",
       "      <td>2020-02-03</td>\n",
       "      <td>2021-12-31</td>\n",
       "    </tr>\n",
       "    <tr>\n",
       "      <th>3499</th>\n",
       "      <td>500</td>\n",
       "      <td>2</td>\n",
       "      <td>2</td>\n",
       "      <td>2020-04-15</td>\n",
       "      <td>2021-12-31</td>\n",
       "    </tr>\n",
       "  </tbody>\n",
       "</table>\n",
       "<p>3500 rows × 5 columns</p>\n",
       "</div>"
      ],
      "text/plain": [
       "      consumer_id  region_id  node_id  start_date    end_date\n",
       "0               1          3        4  2020-01-02  2020-01-03\n",
       "1               2          3        5  2020-01-03  2020-01-17\n",
       "2               3          5        4  2020-01-27  2020-02-18\n",
       "3               4          5        4  2020-01-07  2020-01-19\n",
       "4               5          3        3  2020-01-15  2020-01-23\n",
       "...           ...        ...      ...         ...         ...\n",
       "3495          496          3        4  2020-02-25  2021-12-31\n",
       "3496          497          5        4  2020-05-27  2021-12-31\n",
       "3497          498          1        2  2020-04-05  2021-12-31\n",
       "3498          499          5        1  2020-02-03  2021-12-31\n",
       "3499          500          2        2  2020-04-15  2021-12-31\n",
       "\n",
       "[3500 rows x 5 columns]"
      ]
     },
     "execution_count": 5,
     "metadata": {},
     "output_type": "execute_result"
    }
   ],
   "source": [
    "user_nodes"
   ]
  },
  {
   "cell_type": "code",
   "execution_count": 6,
   "id": "169e0a98",
   "metadata": {},
   "outputs": [
    {
     "data": {
      "text/plain": [
       "consumer_id    0\n",
       "region_id      0\n",
       "node_id        0\n",
       "start_date     0\n",
       "end_date       0\n",
       "dtype: int64"
      ]
     },
     "execution_count": 6,
     "metadata": {},
     "output_type": "execute_result"
    }
   ],
   "source": [
    "user_nodes.isnull().sum()"
   ]
  },
  {
   "cell_type": "code",
   "execution_count": null,
   "id": "9422c382",
   "metadata": {},
   "outputs": [],
   "source": []
  },
  {
   "cell_type": "code",
   "execution_count": 7,
   "id": "1b39845b",
   "metadata": {},
   "outputs": [],
   "source": [
    "query = \"SELECT * FROM user_transaction_cleaned;\"  # Replace \"your_table\" with the actual table name\n",
    "user_transaction = pd.read_sql_query(query, conn)\n"
   ]
  },
  {
   "cell_type": "code",
   "execution_count": 8,
   "id": "04cb92b3",
   "metadata": {},
   "outputs": [
    {
     "data": {
      "text/html": [
       "<div>\n",
       "<style scoped>\n",
       "    .dataframe tbody tr th:only-of-type {\n",
       "        vertical-align: middle;\n",
       "    }\n",
       "\n",
       "    .dataframe tbody tr th {\n",
       "        vertical-align: top;\n",
       "    }\n",
       "\n",
       "    .dataframe thead th {\n",
       "        text-align: right;\n",
       "    }\n",
       "</style>\n",
       "<table border=\"1\" class=\"dataframe\">\n",
       "  <thead>\n",
       "    <tr style=\"text-align: right;\">\n",
       "      <th></th>\n",
       "      <th>consumer_id</th>\n",
       "      <th>transaction_date</th>\n",
       "      <th>transaction_type</th>\n",
       "      <th>transaction_amount</th>\n",
       "    </tr>\n",
       "  </thead>\n",
       "  <tbody>\n",
       "    <tr>\n",
       "      <th>0</th>\n",
       "      <td>312</td>\n",
       "      <td>2020-01-20</td>\n",
       "      <td>deposit</td>\n",
       "      <td>485.0</td>\n",
       "    </tr>\n",
       "    <tr>\n",
       "      <th>1</th>\n",
       "      <td>376</td>\n",
       "      <td>2020-01-03</td>\n",
       "      <td>deposit</td>\n",
       "      <td>706.0</td>\n",
       "    </tr>\n",
       "    <tr>\n",
       "      <th>2</th>\n",
       "      <td>188</td>\n",
       "      <td>2020-01-13</td>\n",
       "      <td>deposit</td>\n",
       "      <td>601.0</td>\n",
       "    </tr>\n",
       "    <tr>\n",
       "      <th>3</th>\n",
       "      <td>138</td>\n",
       "      <td>2020-01-11</td>\n",
       "      <td>deposit</td>\n",
       "      <td>520.0</td>\n",
       "    </tr>\n",
       "    <tr>\n",
       "      <th>4</th>\n",
       "      <td>373</td>\n",
       "      <td>2020-01-18</td>\n",
       "      <td>deposit</td>\n",
       "      <td>596.0</td>\n",
       "    </tr>\n",
       "    <tr>\n",
       "      <th>...</th>\n",
       "      <td>...</td>\n",
       "      <td>...</td>\n",
       "      <td>...</td>\n",
       "      <td>...</td>\n",
       "    </tr>\n",
       "    <tr>\n",
       "      <th>5863</th>\n",
       "      <td>155</td>\n",
       "      <td>2020-01-10</td>\n",
       "      <td>deposit</td>\n",
       "      <td>712.0</td>\n",
       "    </tr>\n",
       "    <tr>\n",
       "      <th>5864</th>\n",
       "      <td>398</td>\n",
       "      <td>2020-01-01</td>\n",
       "      <td>deposit</td>\n",
       "      <td>196.0</td>\n",
       "    </tr>\n",
       "    <tr>\n",
       "      <th>5865</th>\n",
       "      <td>255</td>\n",
       "      <td>2020-01-14</td>\n",
       "      <td>deposit</td>\n",
       "      <td>563.0</td>\n",
       "    </tr>\n",
       "    <tr>\n",
       "      <th>5866</th>\n",
       "      <td>185</td>\n",
       "      <td>2020-01-29</td>\n",
       "      <td>deposit</td>\n",
       "      <td>626.0</td>\n",
       "    </tr>\n",
       "    <tr>\n",
       "      <th>5867</th>\n",
       "      <td>309</td>\n",
       "      <td>2020-01-13</td>\n",
       "      <td>deposit</td>\n",
       "      <td>995.0</td>\n",
       "    </tr>\n",
       "  </tbody>\n",
       "</table>\n",
       "<p>5868 rows × 4 columns</p>\n",
       "</div>"
      ],
      "text/plain": [
       "      consumer_id transaction_date transaction_type  transaction_amount\n",
       "0             312       2020-01-20          deposit               485.0\n",
       "1             376       2020-01-03          deposit               706.0\n",
       "2             188       2020-01-13          deposit               601.0\n",
       "3             138       2020-01-11          deposit               520.0\n",
       "4             373       2020-01-18          deposit               596.0\n",
       "...           ...              ...              ...                 ...\n",
       "5863          155       2020-01-10          deposit               712.0\n",
       "5864          398       2020-01-01          deposit               196.0\n",
       "5865          255       2020-01-14          deposit               563.0\n",
       "5866          185       2020-01-29          deposit               626.0\n",
       "5867          309       2020-01-13          deposit               995.0\n",
       "\n",
       "[5868 rows x 4 columns]"
      ]
     },
     "execution_count": 8,
     "metadata": {},
     "output_type": "execute_result"
    }
   ],
   "source": [
    "user_transaction"
   ]
  },
  {
   "cell_type": "code",
   "execution_count": 9,
   "id": "0103aa5f",
   "metadata": {},
   "outputs": [
    {
     "data": {
      "text/plain": [
       "consumer_id           0\n",
       "transaction_date      0\n",
       "transaction_type      0\n",
       "transaction_amount    0\n",
       "dtype: int64"
      ]
     },
     "execution_count": 9,
     "metadata": {},
     "output_type": "execute_result"
    }
   ],
   "source": [
    "user_transaction.isnull().sum()"
   ]
  },
  {
   "cell_type": "code",
   "execution_count": null,
   "id": "97d307bd",
   "metadata": {},
   "outputs": [],
   "source": []
  },
  {
   "cell_type": "code",
   "execution_count": 10,
   "id": "bd1c92ce",
   "metadata": {},
   "outputs": [],
   "source": [
    "query = \"SELECT * FROM world_regions;\"  # Replace \"your_table\" with the actual table name\n",
    "world_regions = pd.read_sql_query(query, conn)"
   ]
  },
  {
   "cell_type": "code",
   "execution_count": 11,
   "id": "36cabcfe",
   "metadata": {},
   "outputs": [
    {
     "data": {
      "text/html": [
       "<div>\n",
       "<style scoped>\n",
       "    .dataframe tbody tr th:only-of-type {\n",
       "        vertical-align: middle;\n",
       "    }\n",
       "\n",
       "    .dataframe tbody tr th {\n",
       "        vertical-align: top;\n",
       "    }\n",
       "\n",
       "    .dataframe thead th {\n",
       "        text-align: right;\n",
       "    }\n",
       "</style>\n",
       "<table border=\"1\" class=\"dataframe\">\n",
       "  <thead>\n",
       "    <tr style=\"text-align: right;\">\n",
       "      <th></th>\n",
       "      <th>region_code</th>\n",
       "      <th>region_name</th>\n",
       "    </tr>\n",
       "  </thead>\n",
       "  <tbody>\n",
       "    <tr>\n",
       "      <th>0</th>\n",
       "      <td>1</td>\n",
       "      <td>United States</td>\n",
       "    </tr>\n",
       "    <tr>\n",
       "      <th>1</th>\n",
       "      <td>2</td>\n",
       "      <td>Europe</td>\n",
       "    </tr>\n",
       "    <tr>\n",
       "      <th>2</th>\n",
       "      <td>3</td>\n",
       "      <td>Australia</td>\n",
       "    </tr>\n",
       "    <tr>\n",
       "      <th>3</th>\n",
       "      <td>4</td>\n",
       "      <td>Asia</td>\n",
       "    </tr>\n",
       "    <tr>\n",
       "      <th>4</th>\n",
       "      <td>5</td>\n",
       "      <td>Africa</td>\n",
       "    </tr>\n",
       "    <tr>\n",
       "      <th>5</th>\n",
       "      <td>6</td>\n",
       "      <td>Russia</td>\n",
       "    </tr>\n",
       "    <tr>\n",
       "      <th>6</th>\n",
       "      <td>7</td>\n",
       "      <td>China</td>\n",
       "    </tr>\n",
       "  </tbody>\n",
       "</table>\n",
       "</div>"
      ],
      "text/plain": [
       "   region_code    region_name\n",
       "0            1  United States\n",
       "1            2         Europe\n",
       "2            3      Australia\n",
       "3            4           Asia\n",
       "4            5         Africa\n",
       "5            6         Russia\n",
       "6            7          China"
      ]
     },
     "execution_count": 11,
     "metadata": {},
     "output_type": "execute_result"
    }
   ],
   "source": [
    "world_regions"
   ]
  },
  {
   "cell_type": "code",
   "execution_count": 12,
   "id": "ded197a7",
   "metadata": {},
   "outputs": [
    {
     "data": {
      "text/plain": [
       "region_code    0\n",
       "region_name    0\n",
       "dtype: int64"
      ]
     },
     "execution_count": 12,
     "metadata": {},
     "output_type": "execute_result"
    }
   ],
   "source": [
    "world_regions.isnull().sum()"
   ]
  },
  {
   "cell_type": "code",
   "execution_count": null,
   "id": "1baa62de",
   "metadata": {},
   "outputs": [],
   "source": []
  },
  {
   "cell_type": "markdown",
   "id": "f8558ebc",
   "metadata": {},
   "source": [
    "# Exploratory Analysis"
   ]
  },
  {
   "cell_type": "markdown",
   "id": "2f4bfdc8",
   "metadata": {},
   "source": [
    "Task 1:List all regions along with the number of users assigned to each region.\n"
   ]
  },
  {
   "cell_type": "code",
   "execution_count": 13,
   "id": "3ecffd7e",
   "metadata": {},
   "outputs": [],
   "source": [
    "query =\"\"\"SELECT\n",
    "    wr.region_name AS Region,\n",
    "    COUNT(DISTINCT un.consumer_id) AS NumberOfUsers\n",
    "FROM\n",
    "    world_regions wr\n",
    "LEFT JOIN\n",
    "    user_nodes_cleaned un\n",
    "ON\n",
    "    wr.region_code = un.region_id\n",
    "GROUP BY\n",
    "    wr.region_name\n",
    "ORDER BY\n",
    "    NumberOfUsers DESC;\n",
    "\n",
    "\"\"\""
   ]
  },
  {
   "cell_type": "code",
   "execution_count": 14,
   "id": "69793119",
   "metadata": {},
   "outputs": [],
   "source": [
    "regions=  pd.read_sql_query(query, conn)"
   ]
  },
  {
   "cell_type": "code",
   "execution_count": 15,
   "id": "a2f2f460",
   "metadata": {},
   "outputs": [
    {
     "data": {
      "text/html": [
       "<div>\n",
       "<style scoped>\n",
       "    .dataframe tbody tr th:only-of-type {\n",
       "        vertical-align: middle;\n",
       "    }\n",
       "\n",
       "    .dataframe tbody tr th {\n",
       "        vertical-align: top;\n",
       "    }\n",
       "\n",
       "    .dataframe thead th {\n",
       "        text-align: right;\n",
       "    }\n",
       "</style>\n",
       "<table border=\"1\" class=\"dataframe\">\n",
       "  <thead>\n",
       "    <tr style=\"text-align: right;\">\n",
       "      <th></th>\n",
       "      <th>region</th>\n",
       "      <th>numberofusers</th>\n",
       "    </tr>\n",
       "  </thead>\n",
       "  <tbody>\n",
       "    <tr>\n",
       "      <th>0</th>\n",
       "      <td>United States</td>\n",
       "      <td>110</td>\n",
       "    </tr>\n",
       "    <tr>\n",
       "      <th>1</th>\n",
       "      <td>Europe</td>\n",
       "      <td>105</td>\n",
       "    </tr>\n",
       "    <tr>\n",
       "      <th>2</th>\n",
       "      <td>Australia</td>\n",
       "      <td>102</td>\n",
       "    </tr>\n",
       "    <tr>\n",
       "      <th>3</th>\n",
       "      <td>Asia</td>\n",
       "      <td>95</td>\n",
       "    </tr>\n",
       "    <tr>\n",
       "      <th>4</th>\n",
       "      <td>Africa</td>\n",
       "      <td>88</td>\n",
       "    </tr>\n",
       "    <tr>\n",
       "      <th>5</th>\n",
       "      <td>China</td>\n",
       "      <td>0</td>\n",
       "    </tr>\n",
       "    <tr>\n",
       "      <th>6</th>\n",
       "      <td>Russia</td>\n",
       "      <td>0</td>\n",
       "    </tr>\n",
       "  </tbody>\n",
       "</table>\n",
       "</div>"
      ],
      "text/plain": [
       "          region  numberofusers\n",
       "0  United States            110\n",
       "1         Europe            105\n",
       "2      Australia            102\n",
       "3           Asia             95\n",
       "4         Africa             88\n",
       "5          China              0\n",
       "6         Russia              0"
      ]
     },
     "execution_count": 15,
     "metadata": {},
     "output_type": "execute_result"
    }
   ],
   "source": [
    "regions "
   ]
  },
  {
   "cell_type": "code",
   "execution_count": 16,
   "id": "d7645ad4",
   "metadata": {},
   "outputs": [],
   "source": [
    "#conn.close()"
   ]
  },
  {
   "cell_type": "code",
   "execution_count": 17,
   "id": "b76dde94",
   "metadata": {},
   "outputs": [
    {
     "data": {
      "text/plain": [
       "Text(0.5, 1.0, 'Number of Users by Region')"
      ]
     },
     "execution_count": 17,
     "metadata": {},
     "output_type": "execute_result"
    },
    {
     "data": {
      "image/png": "[encoded data removed]",
      "text/plain": [
       "<Figure size 432x288 with 1 Axes>"
      ]
     },
     "metadata": {
      "needs_background": "light"
     },
     "output_type": "display_data"
    }
   ],
   "source": [
    "plt.bar(x=regions['region'], height=regions['numberofusers'])\n",
    "plt.xlabel('Region')\n",
    "plt.ylabel('Number of Users')\n",
    "plt.title('Number of Users by Region')\n"
   ]
  },
  {
   "cell_type": "markdown",
   "id": "867c0b33",
   "metadata": {},
   "source": []
  },
  {
   "cell_type": "code",
   "execution_count": 18,
   "id": "f84c0efb",
   "metadata": {},
   "outputs": [],
   "source": [
    "region_name = regions['region']"
   ]
  },
  {
   "cell_type": "code",
   "execution_count": 19,
   "id": "abcfbdef",
   "metadata": {},
   "outputs": [],
   "source": [
    "num_users = regions['numberofusers']"
   ]
  },
  {
   "cell_type": "code",
   "execution_count": 20,
   "id": "ee8bd069",
   "metadata": {},
   "outputs": [
    {
     "data": {
      "image/png": "[encoded data removed]",
      "text/plain": [
       "<Figure size 432x432 with 1 Axes>"
      ]
     },
     "metadata": {},
     "output_type": "display_data"
    }
   ],
   "source": [
    "plt.figure(figsize=(6, 6))\n",
    "plt.pie(num_users, labels=region_name, autopct='%1.1f%%', startangle=140)\n",
    "plt.title('Distribution of users by Region')\n",
    "plt.axis('equal')\n",
    "plt.grid(True)  # Add a grid\n",
    "plt.show()"
   ]
  },
  {
   "cell_type": "markdown",
   "id": "4301656e",
   "metadata": {},
   "source": [
    "Based on my analysis, it is evident that the United States has the highest number of users for this bank, while the lowest number of users can be found in Russia and China, respectively."
   ]
  },
  {
   "cell_type": "markdown",
   "id": "22c0be58",
   "metadata": {},
   "source": [
    "Task 2:\n",
    "Find the user who made the largest deposit amount and the transaction type for that deposit."
   ]
  },
  {
   "cell_type": "code",
   "execution_count": 21,
   "id": "a6eb9c95",
   "metadata": {},
   "outputs": [],
   "source": [
    "query = \"\"\"SELECT consumer_id,transaction_type,transaction_amount FROM user_transaction_cleaned WHERE transaction_amount = (select MAX(transaction_amount) from user_transaction_cleaned);\n",
    "\"\"\""
   ]
  },
  {
   "cell_type": "code",
   "execution_count": 22,
   "id": "29f81539",
   "metadata": {},
   "outputs": [],
   "source": [
    "largest_amount= pd.read_sql_query(query, conn)"
   ]
  },
  {
   "cell_type": "code",
   "execution_count": 23,
   "id": "a7e3abef",
   "metadata": {},
   "outputs": [
    {
     "data": {
      "text/html": [
       "<div>\n",
       "<style scoped>\n",
       "    .dataframe tbody tr th:only-of-type {\n",
       "        vertical-align: middle;\n",
       "    }\n",
       "\n",
       "    .dataframe tbody tr th {\n",
       "        vertical-align: top;\n",
       "    }\n",
       "\n",
       "    .dataframe thead th {\n",
       "        text-align: right;\n",
       "    }\n",
       "</style>\n",
       "<table border=\"1\" class=\"dataframe\">\n",
       "  <thead>\n",
       "    <tr style=\"text-align: right;\">\n",
       "      <th></th>\n",
       "      <th>consumer_id</th>\n",
       "      <th>transaction_type</th>\n",
       "      <th>transaction_amount</th>\n",
       "    </tr>\n",
       "  </thead>\n",
       "  <tbody>\n",
       "    <tr>\n",
       "      <th>0</th>\n",
       "      <td>218</td>\n",
       "      <td>deposit</td>\n",
       "      <td>1000.0</td>\n",
       "    </tr>\n",
       "    <tr>\n",
       "      <th>1</th>\n",
       "      <td>219</td>\n",
       "      <td>deposit</td>\n",
       "      <td>1000.0</td>\n",
       "    </tr>\n",
       "  </tbody>\n",
       "</table>\n",
       "</div>"
      ],
      "text/plain": [
       "   consumer_id transaction_type  transaction_amount\n",
       "0          218          deposit              1000.0\n",
       "1          219          deposit              1000.0"
      ]
     },
     "execution_count": 23,
     "metadata": {},
     "output_type": "execute_result"
    }
   ],
   "source": [
    "largest_amount"
   ]
  },
  {
   "cell_type": "code",
   "execution_count": 24,
   "id": "37b044af",
   "metadata": {},
   "outputs": [
    {
     "data": {
      "image/png": "[encoded data removed]",
      "text/plain": [
       "<Figure size 432x288 with 1 Axes>"
      ]
     },
     "metadata": {
      "needs_background": "light"
     },
     "output_type": "display_data"
    }
   ],
   "source": [
    "sns.kdeplot(data=largest_amount, x='consumer_id', hue='transaction_type', common_norm=False)\n",
    "plt.title(\"KDE Plot of Consumer ID by Transaction Type\")\n",
    "plt.xlabel(\"Consumer ID\")\n",
    "plt.ylabel(\"Density\")\n",
    "plt.show()"
   ]
  },
  {
   "cell_type": "markdown",
   "id": "5930cf1b",
   "metadata": {},
   "source": [
    "The customers with the highest single deposit amounts are customer IDs 218 and 219, respectively. They both carried out deposit transactions  of $1000 in their respective currencies, This is the highest single day deposit the bank has recorded in all it regions "
   ]
  },
  {
   "cell_type": "markdown",
   "id": "be6dec25",
   "metadata": {},
   "source": [
    "Task 3: \n",
    "Calculate the total amount deposited for each user in the \"Europe\" region."
   ]
  },
  {
   "cell_type": "code",
   "execution_count": 25,
   "id": "74ba6c4f",
   "metadata": {},
   "outputs": [],
   "source": [
    "query =\"\"\"SELECT ut.consumer_id AS user, SUM(ut.transaction_amount) AS total_amount_deposited\n",
    "FROM user_transaction_cleaned ut\n",
    "JOIN user_nodes_cleaned ur ON ut.consumer_id = ur.consumer_id\n",
    "JOIN world_regions wr ON wr.region_code = ur.region_id\n",
    "WHERE wr.region_name = 'Europe'\n",
    "GROUP BY ut.consumer_id\n",
    "ORDER BY total_amount_deposited desc;\n",
    "\"\"\""
   ]
  },
  {
   "cell_type": "code",
   "execution_count": 26,
   "id": "8854cdde",
   "metadata": {},
   "outputs": [],
   "source": [
    "europe_deposit= pd.read_sql_query(query, conn)"
   ]
  },
  {
   "cell_type": "code",
   "execution_count": 27,
   "id": "5bae3545",
   "metadata": {},
   "outputs": [
    {
     "data": {
      "text/html": [
       "<div>\n",
       "<style scoped>\n",
       "    .dataframe tbody tr th:only-of-type {\n",
       "        vertical-align: middle;\n",
       "    }\n",
       "\n",
       "    .dataframe tbody tr th {\n",
       "        vertical-align: top;\n",
       "    }\n",
       "\n",
       "    .dataframe thead th {\n",
       "        text-align: right;\n",
       "    }\n",
       "</style>\n",
       "<table border=\"1\" class=\"dataframe\">\n",
       "  <thead>\n",
       "    <tr style=\"text-align: right;\">\n",
       "      <th></th>\n",
       "      <th>user</th>\n",
       "      <th>total_amount_deposited</th>\n",
       "    </tr>\n",
       "  </thead>\n",
       "  <tbody>\n",
       "    <tr>\n",
       "      <th>0</th>\n",
       "      <td>197</td>\n",
       "      <td>87563.0</td>\n",
       "    </tr>\n",
       "    <tr>\n",
       "      <th>1</th>\n",
       "      <td>281</td>\n",
       "      <td>86184.0</td>\n",
       "    </tr>\n",
       "    <tr>\n",
       "      <th>2</th>\n",
       "      <td>76</td>\n",
       "      <td>77889.0</td>\n",
       "    </tr>\n",
       "    <tr>\n",
       "      <th>3</th>\n",
       "      <td>275</td>\n",
       "      <td>77049.0</td>\n",
       "    </tr>\n",
       "    <tr>\n",
       "      <th>4</th>\n",
       "      <td>110</td>\n",
       "      <td>76447.0</td>\n",
       "    </tr>\n",
       "    <tr>\n",
       "      <th>...</th>\n",
       "      <td>...</td>\n",
       "      <td>...</td>\n",
       "    </tr>\n",
       "    <tr>\n",
       "      <th>100</th>\n",
       "      <td>62</td>\n",
       "      <td>8393.0</td>\n",
       "    </tr>\n",
       "    <tr>\n",
       "      <th>101</th>\n",
       "      <td>263</td>\n",
       "      <td>8190.0</td>\n",
       "    </tr>\n",
       "    <tr>\n",
       "      <th>102</th>\n",
       "      <td>99</td>\n",
       "      <td>8127.0</td>\n",
       "    </tr>\n",
       "    <tr>\n",
       "      <th>103</th>\n",
       "      <td>162</td>\n",
       "      <td>8092.0</td>\n",
       "    </tr>\n",
       "    <tr>\n",
       "      <th>104</th>\n",
       "      <td>133</td>\n",
       "      <td>6482.0</td>\n",
       "    </tr>\n",
       "  </tbody>\n",
       "</table>\n",
       "<p>105 rows × 2 columns</p>\n",
       "</div>"
      ],
      "text/plain": [
       "     user  total_amount_deposited\n",
       "0     197                 87563.0\n",
       "1     281                 86184.0\n",
       "2      76                 77889.0\n",
       "3     275                 77049.0\n",
       "4     110                 76447.0\n",
       "..    ...                     ...\n",
       "100    62                  8393.0\n",
       "101   263                  8190.0\n",
       "102    99                  8127.0\n",
       "103   162                  8092.0\n",
       "104   133                  6482.0\n",
       "\n",
       "[105 rows x 2 columns]"
      ]
     },
     "execution_count": 27,
     "metadata": {},
     "output_type": "execute_result"
    }
   ],
   "source": [
    "europe_deposit"
   ]
  },
  {
   "cell_type": "code",
   "execution_count": 28,
   "id": "d9a60253",
   "metadata": {},
   "outputs": [],
   "source": [
    "highset_total_deposit = europe_deposit.head(5)"
   ]
  },
  {
   "cell_type": "code",
   "execution_count": 29,
   "id": "f3a02954",
   "metadata": {},
   "outputs": [
    {
     "data": {
      "text/html": [
       "<div>\n",
       "<style scoped>\n",
       "    .dataframe tbody tr th:only-of-type {\n",
       "        vertical-align: middle;\n",
       "    }\n",
       "\n",
       "    .dataframe tbody tr th {\n",
       "        vertical-align: top;\n",
       "    }\n",
       "\n",
       "    .dataframe thead th {\n",
       "        text-align: right;\n",
       "    }\n",
       "</style>\n",
       "<table border=\"1\" class=\"dataframe\">\n",
       "  <thead>\n",
       "    <tr style=\"text-align: right;\">\n",
       "      <th></th>\n",
       "      <th>user</th>\n",
       "      <th>total_amount_deposited</th>\n",
       "    </tr>\n",
       "  </thead>\n",
       "  <tbody>\n",
       "    <tr>\n",
       "      <th>0</th>\n",
       "      <td>197</td>\n",
       "      <td>87563.0</td>\n",
       "    </tr>\n",
       "    <tr>\n",
       "      <th>1</th>\n",
       "      <td>281</td>\n",
       "      <td>86184.0</td>\n",
       "    </tr>\n",
       "    <tr>\n",
       "      <th>2</th>\n",
       "      <td>76</td>\n",
       "      <td>77889.0</td>\n",
       "    </tr>\n",
       "    <tr>\n",
       "      <th>3</th>\n",
       "      <td>275</td>\n",
       "      <td>77049.0</td>\n",
       "    </tr>\n",
       "    <tr>\n",
       "      <th>4</th>\n",
       "      <td>110</td>\n",
       "      <td>76447.0</td>\n",
       "    </tr>\n",
       "  </tbody>\n",
       "</table>\n",
       "</div>"
      ],
      "text/plain": [
       "   user  total_amount_deposited\n",
       "0   197                 87563.0\n",
       "1   281                 86184.0\n",
       "2    76                 77889.0\n",
       "3   275                 77049.0\n",
       "4   110                 76447.0"
      ]
     },
     "execution_count": 29,
     "metadata": {},
     "output_type": "execute_result"
    }
   ],
   "source": [
    "highset_total_deposit"
   ]
  },
  {
   "cell_type": "code",
   "execution_count": 30,
   "id": "91618f8a",
   "metadata": {},
   "outputs": [
    {
     "data": {
      "image/png": "[encoded data removed]",
      "text/plain": [
       "<Figure size 576x432 with 2 Axes>"
      ]
     },
     "metadata": {
      "needs_background": "light"
     },
     "output_type": "display_data"
    }
   ],
   "source": [
    "contingency_table = pd.crosstab(highset_total_deposit[\"user\"], highset_total_deposit[\"total_amount_deposited\"])\n",
    "fig = plt.figure(figsize=(8, 6))\n",
    "fig.suptitle('Contingency Table of 5 sum of  Deposit by User')\n",
    "sns.heatmap(contingency_table, annot=True, cmap=\"YlGnBu\")\n",
    "fig.savefig('user_transactions_heatmap.jpg', dpi=300)\n",
    "plt.show()"
   ]
  },
  {
   "cell_type": "markdown",
   "id": "3ba5ed76",
   "metadata": {},
   "source": [
    "Customers with user IDs 281, 275, 197, 110, and 76 collectively made the highest number of deposits in the European region over the years 2020 and 2021. Their total deposits amounted to an impressive sum of 404,802, establishing them as the bank's most significant customers."
   ]
  },
  {
   "cell_type": "code",
   "execution_count": 31,
   "id": "17bd3b7e",
   "metadata": {},
   "outputs": [],
   "source": [
    "lowest_total_deposit = europe_deposit.tail(5)"
   ]
  },
  {
   "cell_type": "code",
   "execution_count": 32,
   "id": "c1a09f8d",
   "metadata": {},
   "outputs": [
    {
     "data": {
      "text/html": [
       "<div>\n",
       "<style scoped>\n",
       "    .dataframe tbody tr th:only-of-type {\n",
       "        vertical-align: middle;\n",
       "    }\n",
       "\n",
       "    .dataframe tbody tr th {\n",
       "        vertical-align: top;\n",
       "    }\n",
       "\n",
       "    .dataframe thead th {\n",
       "        text-align: right;\n",
       "    }\n",
       "</style>\n",
       "<table border=\"1\" class=\"dataframe\">\n",
       "  <thead>\n",
       "    <tr style=\"text-align: right;\">\n",
       "      <th></th>\n",
       "      <th>user</th>\n",
       "      <th>total_amount_deposited</th>\n",
       "    </tr>\n",
       "  </thead>\n",
       "  <tbody>\n",
       "    <tr>\n",
       "      <th>100</th>\n",
       "      <td>62</td>\n",
       "      <td>8393.0</td>\n",
       "    </tr>\n",
       "    <tr>\n",
       "      <th>101</th>\n",
       "      <td>263</td>\n",
       "      <td>8190.0</td>\n",
       "    </tr>\n",
       "    <tr>\n",
       "      <th>102</th>\n",
       "      <td>99</td>\n",
       "      <td>8127.0</td>\n",
       "    </tr>\n",
       "    <tr>\n",
       "      <th>103</th>\n",
       "      <td>162</td>\n",
       "      <td>8092.0</td>\n",
       "    </tr>\n",
       "    <tr>\n",
       "      <th>104</th>\n",
       "      <td>133</td>\n",
       "      <td>6482.0</td>\n",
       "    </tr>\n",
       "  </tbody>\n",
       "</table>\n",
       "</div>"
      ],
      "text/plain": [
       "     user  total_amount_deposited\n",
       "100    62                  8393.0\n",
       "101   263                  8190.0\n",
       "102    99                  8127.0\n",
       "103   162                  8092.0\n",
       "104   133                  6482.0"
      ]
     },
     "execution_count": 32,
     "metadata": {},
     "output_type": "execute_result"
    }
   ],
   "source": [
    "lowest_total_deposit"
   ]
  },
  {
   "cell_type": "code",
   "execution_count": 33,
   "id": "4fe3c0ad",
   "metadata": {},
   "outputs": [
    {
     "data": {
      "image/png": "[encoded data removed]",
      "text/plain": [
       "<Figure size 576x432 with 2 Axes>"
      ]
     },
     "metadata": {
      "needs_background": "light"
     },
     "output_type": "display_data"
    }
   ],
   "source": [
    "contingency_table = pd.crosstab(lowest_total_deposit[\"user\"], lowest_total_deposit[\"total_amount_deposited\"])\n",
    "fig = plt.figure(figsize=(8, 6))\n",
    "fig.suptitle('Contingency Table of lowest sum of  Deposit by User')\n",
    "sns.heatmap(contingency_table, annot=True, cmap=\"YlGnBu\")\n",
    "fig.savefig('user_transactions_heatmap.jpg', dpi=300)\n",
    "plt.show()"
   ]
  },
  {
   "cell_type": "markdown",
   "id": "e5744d59",
   "metadata": {},
   "source": [
    "In contrast, customers with user IDs 263, 162, 133, 99, and 62 had the smallest cumulative deposit amounts in the European region over the course of the years 2020 and 2021. Collectively, their total deposits amounted to a considerably lower sum of 39,284. This indicates that they have made fewer and smaller deposits compared to the bank's more substantial customers in the region."
   ]
  },
  {
   "cell_type": "markdown",
   "id": "23f3f862",
   "metadata": {},
   "source": [
    "TASK 4:\n",
    "Calculate the total number of transactions made by each user in the \"United States\" region."
   ]
  },
  {
   "cell_type": "code",
   "execution_count": 34,
   "id": "7d36d73a",
   "metadata": {},
   "outputs": [],
   "source": [
    "query = \"\"\"SELECT ut.consumer_id AS user, COUNT(ut.consumer_id) AS total_transactions\n",
    "FROM user_transaction_cleaned ut\n",
    "JOIN user_nodes_cleaned ur ON ut.consumer_id = ur.consumer_id\n",
    "JOIN world_regions wr ON wr.region_code = ur.region_id\n",
    "WHERE wr.region_name = 'United States'\n",
    "GROUP BY ut.consumer_id\n",
    "ORDER BY total_transactions DESC;\n",
    "\"\"\""
   ]
  },
  {
   "cell_type": "code",
   "execution_count": 35,
   "id": "7f017b10",
   "metadata": {},
   "outputs": [],
   "source": [
    "usa_transaction = pd.read_sql_query(query,conn)"
   ]
  },
  {
   "cell_type": "code",
   "execution_count": 36,
   "id": "4f617ef5",
   "metadata": {},
   "outputs": [
    {
     "data": {
      "text/html": [
       "<div>\n",
       "<style scoped>\n",
       "    .dataframe tbody tr th:only-of-type {\n",
       "        vertical-align: middle;\n",
       "    }\n",
       "\n",
       "    .dataframe tbody tr th {\n",
       "        vertical-align: top;\n",
       "    }\n",
       "\n",
       "    .dataframe thead th {\n",
       "        text-align: right;\n",
       "    }\n",
       "</style>\n",
       "<table border=\"1\" class=\"dataframe\">\n",
       "  <thead>\n",
       "    <tr style=\"text-align: right;\">\n",
       "      <th></th>\n",
       "      <th>user</th>\n",
       "      <th>total_transactions</th>\n",
       "    </tr>\n",
       "  </thead>\n",
       "  <tbody>\n",
       "    <tr>\n",
       "      <th>0</th>\n",
       "      <td>69</td>\n",
       "      <td>154</td>\n",
       "    </tr>\n",
       "    <tr>\n",
       "      <th>1</th>\n",
       "      <td>284</td>\n",
       "      <td>154</td>\n",
       "    </tr>\n",
       "    <tr>\n",
       "      <th>2</th>\n",
       "      <td>37</td>\n",
       "      <td>154</td>\n",
       "    </tr>\n",
       "    <tr>\n",
       "      <th>3</th>\n",
       "      <td>161</td>\n",
       "      <td>147</td>\n",
       "    </tr>\n",
       "    <tr>\n",
       "      <th>4</th>\n",
       "      <td>462</td>\n",
       "      <td>147</td>\n",
       "    </tr>\n",
       "    <tr>\n",
       "      <th>...</th>\n",
       "      <td>...</td>\n",
       "      <td>...</td>\n",
       "    </tr>\n",
       "    <tr>\n",
       "      <th>105</th>\n",
       "      <td>114</td>\n",
       "      <td>21</td>\n",
       "    </tr>\n",
       "    <tr>\n",
       "      <th>106</th>\n",
       "      <td>79</td>\n",
       "      <td>21</td>\n",
       "    </tr>\n",
       "    <tr>\n",
       "      <th>107</th>\n",
       "      <td>84</td>\n",
       "      <td>14</td>\n",
       "    </tr>\n",
       "    <tr>\n",
       "      <th>108</th>\n",
       "      <td>15</td>\n",
       "      <td>14</td>\n",
       "    </tr>\n",
       "    <tr>\n",
       "      <th>109</th>\n",
       "      <td>73</td>\n",
       "      <td>14</td>\n",
       "    </tr>\n",
       "  </tbody>\n",
       "</table>\n",
       "<p>110 rows × 2 columns</p>\n",
       "</div>"
      ],
      "text/plain": [
       "     user  total_transactions\n",
       "0      69                 154\n",
       "1     284                 154\n",
       "2      37                 154\n",
       "3     161                 147\n",
       "4     462                 147\n",
       "..    ...                 ...\n",
       "105   114                  21\n",
       "106    79                  21\n",
       "107    84                  14\n",
       "108    15                  14\n",
       "109    73                  14\n",
       "\n",
       "[110 rows x 2 columns]"
      ]
     },
     "execution_count": 36,
     "metadata": {},
     "output_type": "execute_result"
    }
   ],
   "source": [
    "usa_transaction"
   ]
  },
  {
   "cell_type": "code",
   "execution_count": 37,
   "id": "130a3378",
   "metadata": {},
   "outputs": [],
   "source": [
    "highset_transaction = usa_transaction.head(10)"
   ]
  },
  {
   "cell_type": "code",
   "execution_count": 38,
   "id": "b3e31446",
   "metadata": {},
   "outputs": [
    {
     "data": {
      "text/html": [
       "<div>\n",
       "<style scoped>\n",
       "    .dataframe tbody tr th:only-of-type {\n",
       "        vertical-align: middle;\n",
       "    }\n",
       "\n",
       "    .dataframe tbody tr th {\n",
       "        vertical-align: top;\n",
       "    }\n",
       "\n",
       "    .dataframe thead th {\n",
       "        text-align: right;\n",
       "    }\n",
       "</style>\n",
       "<table border=\"1\" class=\"dataframe\">\n",
       "  <thead>\n",
       "    <tr style=\"text-align: right;\">\n",
       "      <th></th>\n",
       "      <th>user</th>\n",
       "      <th>total_transactions</th>\n",
       "    </tr>\n",
       "  </thead>\n",
       "  <tbody>\n",
       "    <tr>\n",
       "      <th>0</th>\n",
       "      <td>69</td>\n",
       "      <td>154</td>\n",
       "    </tr>\n",
       "    <tr>\n",
       "      <th>1</th>\n",
       "      <td>284</td>\n",
       "      <td>154</td>\n",
       "    </tr>\n",
       "    <tr>\n",
       "      <th>2</th>\n",
       "      <td>37</td>\n",
       "      <td>154</td>\n",
       "    </tr>\n",
       "    <tr>\n",
       "      <th>3</th>\n",
       "      <td>161</td>\n",
       "      <td>147</td>\n",
       "    </tr>\n",
       "    <tr>\n",
       "      <th>4</th>\n",
       "      <td>462</td>\n",
       "      <td>147</td>\n",
       "    </tr>\n",
       "    <tr>\n",
       "      <th>5</th>\n",
       "      <td>422</td>\n",
       "      <td>147</td>\n",
       "    </tr>\n",
       "    <tr>\n",
       "      <th>6</th>\n",
       "      <td>102</td>\n",
       "      <td>147</td>\n",
       "    </tr>\n",
       "    <tr>\n",
       "      <th>7</th>\n",
       "      <td>344</td>\n",
       "      <td>147</td>\n",
       "    </tr>\n",
       "    <tr>\n",
       "      <th>8</th>\n",
       "      <td>442</td>\n",
       "      <td>147</td>\n",
       "    </tr>\n",
       "    <tr>\n",
       "      <th>9</th>\n",
       "      <td>283</td>\n",
       "      <td>140</td>\n",
       "    </tr>\n",
       "  </tbody>\n",
       "</table>\n",
       "</div>"
      ],
      "text/plain": [
       "   user  total_transactions\n",
       "0    69                 154\n",
       "1   284                 154\n",
       "2    37                 154\n",
       "3   161                 147\n",
       "4   462                 147\n",
       "5   422                 147\n",
       "6   102                 147\n",
       "7   344                 147\n",
       "8   442                 147\n",
       "9   283                 140"
      ]
     },
     "execution_count": 38,
     "metadata": {},
     "output_type": "execute_result"
    }
   ],
   "source": [
    "highset_transaction"
   ]
  },
  {
   "cell_type": "code",
   "execution_count": 39,
   "id": "6fa80c13",
   "metadata": {},
   "outputs": [],
   "source": [
    "lowest_transaction = usa_transaction.tail(10)"
   ]
  },
  {
   "cell_type": "code",
   "execution_count": 40,
   "id": "497a23db",
   "metadata": {},
   "outputs": [
    {
     "data": {
      "text/html": [
       "<div>\n",
       "<style scoped>\n",
       "    .dataframe tbody tr th:only-of-type {\n",
       "        vertical-align: middle;\n",
       "    }\n",
       "\n",
       "    .dataframe tbody tr th {\n",
       "        vertical-align: top;\n",
       "    }\n",
       "\n",
       "    .dataframe thead th {\n",
       "        text-align: right;\n",
       "    }\n",
       "</style>\n",
       "<table border=\"1\" class=\"dataframe\">\n",
       "  <thead>\n",
       "    <tr style=\"text-align: right;\">\n",
       "      <th></th>\n",
       "      <th>user</th>\n",
       "      <th>total_transactions</th>\n",
       "    </tr>\n",
       "  </thead>\n",
       "  <tbody>\n",
       "    <tr>\n",
       "      <th>100</th>\n",
       "      <td>204</td>\n",
       "      <td>28</td>\n",
       "    </tr>\n",
       "    <tr>\n",
       "      <th>101</th>\n",
       "      <td>12</td>\n",
       "      <td>28</td>\n",
       "    </tr>\n",
       "    <tr>\n",
       "      <th>102</th>\n",
       "      <td>137</td>\n",
       "      <td>28</td>\n",
       "    </tr>\n",
       "    <tr>\n",
       "      <th>103</th>\n",
       "      <td>71</td>\n",
       "      <td>28</td>\n",
       "    </tr>\n",
       "    <tr>\n",
       "      <th>104</th>\n",
       "      <td>455</td>\n",
       "      <td>21</td>\n",
       "    </tr>\n",
       "    <tr>\n",
       "      <th>105</th>\n",
       "      <td>114</td>\n",
       "      <td>21</td>\n",
       "    </tr>\n",
       "    <tr>\n",
       "      <th>106</th>\n",
       "      <td>79</td>\n",
       "      <td>21</td>\n",
       "    </tr>\n",
       "    <tr>\n",
       "      <th>107</th>\n",
       "      <td>84</td>\n",
       "      <td>14</td>\n",
       "    </tr>\n",
       "    <tr>\n",
       "      <th>108</th>\n",
       "      <td>15</td>\n",
       "      <td>14</td>\n",
       "    </tr>\n",
       "    <tr>\n",
       "      <th>109</th>\n",
       "      <td>73</td>\n",
       "      <td>14</td>\n",
       "    </tr>\n",
       "  </tbody>\n",
       "</table>\n",
       "</div>"
      ],
      "text/plain": [
       "     user  total_transactions\n",
       "100   204                  28\n",
       "101    12                  28\n",
       "102   137                  28\n",
       "103    71                  28\n",
       "104   455                  21\n",
       "105   114                  21\n",
       "106    79                  21\n",
       "107    84                  14\n",
       "108    15                  14\n",
       "109    73                  14"
      ]
     },
     "execution_count": 40,
     "metadata": {},
     "output_type": "execute_result"
    }
   ],
   "source": [
    "lowest_transaction "
   ]
  },
  {
   "cell_type": "markdown",
   "id": "041d6b80",
   "metadata": {},
   "source": [
    "In the United States, the highest number of transactions conducted over the years 2020 and 2021 was 154, while the lowest number of transactions recorded was just 14"
   ]
  },
  {
   "cell_type": "markdown",
   "id": "72a27e8c",
   "metadata": {},
   "source": [
    "Task 5:\n",
    "Find the regions with the highest number of nodes assigned to them.\n"
   ]
  },
  {
   "cell_type": "code",
   "execution_count": 41,
   "id": "59130f43",
   "metadata": {},
   "outputs": [],
   "source": [
    "query = \"\"\"SELECT wr.region_name, COUNT(un.node_id) AS num_nodes\n",
    "FROM user_nodes_cleaned un\n",
    "JOIN world_regions wr ON wr.region_code = un.region_id\n",
    "GROUP BY wr.region_name\n",
    "ORDER BY num_nodes DESC;\n",
    "\n",
    "\"\"\""
   ]
  },
  {
   "cell_type": "code",
   "execution_count": 42,
   "id": "1a154fae",
   "metadata": {},
   "outputs": [],
   "source": [
    "region_with_highest_nodes = pd.read_sql_query(query,conn)"
   ]
  },
  {
   "cell_type": "code",
   "execution_count": 43,
   "id": "c83ea92d",
   "metadata": {},
   "outputs": [
    {
     "data": {
      "text/html": [
       "<div>\n",
       "<style scoped>\n",
       "    .dataframe tbody tr th:only-of-type {\n",
       "        vertical-align: middle;\n",
       "    }\n",
       "\n",
       "    .dataframe tbody tr th {\n",
       "        vertical-align: top;\n",
       "    }\n",
       "\n",
       "    .dataframe thead th {\n",
       "        text-align: right;\n",
       "    }\n",
       "</style>\n",
       "<table border=\"1\" class=\"dataframe\">\n",
       "  <thead>\n",
       "    <tr style=\"text-align: right;\">\n",
       "      <th></th>\n",
       "      <th>region_name</th>\n",
       "      <th>num_nodes</th>\n",
       "    </tr>\n",
       "  </thead>\n",
       "  <tbody>\n",
       "    <tr>\n",
       "      <th>0</th>\n",
       "      <td>United States</td>\n",
       "      <td>770</td>\n",
       "    </tr>\n",
       "    <tr>\n",
       "      <th>1</th>\n",
       "      <td>Europe</td>\n",
       "      <td>735</td>\n",
       "    </tr>\n",
       "    <tr>\n",
       "      <th>2</th>\n",
       "      <td>Australia</td>\n",
       "      <td>714</td>\n",
       "    </tr>\n",
       "    <tr>\n",
       "      <th>3</th>\n",
       "      <td>Asia</td>\n",
       "      <td>665</td>\n",
       "    </tr>\n",
       "    <tr>\n",
       "      <th>4</th>\n",
       "      <td>Africa</td>\n",
       "      <td>616</td>\n",
       "    </tr>\n",
       "  </tbody>\n",
       "</table>\n",
       "</div>"
      ],
      "text/plain": [
       "     region_name  num_nodes\n",
       "0  United States        770\n",
       "1         Europe        735\n",
       "2      Australia        714\n",
       "3           Asia        665\n",
       "4         Africa        616"
      ]
     },
     "execution_count": 43,
     "metadata": {},
     "output_type": "execute_result"
    }
   ],
   "source": [
    "region_with_highest_nodes"
   ]
  },
  {
   "cell_type": "code",
   "execution_count": 44,
   "id": "a1f5d86e",
   "metadata": {},
   "outputs": [],
   "source": [
    "region_names = region_with_highest_nodes['region_name']\n",
    "num_nodes = region_with_highest_nodes['num_nodes']"
   ]
  },
  {
   "cell_type": "code",
   "execution_count": 94,
   "id": "78141456",
   "metadata": {},
   "outputs": [
    {
     "data": {
      "image/png": "[encoded data removed]",
      "text/plain": [
       "<Figure size 432x432 with 1 Axes>"
      ]
     },
     "metadata": {},
     "output_type": "display_data"
    }
   ],
   "source": [
    "plt.figure(figsize=(6, 6))\n",
    "plt.pie(num_nodes, labels=region_names, autopct='%1.1f%%', startangle=140)\n",
    "plt.title('Distribution of Nodes by Region')\n",
    "plt.axis('equal')  \n",
    "plt.axis('equal')\n",
    "plt.grid(True)  \n",
    "plt.show()"
   ]
  },
  {
   "cell_type": "markdown",
   "id": "4e62f3fb",
   "metadata": {},
   "source": [
    "The data shows that the \"United States\" has the most banking locations, with 770 nodes. Europe is a close second with 735 nodes, and Australia isn't far behind with 714 nodes. Meanwhile, Asia has 665 nodes, and Africa has the fewest, with 616 nodes.\n",
    "\n",
    "This information helps us understand where the bank's locations are concentrated. It's interesting to note that the United States has the most, indicating that the bank has a strong presence there. This means that customers in the United States have many places to access the bank's services, making it convenient for them. This strategy in the U.S. market shows the bank's commitment to serving customers effectively."
   ]
  },
  {
   "cell_type": "markdown",
   "id": "0261bce3",
   "metadata": {},
   "source": [
    "Task 6: Calculate the total amount deposited by each user in each region."
   ]
  },
  {
   "cell_type": "code",
   "execution_count": 46,
   "id": "68273d13",
   "metadata": {},
   "outputs": [],
   "source": [
    "query = \"\"\"SELECT wr.region_name, SUM(ut.transaction_amount) as total_deposit\n",
    "FROM user_transaction_cleaned ut\n",
    "JOIN user_nodes_cleaned un ON ut.consumer_id = un.consumer_id\n",
    "JOIN world_regions wr ON un.region_id = wr.region_code\n",
    "WHERE ut.transaction_type = 'deposit'\n",
    "GROUP BY wr.region_name\n",
    "ORDER BY wr.region_name DESC;\n",
    "\"\"\"\n"
   ]
  },
  {
   "cell_type": "code",
   "execution_count": 47,
   "id": "c3a2d1e0",
   "metadata": {},
   "outputs": [],
   "source": [
    "deposit_per_region = pd.read_sql_query(query,conn)"
   ]
  },
  {
   "cell_type": "code",
   "execution_count": 48,
   "id": "75517ad5",
   "metadata": {},
   "outputs": [
    {
     "data": {
      "text/html": [
       "<div>\n",
       "<style scoped>\n",
       "    .dataframe tbody tr th:only-of-type {\n",
       "        vertical-align: middle;\n",
       "    }\n",
       "\n",
       "    .dataframe tbody tr th {\n",
       "        vertical-align: top;\n",
       "    }\n",
       "\n",
       "    .dataframe thead th {\n",
       "        text-align: right;\n",
       "    }\n",
       "</style>\n",
       "<table border=\"1\" class=\"dataframe\">\n",
       "  <thead>\n",
       "    <tr style=\"text-align: right;\">\n",
       "      <th></th>\n",
       "      <th>region_name</th>\n",
       "      <th>total_deposit</th>\n",
       "    </tr>\n",
       "  </thead>\n",
       "  <tbody>\n",
       "    <tr>\n",
       "      <th>0</th>\n",
       "      <td>United States</td>\n",
       "      <td>2078069.0</td>\n",
       "    </tr>\n",
       "    <tr>\n",
       "      <th>1</th>\n",
       "      <td>Europe</td>\n",
       "      <td>2120503.0</td>\n",
       "    </tr>\n",
       "    <tr>\n",
       "      <th>2</th>\n",
       "      <td>Australia</td>\n",
       "      <td>1851703.0</td>\n",
       "    </tr>\n",
       "    <tr>\n",
       "      <th>3</th>\n",
       "      <td>Asia</td>\n",
       "      <td>1853110.0</td>\n",
       "    </tr>\n",
       "    <tr>\n",
       "      <th>4</th>\n",
       "      <td>Africa</td>\n",
       "      <td>1610791.0</td>\n",
       "    </tr>\n",
       "  </tbody>\n",
       "</table>\n",
       "</div>"
      ],
      "text/plain": [
       "     region_name  total_deposit\n",
       "0  United States      2078069.0\n",
       "1         Europe      2120503.0\n",
       "2      Australia      1851703.0\n",
       "3           Asia      1853110.0\n",
       "4         Africa      1610791.0"
      ]
     },
     "execution_count": 48,
     "metadata": {},
     "output_type": "execute_result"
    }
   ],
   "source": [
    "deposit_per_region"
   ]
  },
  {
   "cell_type": "code",
   "execution_count": 49,
   "id": "7cb5c325",
   "metadata": {},
   "outputs": [
    {
     "data": {
      "text/plain": [
       "Text(0.5, 1.0, 'total_deposit by Region')"
      ]
     },
     "execution_count": 49,
     "metadata": {},
     "output_type": "execute_result"
    },
    {
     "data": {
      "image/png": "[encoded data removed]",
      "text/plain": [
       "<Figure size 432x288 with 1 Axes>"
      ]
     },
     "metadata": {
      "needs_background": "light"
     },
     "output_type": "display_data"
    }
   ],
   "source": [
    "plt.bar(x=deposit_per_region['region_name'], height=deposit_per_region['total_deposit'])\n",
    "plt.xlabel('Region')\n",
    "plt.ylabel('total_deposit')\n",
    "plt.title('total_deposit by Region')\n"
   ]
  },
  {
   "cell_type": "markdown",
   "id": "41b0e736",
   "metadata": {},
   "source": [
    "This results show the total deposit amounts for different regions based on \"deposit\" transactions:\n",
    "\n",
    "United States: Customers in the United States have collectively deposited $2,078,069.0, reflecting a substantial presence and activity in this region.\n",
    "\n",
    "Europe: Europe follows closely with a total deposit of $2,120,503.0, indicating a strong customer base and banking activity.\n",
    "\n",
    "Australia: The bank has received deposits totaling $1,851,703.0 from customers in Australia, demonstrating a solid financial presence in this region.\n",
    "\n",
    "Asia: Asia shows a total deposit of $1,853,110.0, highlighting significant banking engagement.\n",
    "\n",
    "Africa: Customers in Africa have deposited $1,610,791.0, representing a notable but slightly lower deposit total.\n",
    "\n",
    "\n",
    "These figures provide valuable insights for the bank in multiple critical areas. Firstly, they shed light on regional performance by revealing how each region contributes to the bank's overall deposit portfolio, enabling the assessment of regional success. Secondly, the data plays a pivotal role in resource allocation, guiding the bank in deciding where to focus its efforts to attract more deposits effectively. Furthermore, it informs strategic decisions, like whether to grow in some areas, combine efforts in others, or make special products or services tailored to the unique needs of different regions. Lastly, the information prompts a closer examination of customer behavior and preferences across various regions, ultimately leading to the provision of more tailored and customer-centric services."
   ]
  },
  {
   "cell_type": "markdown",
   "id": "4890ebb3",
   "metadata": {},
   "source": [
    "Task 7: Retrieve the total number of all  transactions for each region."
   ]
  },
  {
   "cell_type": "code",
   "execution_count": 50,
   "id": "f3afce11",
   "metadata": {},
   "outputs": [],
   "source": [
    "query = \"\"\"SELECT COUNT(ut.consumer_id) as num_transactions, wr.region_name\n",
    "FROM user_transaction_cleaned ut\n",
    "JOIN user_nodes_cleaned un ON ut.consumer_id = un.consumer_id\n",
    "JOIN world_regions wr ON un.region_id = wr.region_code\n",
    "GROUP BY wr.region_name;\n",
    "\"\"\""
   ]
  },
  {
   "cell_type": "code",
   "execution_count": 51,
   "id": "035e0772",
   "metadata": {},
   "outputs": [],
   "source": [
    "transactions_per_region = pd.read_sql_query(query,conn)"
   ]
  },
  {
   "cell_type": "code",
   "execution_count": 52,
   "id": "5201388c",
   "metadata": {},
   "outputs": [
    {
     "data": {
      "text/html": [
       "<div>\n",
       "<style scoped>\n",
       "    .dataframe tbody tr th:only-of-type {\n",
       "        vertical-align: middle;\n",
       "    }\n",
       "\n",
       "    .dataframe tbody tr th {\n",
       "        vertical-align: top;\n",
       "    }\n",
       "\n",
       "    .dataframe thead th {\n",
       "        text-align: right;\n",
       "    }\n",
       "</style>\n",
       "<table border=\"1\" class=\"dataframe\">\n",
       "  <thead>\n",
       "    <tr style=\"text-align: right;\">\n",
       "      <th></th>\n",
       "      <th>num_transactions</th>\n",
       "      <th>region_name</th>\n",
       "    </tr>\n",
       "  </thead>\n",
       "  <tbody>\n",
       "    <tr>\n",
       "      <th>0</th>\n",
       "      <td>9107</td>\n",
       "      <td>United States</td>\n",
       "    </tr>\n",
       "    <tr>\n",
       "      <th>1</th>\n",
       "      <td>8414</td>\n",
       "      <td>Australia</td>\n",
       "    </tr>\n",
       "    <tr>\n",
       "      <th>2</th>\n",
       "      <td>6797</td>\n",
       "      <td>Africa</td>\n",
       "    </tr>\n",
       "    <tr>\n",
       "      <th>3</th>\n",
       "      <td>7952</td>\n",
       "      <td>Asia</td>\n",
       "    </tr>\n",
       "    <tr>\n",
       "      <th>4</th>\n",
       "      <td>8806</td>\n",
       "      <td>Europe</td>\n",
       "    </tr>\n",
       "  </tbody>\n",
       "</table>\n",
       "</div>"
      ],
      "text/plain": [
       "   num_transactions    region_name\n",
       "0              9107  United States\n",
       "1              8414      Australia\n",
       "2              6797         Africa\n",
       "3              7952           Asia\n",
       "4              8806         Europe"
      ]
     },
     "execution_count": 52,
     "metadata": {},
     "output_type": "execute_result"
    }
   ],
   "source": [
    "transactions_per_region"
   ]
  },
  {
   "cell_type": "code",
   "execution_count": 53,
   "id": "0e85cbbf",
   "metadata": {},
   "outputs": [
    {
     "data": {
      "text/plain": [
       "Text(0.5, 1.0, 'Number of transaction by Region')"
      ]
     },
     "execution_count": 53,
     "metadata": {},
     "output_type": "execute_result"
    },
    {
     "data": {
      "image/png": "[encoded data removed]",
      "text/plain": [
       "<Figure size 432x288 with 1 Axes>"
      ]
     },
     "metadata": {
      "needs_background": "light"
     },
     "output_type": "display_data"
    }
   ],
   "source": [
    "plt.bar(x=transactions_per_region['region_name'], height=transactions_per_region['num_transactions'])\n",
    "plt.xlabel('region_name')\n",
    "plt.ylabel('Number of transaction')\n",
    "plt.title('Number of transaction by Region')\n"
   ]
  },
  {
   "cell_type": "markdown",
   "id": "970e8449",
   "metadata": {},
   "source": [
    "The data provides a broad view of transactions across different regions, including withdrawals, deposits, and purchases. Each region has its own way of using these transaction types:\n",
    "\n",
    "United States: With 9,107 transactions, it's clear that people in the U.S. use a variety of financial services, like withdrawing, depositing, and purchasing. This shows that the U.S. has a diverse banking landscape, catering to different customer needs.\n",
    "\n",
    "Australia: Australia, with 8,414 transactions, also has a thriving financial environment. Here, people rely on various transaction types to meet their financial requirements, indicating a flexible banking system.\n",
    "\n",
    "Africa: Africa, recording 6,797 transactions, highlights the importance of different transaction types for its unique financial needs. This underscores the role of accessible banking services for various purposes.\n",
    "\n",
    "Asia: In Asia, where there are 7,952 transactions, people engage in a wide range of financial activities. This emphasizes the usefulness of different transaction types to meet diverse customer demands.\n",
    "\n",
    "Europe: Europe, with 8,806 transactions, caters to various financial needs, showcasing the adaptability of different transaction types to address a range of customer requests."
   ]
  },
  {
   "cell_type": "markdown",
   "id": "196b6806",
   "metadata": {},
   "source": [
    "Task 8: How many consumers are allocated to each region?\n",
    "\n",
    "\n",
    "\n",
    "\n",
    "\n",
    "\n",
    "\n",
    "\n"
   ]
  },
  {
   "cell_type": "code",
   "execution_count": 54,
   "id": "c7c6859b",
   "metadata": {},
   "outputs": [],
   "source": [
    "query = \"\"\"SELECT wr.region_name, wr.region_code, Count( un.consumer_id)\n",
    "FROM user_nodes_cleaned as un\n",
    "LEFT JOIN world_regions as wr ON un.region_id = wr.region_code\n",
    "GROUP BY wr.region_name, wr.region_code;\n",
    "\n",
    "\"\"\""
   ]
  },
  {
   "cell_type": "code",
   "execution_count": 55,
   "id": "d83ac2b3",
   "metadata": {},
   "outputs": [],
   "source": [
    "consumers_per_region = pd.read_sql(query,conn)"
   ]
  },
  {
   "cell_type": "code",
   "execution_count": 56,
   "id": "51ce4048",
   "metadata": {},
   "outputs": [
    {
     "data": {
      "text/html": [
       "<div>\n",
       "<style scoped>\n",
       "    .dataframe tbody tr th:only-of-type {\n",
       "        vertical-align: middle;\n",
       "    }\n",
       "\n",
       "    .dataframe tbody tr th {\n",
       "        vertical-align: top;\n",
       "    }\n",
       "\n",
       "    .dataframe thead th {\n",
       "        text-align: right;\n",
       "    }\n",
       "</style>\n",
       "<table border=\"1\" class=\"dataframe\">\n",
       "  <thead>\n",
       "    <tr style=\"text-align: right;\">\n",
       "      <th></th>\n",
       "      <th>region_name</th>\n",
       "      <th>region_code</th>\n",
       "      <th>count</th>\n",
       "    </tr>\n",
       "  </thead>\n",
       "  <tbody>\n",
       "    <tr>\n",
       "      <th>0</th>\n",
       "      <td>Africa</td>\n",
       "      <td>5</td>\n",
       "      <td>616</td>\n",
       "    </tr>\n",
       "    <tr>\n",
       "      <th>1</th>\n",
       "      <td>United States</td>\n",
       "      <td>1</td>\n",
       "      <td>770</td>\n",
       "    </tr>\n",
       "    <tr>\n",
       "      <th>2</th>\n",
       "      <td>Asia</td>\n",
       "      <td>4</td>\n",
       "      <td>665</td>\n",
       "    </tr>\n",
       "    <tr>\n",
       "      <th>3</th>\n",
       "      <td>Australia</td>\n",
       "      <td>3</td>\n",
       "      <td>714</td>\n",
       "    </tr>\n",
       "    <tr>\n",
       "      <th>4</th>\n",
       "      <td>Europe</td>\n",
       "      <td>2</td>\n",
       "      <td>735</td>\n",
       "    </tr>\n",
       "  </tbody>\n",
       "</table>\n",
       "</div>"
      ],
      "text/plain": [
       "     region_name  region_code  count\n",
       "0         Africa            5    616\n",
       "1  United States            1    770\n",
       "2           Asia            4    665\n",
       "3      Australia            3    714\n",
       "4         Europe            2    735"
      ]
     },
     "execution_count": 56,
     "metadata": {},
     "output_type": "execute_result"
    }
   ],
   "source": [
    "consumers_per_region"
   ]
  },
  {
   "cell_type": "code",
   "execution_count": 57,
   "id": "42169498",
   "metadata": {},
   "outputs": [],
   "source": [
    "region_names = consumers_per_region['region_name']\n",
    "region_codes = consumers_per_region['region_code']\n",
    "count = consumers_per_region['count']"
   ]
  },
  {
   "cell_type": "code",
   "execution_count": 58,
   "id": "b9281eee",
   "metadata": {},
   "outputs": [
    {
     "data": {
      "image/png": "[encoded data removed]",
      "text/plain": [
       "<Figure size 720x720 with 1 Axes>"
      ]
     },
     "metadata": {
      "needs_background": "light"
     },
     "output_type": "display_data"
    }
   ],
   "source": [
    "plt.figure(figsize=(10, 10))\n",
    "plt.scatter(region_codes, count, c='blue', marker='o', s=100, alpha=0.7)\n",
    "plt.title('Scatter Plot of Region Code vs. Count')\n",
    "plt.xlabel('Region Code')\n",
    "plt.ylabel('Count')\n",
    "for i in range(len(region_names)):\n",
    "    plt.annotate(region_names[i], (region_codes[i], count[i]), textcoords=\"offset points\", xytext=(0,10), ha='center')\n",
    "plt.grid(True)\n",
    "plt.show()"
   ]
  },
  {
   "cell_type": "markdown",
   "id": "73e6b8fd",
   "metadata": {},
   "source": [
    "This results  provide a clear picture of the number of customers allocated to each region, which is crucial for the bank's understanding of its customer distribution. When we relate this visuals to the analysis of banking nodes we conducted earlier, it becomes evident that regions with a higher count of consumers often coincide with regions that had a more extensive network of banking nodes. For instance, the United States, with the highest count of consumers at 770, aligns with the earlier findings of an extensive banking node network, highlighting the strong presence and customer activity in this region. Similarly, Europe's 735 consumers correlate with the significant number of banking nodes, indicating a robust financial environment with diverse services. The number of consumers in Australia, Asia, and Africa also corresponds with the banking activity we observed in those regions. In essence, this data reaffirms the importance of adapting banking services to meet the specific needs of each region's customer base, as reflected in both the number of consumers and the presence of banking nodes.\n",
    "\n",
    "\n",
    "\n",
    "\n",
    "\n"
   ]
  },
  {
   "cell_type": "markdown",
   "id": "8b1c08c6",
   "metadata": {},
   "source": [
    "Task 9: What is the unique count and total amount for each transaction type?"
   ]
  },
  {
   "cell_type": "code",
   "execution_count": 59,
   "id": "e946b8d0",
   "metadata": {},
   "outputs": [],
   "source": [
    "query = \"\"\"SELECT COUNT(DISTINCT consumer_id), SUM(transaction_amount), transaction_type\n",
    "FROM user_transaction_cleaned\n",
    "GROUP BY transaction_type\n",
    "ORDER BY SUM(transaction_amount);\n",
    "\"\"\""
   ]
  },
  {
   "cell_type": "code",
   "execution_count": 60,
   "id": "e8d20638",
   "metadata": {},
   "outputs": [],
   "source": [
    "amount_per_transactiontype = pd.read_sql_query(query,conn)"
   ]
  },
  {
   "cell_type": "code",
   "execution_count": 61,
   "id": "b50c1b37",
   "metadata": {},
   "outputs": [
    {
     "data": {
      "text/html": [
       "<div>\n",
       "<style scoped>\n",
       "    .dataframe tbody tr th:only-of-type {\n",
       "        vertical-align: middle;\n",
       "    }\n",
       "\n",
       "    .dataframe tbody tr th {\n",
       "        vertical-align: top;\n",
       "    }\n",
       "\n",
       "    .dataframe thead th {\n",
       "        text-align: right;\n",
       "    }\n",
       "</style>\n",
       "<table border=\"1\" class=\"dataframe\">\n",
       "  <thead>\n",
       "    <tr style=\"text-align: right;\">\n",
       "      <th></th>\n",
       "      <th>count</th>\n",
       "      <th>sum</th>\n",
       "      <th>transaction_type</th>\n",
       "    </tr>\n",
       "  </thead>\n",
       "  <tbody>\n",
       "    <tr>\n",
       "      <th>0</th>\n",
       "      <td>439</td>\n",
       "      <td>793003.0</td>\n",
       "      <td>withdrawal</td>\n",
       "    </tr>\n",
       "    <tr>\n",
       "      <th>1</th>\n",
       "      <td>448</td>\n",
       "      <td>806537.0</td>\n",
       "      <td>purchase</td>\n",
       "    </tr>\n",
       "    <tr>\n",
       "      <th>2</th>\n",
       "      <td>500</td>\n",
       "      <td>1359168.0</td>\n",
       "      <td>deposit</td>\n",
       "    </tr>\n",
       "  </tbody>\n",
       "</table>\n",
       "</div>"
      ],
      "text/plain": [
       "   count        sum transaction_type\n",
       "0    439   793003.0       withdrawal\n",
       "1    448   806537.0         purchase\n",
       "2    500  1359168.0          deposit"
      ]
     },
     "execution_count": 61,
     "metadata": {},
     "output_type": "execute_result"
    }
   ],
   "source": [
    "amount_per_transactiontype"
   ]
  },
  {
   "cell_type": "code",
   "execution_count": 62,
   "id": "487e5aad",
   "metadata": {},
   "outputs": [],
   "source": [
    "sum_amount = amount_per_transactiontype['sum']\n",
    "transaction_type = amount_per_transactiontype['transaction_type']\n",
    "count =amount_per_transactiontype['count']"
   ]
  },
  {
   "cell_type": "code",
   "execution_count": 63,
   "id": "eb19e128",
   "metadata": {},
   "outputs": [
    {
     "data": {
      "image/png": "[encoded data removed]",
      "text/plain": [
       "<Figure size 576x432 with 1 Axes>"
      ]
     },
     "metadata": {
      "needs_background": "light"
     },
     "output_type": "display_data"
    }
   ],
   "source": [
    "plt.figure(figsize=(8, 6))\n",
    "plt.bar(transaction_type, sum_amount)\n",
    "for i, v in enumerate(sum_amount):\n",
    "    plt.text(i, v, str(v), ha='center', va='bottom')\n",
    "plt.xlabel(\"Transaction Type\")\n",
    "plt.ylabel(\"Total Amount\")\n",
    "plt.title(\"Total Amount by Transaction Type\")\n",
    "plt.tight_layout()\n",
    "plt.grid(True)  \n",
    "plt.show()"
   ]
  },
  {
   "cell_type": "markdown",
   "id": "356a60d9",
   "metadata": {},
   "source": [
    "this  results  show the unique count and total amount for each transaction type across all regions:\n",
    "\n",
    "Withdrawals: There were a total of 439 unique instances of withdrawal transactions, amounting to $793,003.0. This suggests that withdrawals are a commonly performed transaction type. For the bank, it indicates that customers frequently need access to their funds, and it's crucial to maintain sufficient liquidity in the branches or ATMs to accommodate these requests. It also highlights that customers rely on the bank for cash access.\n",
    "\n",
    "Purchases: There were 448 unique instances of purchase transactions, totaling $806,537.0. This signifies that purchases are also a frequently performed transaction type. For the bank, it implies a significant number of customers using their accounts or cards for buying goods and services, which may result in transaction fees or interchange revenue for the bank.\n",
    "\n",
    "Deposits: There were 500 unique instances of deposit transactions, with a total amount of $1,359,168.0. This data reveals that deposits are a common transaction type, indicating that customers are actively putting money into their accounts. For the bank, this reflects a stable influx of funds, potentially available for lending or investment"
   ]
  },
  {
   "cell_type": "markdown",
   "id": "689f2268",
   "metadata": {},
   "source": [
    "Task 10: What are the average deposit counts and amounts for each transaction type ('deposit') across all customers, grouped by transaction type?\n",
    "\n",
    "\n"
   ]
  },
  {
   "cell_type": "code",
   "execution_count": 64,
   "id": "51825def",
   "metadata": {},
   "outputs": [],
   "source": [
    "query =\"\"\"\n",
    "WITH DepositSummary AS (\n",
    "    SELECT\n",
    "        transaction_type,\n",
    "        consumer_id,\n",
    "        COUNT(transaction_type) AS TotalDepositCounts,\n",
    "        SUM(transaction_amount) AS TotalDepositAmount\n",
    "    FROM user_transaction_cleaned\n",
    "    WHERE transaction_type = 'deposit'\n",
    "    GROUP BY transaction_type, consumer_id\n",
    ")\n",
    "\n",
    "SELECT\n",
    "    transaction_type,\n",
    "    ROUND(AVG(TotalDepositCounts), 0) AS AvgDepositCounts,\n",
    "    ROUND(AVG(TotalDepositAmount), 0) AS AvgDepositAmount\n",
    "FROM DepositSummary\n",
    "GROUP BY transaction_type;\n",
    "\"\"\""
   ]
  },
  {
   "cell_type": "code",
   "execution_count": 65,
   "id": "99a430cb",
   "metadata": {},
   "outputs": [],
   "source": [
    "deposit_summary = pd.read_sql_query(query,conn)"
   ]
  },
  {
   "cell_type": "code",
   "execution_count": 66,
   "id": "4b66e75d",
   "metadata": {},
   "outputs": [
    {
     "data": {
      "text/html": [
       "<div>\n",
       "<style scoped>\n",
       "    .dataframe tbody tr th:only-of-type {\n",
       "        vertical-align: middle;\n",
       "    }\n",
       "\n",
       "    .dataframe tbody tr th {\n",
       "        vertical-align: top;\n",
       "    }\n",
       "\n",
       "    .dataframe thead th {\n",
       "        text-align: right;\n",
       "    }\n",
       "</style>\n",
       "<table border=\"1\" class=\"dataframe\">\n",
       "  <thead>\n",
       "    <tr style=\"text-align: right;\">\n",
       "      <th></th>\n",
       "      <th>transaction_type</th>\n",
       "      <th>avgdepositcounts</th>\n",
       "      <th>avgdepositamount</th>\n",
       "    </tr>\n",
       "  </thead>\n",
       "  <tbody>\n",
       "    <tr>\n",
       "      <th>0</th>\n",
       "      <td>deposit</td>\n",
       "      <td>5.0</td>\n",
       "      <td>2718.0</td>\n",
       "    </tr>\n",
       "  </tbody>\n",
       "</table>\n",
       "</div>"
      ],
      "text/plain": [
       "  transaction_type  avgdepositcounts  avgdepositamount\n",
       "0          deposit               5.0            2718.0"
      ]
     },
     "execution_count": 66,
     "metadata": {},
     "output_type": "execute_result"
    }
   ],
   "source": [
    "deposit_summary"
   ]
  },
  {
   "cell_type": "markdown",
   "id": "5dbe8d08",
   "metadata": {},
   "source": [
    "For every region of the bank, on average, each customer makes about 5 deposit transactions, and the average amount deposited in each of these transactions is around $2,718. This signifies that customers regularly use the deposit services, contributing substantial amounts to their accounts with each transaction. It's a positive sign, reflecting trust in the bank's services and the availability of substantial funds for the bank's operations."
   ]
  },
  {
   "cell_type": "markdown",
   "id": "1a8282b1",
   "metadata": {},
   "source": [
    "# customer behaviour "
   ]
  },
  {
   "cell_type": "markdown",
   "id": "4a80adc9",
   "metadata": {},
   "source": [
    "i  want to know if they are  customers who have churned, defined as those who have not made any transactions at all be it deposit, withdrawal or purchase  in any region as of the end of 2020 and are labeled as \"churned.\" Churned customers are those with a last transaction date before January 1, 2021."
   ]
  },
  {
   "cell_type": "code",
   "execution_count": 67,
   "id": "99721ec1",
   "metadata": {},
   "outputs": [],
   "source": [
    "query = \"\"\"SELECT\n",
    "    un.consumer_id,\n",
    "    un.start_date AS customer_start_date,\n",
    "    un.end_date AS customer_end_date,\n",
    "    MAX(ut.transaction_date) AS last_transaction_date\n",
    "FROM user_nodes_cleaned un\n",
    "LEFT JOIN user_transaction_cleaned ut ON un.consumer_id = ut.consumer_id\n",
    "GROUP BY un.consumer_id, un.start_date, un.end_date\n",
    "HAVING\n",
    "    (un.end_date IS NOT NULL AND MAX(ut.transaction_date) < '2021-01-01')\n",
    "    OR (un.end_date IS NULL AND MAX(ut.transaction_date) < '2021-01-01');\n",
    "\n",
    "\"\"\""
   ]
  },
  {
   "cell_type": "code",
   "execution_count": 68,
   "id": "4d9393a9",
   "metadata": {},
   "outputs": [],
   "source": [
    "churned_customers = pd.read_sql_query(query,conn)"
   ]
  },
  {
   "cell_type": "code",
   "execution_count": 69,
   "id": "70f5045d",
   "metadata": {},
   "outputs": [
    {
     "data": {
      "text/html": [
       "<div>\n",
       "<style scoped>\n",
       "    .dataframe tbody tr th:only-of-type {\n",
       "        vertical-align: middle;\n",
       "    }\n",
       "\n",
       "    .dataframe tbody tr th {\n",
       "        vertical-align: top;\n",
       "    }\n",
       "\n",
       "    .dataframe thead th {\n",
       "        text-align: right;\n",
       "    }\n",
       "</style>\n",
       "<table border=\"1\" class=\"dataframe\">\n",
       "  <thead>\n",
       "    <tr style=\"text-align: right;\">\n",
       "      <th></th>\n",
       "      <th>consumer_id</th>\n",
       "      <th>customer_start_date</th>\n",
       "      <th>customer_end_date</th>\n",
       "      <th>last_transaction_date</th>\n",
       "    </tr>\n",
       "  </thead>\n",
       "  <tbody>\n",
       "    <tr>\n",
       "      <th>0</th>\n",
       "      <td>305</td>\n",
       "      <td>2020-03-06</td>\n",
       "      <td>2020-03-25</td>\n",
       "      <td>2020-03-22</td>\n",
       "    </tr>\n",
       "    <tr>\n",
       "      <th>1</th>\n",
       "      <td>141</td>\n",
       "      <td>2020-01-15</td>\n",
       "      <td>2020-01-29</td>\n",
       "      <td>2020-04-04</td>\n",
       "    </tr>\n",
       "    <tr>\n",
       "      <th>2</th>\n",
       "      <td>1</td>\n",
       "      <td>2020-01-29</td>\n",
       "      <td>2020-02-18</td>\n",
       "      <td>2020-03-19</td>\n",
       "    </tr>\n",
       "    <tr>\n",
       "      <th>3</th>\n",
       "      <td>145</td>\n",
       "      <td>2020-03-20</td>\n",
       "      <td>2020-04-03</td>\n",
       "      <td>2020-03-24</td>\n",
       "    </tr>\n",
       "    <tr>\n",
       "      <th>4</th>\n",
       "      <td>464</td>\n",
       "      <td>2020-03-24</td>\n",
       "      <td>2020-04-10</td>\n",
       "      <td>2020-04-11</td>\n",
       "    </tr>\n",
       "    <tr>\n",
       "      <th>...</th>\n",
       "      <td>...</td>\n",
       "      <td>...</td>\n",
       "      <td>...</td>\n",
       "      <td>...</td>\n",
       "    </tr>\n",
       "    <tr>\n",
       "      <th>3495</th>\n",
       "      <td>219</td>\n",
       "      <td>2020-03-22</td>\n",
       "      <td>2020-04-07</td>\n",
       "      <td>2020-04-03</td>\n",
       "    </tr>\n",
       "    <tr>\n",
       "      <th>3496</th>\n",
       "      <td>463</td>\n",
       "      <td>2020-03-12</td>\n",
       "      <td>2020-04-09</td>\n",
       "      <td>2020-04-16</td>\n",
       "    </tr>\n",
       "    <tr>\n",
       "      <th>3497</th>\n",
       "      <td>340</td>\n",
       "      <td>2020-02-18</td>\n",
       "      <td>2020-03-06</td>\n",
       "      <td>2020-04-01</td>\n",
       "    </tr>\n",
       "    <tr>\n",
       "      <th>3498</th>\n",
       "      <td>119</td>\n",
       "      <td>2020-01-17</td>\n",
       "      <td>2020-02-06</td>\n",
       "      <td>2020-04-10</td>\n",
       "    </tr>\n",
       "    <tr>\n",
       "      <th>3499</th>\n",
       "      <td>288</td>\n",
       "      <td>2020-01-13</td>\n",
       "      <td>2020-01-27</td>\n",
       "      <td>2020-03-26</td>\n",
       "    </tr>\n",
       "  </tbody>\n",
       "</table>\n",
       "<p>3500 rows × 4 columns</p>\n",
       "</div>"
      ],
      "text/plain": [
       "      consumer_id customer_start_date customer_end_date last_transaction_date\n",
       "0             305          2020-03-06        2020-03-25            2020-03-22\n",
       "1             141          2020-01-15        2020-01-29            2020-04-04\n",
       "2               1          2020-01-29        2020-02-18            2020-03-19\n",
       "3             145          2020-03-20        2020-04-03            2020-03-24\n",
       "4             464          2020-03-24        2020-04-10            2020-04-11\n",
       "...           ...                 ...               ...                   ...\n",
       "3495          219          2020-03-22        2020-04-07            2020-04-03\n",
       "3496          463          2020-03-12        2020-04-09            2020-04-16\n",
       "3497          340          2020-02-18        2020-03-06            2020-04-01\n",
       "3498          119          2020-01-17        2020-02-06            2020-04-10\n",
       "3499          288          2020-01-13        2020-01-27            2020-03-26\n",
       "\n",
       "[3500 rows x 4 columns]"
      ]
     },
     "execution_count": 69,
     "metadata": {},
     "output_type": "execute_result"
    }
   ],
   "source": [
    "churned_customers"
   ]
  },
  {
   "cell_type": "markdown",
   "id": "3a8d1a35",
   "metadata": {},
   "source": [
    "my data shows that a total of a total of 3,499 people have churned"
   ]
  },
  {
   "cell_type": "markdown",
   "id": "6517a75b",
   "metadata": {},
   "source": [
    "#  further analysis to discover the patterns for this churn "
   ]
  },
  {
   "cell_type": "code",
   "execution_count": 70,
   "id": "2477e83f",
   "metadata": {},
   "outputs": [],
   "source": [
    "from datetime import datetime, timedelta"
   ]
  },
  {
   "cell_type": "code",
   "execution_count": 71,
   "id": "a1f8b6ea",
   "metadata": {},
   "outputs": [],
   "source": [
    "query = \"\"\"SELECT un.*, ut.*, wr.*\n",
    "FROM user_nodes_cleaned un\n",
    "LEFT JOIN user_transaction_cleaned ut ON un.consumer_id = ut.consumer_id\n",
    "LEFT JOIN world_regions wr ON un.region_id = wr.region_code;\n",
    "\n",
    "\"\"\""
   ]
  },
  {
   "cell_type": "code",
   "execution_count": 72,
   "id": "332d9750",
   "metadata": {},
   "outputs": [],
   "source": [
    "data = pd.read_sql_query(query,conn)"
   ]
  },
  {
   "cell_type": "code",
   "execution_count": 73,
   "id": "28857c94",
   "metadata": {},
   "outputs": [
    {
     "data": {
      "text/html": [
       "<div>\n",
       "<style scoped>\n",
       "    .dataframe tbody tr th:only-of-type {\n",
       "        vertical-align: middle;\n",
       "    }\n",
       "\n",
       "    .dataframe tbody tr th {\n",
       "        vertical-align: top;\n",
       "    }\n",
       "\n",
       "    .dataframe thead th {\n",
       "        text-align: right;\n",
       "    }\n",
       "</style>\n",
       "<table border=\"1\" class=\"dataframe\">\n",
       "  <thead>\n",
       "    <tr style=\"text-align: right;\">\n",
       "      <th></th>\n",
       "      <th>consumer_id</th>\n",
       "      <th>region_id</th>\n",
       "      <th>node_id</th>\n",
       "      <th>start_date</th>\n",
       "      <th>end_date</th>\n",
       "      <th>consumer_id</th>\n",
       "      <th>transaction_date</th>\n",
       "      <th>transaction_type</th>\n",
       "      <th>transaction_amount</th>\n",
       "      <th>region_code</th>\n",
       "      <th>region_name</th>\n",
       "    </tr>\n",
       "  </thead>\n",
       "  <tbody>\n",
       "    <tr>\n",
       "      <th>0</th>\n",
       "      <td>312</td>\n",
       "      <td>5</td>\n",
       "      <td>2</td>\n",
       "      <td>2020-04-24</td>\n",
       "      <td>2021-12-31</td>\n",
       "      <td>312</td>\n",
       "      <td>2020-01-20</td>\n",
       "      <td>deposit</td>\n",
       "      <td>485.0</td>\n",
       "      <td>5</td>\n",
       "      <td>Africa</td>\n",
       "    </tr>\n",
       "    <tr>\n",
       "      <th>1</th>\n",
       "      <td>312</td>\n",
       "      <td>5</td>\n",
       "      <td>4</td>\n",
       "      <td>2020-04-01</td>\n",
       "      <td>2020-04-23</td>\n",
       "      <td>312</td>\n",
       "      <td>2020-01-20</td>\n",
       "      <td>deposit</td>\n",
       "      <td>485.0</td>\n",
       "      <td>5</td>\n",
       "      <td>Africa</td>\n",
       "    </tr>\n",
       "    <tr>\n",
       "      <th>2</th>\n",
       "      <td>312</td>\n",
       "      <td>5</td>\n",
       "      <td>3</td>\n",
       "      <td>2020-03-16</td>\n",
       "      <td>2020-03-31</td>\n",
       "      <td>312</td>\n",
       "      <td>2020-01-20</td>\n",
       "      <td>deposit</td>\n",
       "      <td>485.0</td>\n",
       "      <td>5</td>\n",
       "      <td>Africa</td>\n",
       "    </tr>\n",
       "    <tr>\n",
       "      <th>3</th>\n",
       "      <td>312</td>\n",
       "      <td>5</td>\n",
       "      <td>4</td>\n",
       "      <td>2020-02-21</td>\n",
       "      <td>2020-03-15</td>\n",
       "      <td>312</td>\n",
       "      <td>2020-01-20</td>\n",
       "      <td>deposit</td>\n",
       "      <td>485.0</td>\n",
       "      <td>5</td>\n",
       "      <td>Africa</td>\n",
       "    </tr>\n",
       "    <tr>\n",
       "      <th>4</th>\n",
       "      <td>312</td>\n",
       "      <td>5</td>\n",
       "      <td>5</td>\n",
       "      <td>2020-02-09</td>\n",
       "      <td>2020-02-20</td>\n",
       "      <td>312</td>\n",
       "      <td>2020-01-20</td>\n",
       "      <td>deposit</td>\n",
       "      <td>485.0</td>\n",
       "      <td>5</td>\n",
       "      <td>Africa</td>\n",
       "    </tr>\n",
       "    <tr>\n",
       "      <th>...</th>\n",
       "      <td>...</td>\n",
       "      <td>...</td>\n",
       "      <td>...</td>\n",
       "      <td>...</td>\n",
       "      <td>...</td>\n",
       "      <td>...</td>\n",
       "      <td>...</td>\n",
       "      <td>...</td>\n",
       "      <td>...</td>\n",
       "      <td>...</td>\n",
       "      <td>...</td>\n",
       "    </tr>\n",
       "    <tr>\n",
       "      <th>41071</th>\n",
       "      <td>309</td>\n",
       "      <td>5</td>\n",
       "      <td>5</td>\n",
       "      <td>2020-03-03</td>\n",
       "      <td>2020-03-11</td>\n",
       "      <td>309</td>\n",
       "      <td>2020-01-13</td>\n",
       "      <td>deposit</td>\n",
       "      <td>995.0</td>\n",
       "      <td>5</td>\n",
       "      <td>Africa</td>\n",
       "    </tr>\n",
       "    <tr>\n",
       "      <th>41072</th>\n",
       "      <td>309</td>\n",
       "      <td>5</td>\n",
       "      <td>4</td>\n",
       "      <td>2020-02-28</td>\n",
       "      <td>2020-03-02</td>\n",
       "      <td>309</td>\n",
       "      <td>2020-01-13</td>\n",
       "      <td>deposit</td>\n",
       "      <td>995.0</td>\n",
       "      <td>5</td>\n",
       "      <td>Africa</td>\n",
       "    </tr>\n",
       "    <tr>\n",
       "      <th>41073</th>\n",
       "      <td>309</td>\n",
       "      <td>5</td>\n",
       "      <td>1</td>\n",
       "      <td>2020-02-27</td>\n",
       "      <td>2020-02-27</td>\n",
       "      <td>309</td>\n",
       "      <td>2020-01-13</td>\n",
       "      <td>deposit</td>\n",
       "      <td>995.0</td>\n",
       "      <td>5</td>\n",
       "      <td>Africa</td>\n",
       "    </tr>\n",
       "    <tr>\n",
       "      <th>41074</th>\n",
       "      <td>309</td>\n",
       "      <td>5</td>\n",
       "      <td>1</td>\n",
       "      <td>2020-02-07</td>\n",
       "      <td>2020-02-26</td>\n",
       "      <td>309</td>\n",
       "      <td>2020-01-13</td>\n",
       "      <td>deposit</td>\n",
       "      <td>995.0</td>\n",
       "      <td>5</td>\n",
       "      <td>Africa</td>\n",
       "    </tr>\n",
       "    <tr>\n",
       "      <th>41075</th>\n",
       "      <td>309</td>\n",
       "      <td>5</td>\n",
       "      <td>2</td>\n",
       "      <td>2020-01-13</td>\n",
       "      <td>2020-02-06</td>\n",
       "      <td>309</td>\n",
       "      <td>2020-01-13</td>\n",
       "      <td>deposit</td>\n",
       "      <td>995.0</td>\n",
       "      <td>5</td>\n",
       "      <td>Africa</td>\n",
       "    </tr>\n",
       "  </tbody>\n",
       "</table>\n",
       "<p>41076 rows × 11 columns</p>\n",
       "</div>"
      ],
      "text/plain": [
       "       consumer_id  region_id  node_id  start_date    end_date  consumer_id  \\\n",
       "0              312          5        2  2020-04-24  2021-12-31          312   \n",
       "1              312          5        4  2020-04-01  2020-04-23          312   \n",
       "2              312          5        3  2020-03-16  2020-03-31          312   \n",
       "3              312          5        4  2020-02-21  2020-03-15          312   \n",
       "4              312          5        5  2020-02-09  2020-02-20          312   \n",
       "...            ...        ...      ...         ...         ...          ...   \n",
       "41071          309          5        5  2020-03-03  2020-03-11          309   \n",
       "41072          309          5        4  2020-02-28  2020-03-02          309   \n",
       "41073          309          5        1  2020-02-27  2020-02-27          309   \n",
       "41074          309          5        1  2020-02-07  2020-02-26          309   \n",
       "41075          309          5        2  2020-01-13  2020-02-06          309   \n",
       "\n",
       "      transaction_date transaction_type  transaction_amount  region_code  \\\n",
       "0           2020-01-20          deposit               485.0            5   \n",
       "1           2020-01-20          deposit               485.0            5   \n",
       "2           2020-01-20          deposit               485.0            5   \n",
       "3           2020-01-20          deposit               485.0            5   \n",
       "4           2020-01-20          deposit               485.0            5   \n",
       "...                ...              ...                 ...          ...   \n",
       "41071       2020-01-13          deposit               995.0            5   \n",
       "41072       2020-01-13          deposit               995.0            5   \n",
       "41073       2020-01-13          deposit               995.0            5   \n",
       "41074       2020-01-13          deposit               995.0            5   \n",
       "41075       2020-01-13          deposit               995.0            5   \n",
       "\n",
       "      region_name  \n",
       "0          Africa  \n",
       "1          Africa  \n",
       "2          Africa  \n",
       "3          Africa  \n",
       "4          Africa  \n",
       "...           ...  \n",
       "41071      Africa  \n",
       "41072      Africa  \n",
       "41073      Africa  \n",
       "41074      Africa  \n",
       "41075      Africa  \n",
       "\n",
       "[41076 rows x 11 columns]"
      ]
     },
     "execution_count": 73,
     "metadata": {},
     "output_type": "execute_result"
    }
   ],
   "source": [
    "data"
   ]
  },
  {
   "cell_type": "code",
   "execution_count": 74,
   "id": "0ba7ac10",
   "metadata": {},
   "outputs": [],
   "source": [
    "data['end_date'] = pd.to_datetime(data['end_date'])\n",
    "data['start_date'] = pd.to_datetime(data['start_date'])\n",
    "data['transaction_date'] = pd.to_datetime(data['start_date'])"
   ]
  },
  {
   "cell_type": "code",
   "execution_count": 75,
   "id": "6f3755f3",
   "metadata": {},
   "outputs": [],
   "source": [
    "end_date = datetime(2020, 12, 31)  \n",
    "start_date = datetime(2020, 1, 1)\n",
    "transaction_date = datetime(2020,12,31)"
   ]
  },
  {
   "cell_type": "markdown",
   "id": "05c5b224",
   "metadata": {},
   "source": [
    "Customers with a defined end date (i.e., un.end_date IS NOT NULL) and whose end date falls on or before December 31, 2020, are classified as \"churned.\" This indicates that their last transaction date occurred on or before December 31, 2020.\n",
    "\n",
    "Likewise, customers without a defined end date (i.e., un.end_date IS NULL) and whose last transaction date is on or before December 31, 2020, are also categorized as \"churned.\" In essence, these customers ceased transacting with the bank by the conclusion of 2020, and they were not retained as active customers in 2021."
   ]
  },
  {
   "cell_type": "code",
   "execution_count": 76,
   "id": "f4d3c289",
   "metadata": {},
   "outputs": [],
   "source": [
    "from datetime import datetime\n",
    "\n",
    "def label_churn(row):\n",
    "    if pd.isnull(row['end_date']):\n",
    "        return 'churned'  # No end date, consider churned\n",
    "    if row['end_date'] <= end_date and pd.to_datetime(row['transaction_date']) <= transaction_date:\n",
    "        return 'active'  # Last transaction date is within the dataset period\n",
    "    return 'churned'  # Customer is churned based on the dataset period"
   ]
  },
  {
   "cell_type": "code",
   "execution_count": 77,
   "id": "c5e805c4",
   "metadata": {},
   "outputs": [],
   "source": [
    "data['churn'] = data.apply(label_churn, axis=1)"
   ]
  },
  {
   "cell_type": "code",
   "execution_count": 78,
   "id": "84a78bba",
   "metadata": {},
   "outputs": [],
   "source": [
    "data.to_csv('data.csv', index=False)\n"
   ]
  },
  {
   "cell_type": "code",
   "execution_count": 79,
   "id": "46414d03",
   "metadata": {},
   "outputs": [
    {
     "data": {
      "text/html": [
       "<div>\n",
       "<style scoped>\n",
       "    .dataframe tbody tr th:only-of-type {\n",
       "        vertical-align: middle;\n",
       "    }\n",
       "\n",
       "    .dataframe tbody tr th {\n",
       "        vertical-align: top;\n",
       "    }\n",
       "\n",
       "    .dataframe thead th {\n",
       "        text-align: right;\n",
       "    }\n",
       "</style>\n",
       "<table border=\"1\" class=\"dataframe\">\n",
       "  <thead>\n",
       "    <tr style=\"text-align: right;\">\n",
       "      <th></th>\n",
       "      <th>consumer_id</th>\n",
       "      <th>region_id</th>\n",
       "      <th>node_id</th>\n",
       "      <th>start_date</th>\n",
       "      <th>end_date</th>\n",
       "      <th>consumer_id</th>\n",
       "      <th>transaction_date</th>\n",
       "      <th>transaction_type</th>\n",
       "      <th>transaction_amount</th>\n",
       "      <th>region_code</th>\n",
       "      <th>region_name</th>\n",
       "      <th>churn</th>\n",
       "    </tr>\n",
       "  </thead>\n",
       "  <tbody>\n",
       "    <tr>\n",
       "      <th>0</th>\n",
       "      <td>312</td>\n",
       "      <td>5</td>\n",
       "      <td>2</td>\n",
       "      <td>2020-04-24</td>\n",
       "      <td>2021-12-31</td>\n",
       "      <td>312</td>\n",
       "      <td>2020-04-24</td>\n",
       "      <td>deposit</td>\n",
       "      <td>485.0</td>\n",
       "      <td>5</td>\n",
       "      <td>Africa</td>\n",
       "      <td>churned</td>\n",
       "    </tr>\n",
       "    <tr>\n",
       "      <th>1</th>\n",
       "      <td>312</td>\n",
       "      <td>5</td>\n",
       "      <td>4</td>\n",
       "      <td>2020-04-01</td>\n",
       "      <td>2020-04-23</td>\n",
       "      <td>312</td>\n",
       "      <td>2020-04-01</td>\n",
       "      <td>deposit</td>\n",
       "      <td>485.0</td>\n",
       "      <td>5</td>\n",
       "      <td>Africa</td>\n",
       "      <td>active</td>\n",
       "    </tr>\n",
       "    <tr>\n",
       "      <th>2</th>\n",
       "      <td>312</td>\n",
       "      <td>5</td>\n",
       "      <td>3</td>\n",
       "      <td>2020-03-16</td>\n",
       "      <td>2020-03-31</td>\n",
       "      <td>312</td>\n",
       "      <td>2020-03-16</td>\n",
       "      <td>deposit</td>\n",
       "      <td>485.0</td>\n",
       "      <td>5</td>\n",
       "      <td>Africa</td>\n",
       "      <td>active</td>\n",
       "    </tr>\n",
       "    <tr>\n",
       "      <th>3</th>\n",
       "      <td>312</td>\n",
       "      <td>5</td>\n",
       "      <td>4</td>\n",
       "      <td>2020-02-21</td>\n",
       "      <td>2020-03-15</td>\n",
       "      <td>312</td>\n",
       "      <td>2020-02-21</td>\n",
       "      <td>deposit</td>\n",
       "      <td>485.0</td>\n",
       "      <td>5</td>\n",
       "      <td>Africa</td>\n",
       "      <td>active</td>\n",
       "    </tr>\n",
       "    <tr>\n",
       "      <th>4</th>\n",
       "      <td>312</td>\n",
       "      <td>5</td>\n",
       "      <td>5</td>\n",
       "      <td>2020-02-09</td>\n",
       "      <td>2020-02-20</td>\n",
       "      <td>312</td>\n",
       "      <td>2020-02-09</td>\n",
       "      <td>deposit</td>\n",
       "      <td>485.0</td>\n",
       "      <td>5</td>\n",
       "      <td>Africa</td>\n",
       "      <td>active</td>\n",
       "    </tr>\n",
       "    <tr>\n",
       "      <th>...</th>\n",
       "      <td>...</td>\n",
       "      <td>...</td>\n",
       "      <td>...</td>\n",
       "      <td>...</td>\n",
       "      <td>...</td>\n",
       "      <td>...</td>\n",
       "      <td>...</td>\n",
       "      <td>...</td>\n",
       "      <td>...</td>\n",
       "      <td>...</td>\n",
       "      <td>...</td>\n",
       "      <td>...</td>\n",
       "    </tr>\n",
       "    <tr>\n",
       "      <th>41071</th>\n",
       "      <td>309</td>\n",
       "      <td>5</td>\n",
       "      <td>5</td>\n",
       "      <td>2020-03-03</td>\n",
       "      <td>2020-03-11</td>\n",
       "      <td>309</td>\n",
       "      <td>2020-03-03</td>\n",
       "      <td>deposit</td>\n",
       "      <td>995.0</td>\n",
       "      <td>5</td>\n",
       "      <td>Africa</td>\n",
       "      <td>active</td>\n",
       "    </tr>\n",
       "    <tr>\n",
       "      <th>41072</th>\n",
       "      <td>309</td>\n",
       "      <td>5</td>\n",
       "      <td>4</td>\n",
       "      <td>2020-02-28</td>\n",
       "      <td>2020-03-02</td>\n",
       "      <td>309</td>\n",
       "      <td>2020-02-28</td>\n",
       "      <td>deposit</td>\n",
       "      <td>995.0</td>\n",
       "      <td>5</td>\n",
       "      <td>Africa</td>\n",
       "      <td>active</td>\n",
       "    </tr>\n",
       "    <tr>\n",
       "      <th>41073</th>\n",
       "      <td>309</td>\n",
       "      <td>5</td>\n",
       "      <td>1</td>\n",
       "      <td>2020-02-27</td>\n",
       "      <td>2020-02-27</td>\n",
       "      <td>309</td>\n",
       "      <td>2020-02-27</td>\n",
       "      <td>deposit</td>\n",
       "      <td>995.0</td>\n",
       "      <td>5</td>\n",
       "      <td>Africa</td>\n",
       "      <td>active</td>\n",
       "    </tr>\n",
       "    <tr>\n",
       "      <th>41074</th>\n",
       "      <td>309</td>\n",
       "      <td>5</td>\n",
       "      <td>1</td>\n",
       "      <td>2020-02-07</td>\n",
       "      <td>2020-02-26</td>\n",
       "      <td>309</td>\n",
       "      <td>2020-02-07</td>\n",
       "      <td>deposit</td>\n",
       "      <td>995.0</td>\n",
       "      <td>5</td>\n",
       "      <td>Africa</td>\n",
       "      <td>active</td>\n",
       "    </tr>\n",
       "    <tr>\n",
       "      <th>41075</th>\n",
       "      <td>309</td>\n",
       "      <td>5</td>\n",
       "      <td>2</td>\n",
       "      <td>2020-01-13</td>\n",
       "      <td>2020-02-06</td>\n",
       "      <td>309</td>\n",
       "      <td>2020-01-13</td>\n",
       "      <td>deposit</td>\n",
       "      <td>995.0</td>\n",
       "      <td>5</td>\n",
       "      <td>Africa</td>\n",
       "      <td>active</td>\n",
       "    </tr>\n",
       "  </tbody>\n",
       "</table>\n",
       "<p>41076 rows × 12 columns</p>\n",
       "</div>"
      ],
      "text/plain": [
       "       consumer_id  region_id  node_id start_date   end_date  consumer_id  \\\n",
       "0              312          5        2 2020-04-24 2021-12-31          312   \n",
       "1              312          5        4 2020-04-01 2020-04-23          312   \n",
       "2              312          5        3 2020-03-16 2020-03-31          312   \n",
       "3              312          5        4 2020-02-21 2020-03-15          312   \n",
       "4              312          5        5 2020-02-09 2020-02-20          312   \n",
       "...            ...        ...      ...        ...        ...          ...   \n",
       "41071          309          5        5 2020-03-03 2020-03-11          309   \n",
       "41072          309          5        4 2020-02-28 2020-03-02          309   \n",
       "41073          309          5        1 2020-02-27 2020-02-27          309   \n",
       "41074          309          5        1 2020-02-07 2020-02-26          309   \n",
       "41075          309          5        2 2020-01-13 2020-02-06          309   \n",
       "\n",
       "      transaction_date transaction_type  transaction_amount  region_code  \\\n",
       "0           2020-04-24          deposit               485.0            5   \n",
       "1           2020-04-01          deposit               485.0            5   \n",
       "2           2020-03-16          deposit               485.0            5   \n",
       "3           2020-02-21          deposit               485.0            5   \n",
       "4           2020-02-09          deposit               485.0            5   \n",
       "...                ...              ...                 ...          ...   \n",
       "41071       2020-03-03          deposit               995.0            5   \n",
       "41072       2020-02-28          deposit               995.0            5   \n",
       "41073       2020-02-27          deposit               995.0            5   \n",
       "41074       2020-02-07          deposit               995.0            5   \n",
       "41075       2020-01-13          deposit               995.0            5   \n",
       "\n",
       "      region_name    churn  \n",
       "0          Africa  churned  \n",
       "1          Africa   active  \n",
       "2          Africa   active  \n",
       "3          Africa   active  \n",
       "4          Africa   active  \n",
       "...           ...      ...  \n",
       "41071      Africa   active  \n",
       "41072      Africa   active  \n",
       "41073      Africa   active  \n",
       "41074      Africa   active  \n",
       "41075      Africa   active  \n",
       "\n",
       "[41076 rows x 12 columns]"
      ]
     },
     "execution_count": 79,
     "metadata": {},
     "output_type": "execute_result"
    }
   ],
   "source": [
    "data"
   ]
  },
  {
   "cell_type": "markdown",
   "id": "c206f286",
   "metadata": {},
   "source": [
    "# Distribution for churn "
   ]
  },
  {
   "cell_type": "code",
   "execution_count": 80,
   "id": "45259bdb",
   "metadata": {},
   "outputs": [
    {
     "data": {
      "text/plain": [
       "active     35212\n",
       "churned     5864\n",
       "Name: churn, dtype: int64"
      ]
     },
     "execution_count": 80,
     "metadata": {},
     "output_type": "execute_result"
    }
   ],
   "source": [
    "data['churn'].value_counts()"
   ]
  },
  {
   "cell_type": "code",
   "execution_count": 81,
   "id": "7f2ce03f",
   "metadata": {},
   "outputs": [
    {
     "data": {
      "text/plain": [
       "active     0.85724\n",
       "churned    0.14276\n",
       "Name: churn, dtype: float64"
      ]
     },
     "execution_count": 81,
     "metadata": {},
     "output_type": "execute_result"
    }
   ],
   "source": [
    "data['churn'].value_counts(normalize=True)\n"
   ]
  },
  {
   "cell_type": "markdown",
   "id": "cb43bc94",
   "metadata": {},
   "source": [
    "The bank entered 2021 with approximately 85.72% of its customers retained, while approximately 14.28% of customers had churned by the end of 2020"
   ]
  },
  {
   "cell_type": "code",
   "execution_count": 82,
   "id": "ae227a42",
   "metadata": {},
   "outputs": [
    {
     "data": {
      "image/png": "[encoded data removed]",
      "text/plain": [
       "<Figure size 432x288 with 1 Axes>"
      ]
     },
     "metadata": {},
     "output_type": "display_data"
    }
   ],
   "source": [
    "sns.set_style(\"whitegrid\")\n",
    "sns.countplot(data=data, x=\"churn\")\n",
    "plt.title(\"Distribution of Churn\")\n",
    "plt.show()\n",
    "import seaborn as sns\n",
    "import matplotlib.pyplot as plt\n",
    "\n",
    "\n"
   ]
  },
  {
   "cell_type": "markdown",
   "id": "f1e3c84a",
   "metadata": {},
   "source": [
    "generally this dataset contains a higher number of active customers as of 2021 , we can say that this bank has a good retention rate "
   ]
  },
  {
   "cell_type": "markdown",
   "id": "bb54353f",
   "metadata": {},
   "source": [
    "# creating a subset for churn to help for more visualization "
   ]
  },
  {
   "cell_type": "code",
   "execution_count": 83,
   "id": "8efaad51",
   "metadata": {},
   "outputs": [],
   "source": [
    "churn = data[data['churn'] == 'churned']\n"
   ]
  },
  {
   "cell_type": "code",
   "execution_count": 84,
   "id": "da8e9e03",
   "metadata": {},
   "outputs": [
    {
     "data": {
      "text/html": [
       "<div>\n",
       "<style scoped>\n",
       "    .dataframe tbody tr th:only-of-type {\n",
       "        vertical-align: middle;\n",
       "    }\n",
       "\n",
       "    .dataframe tbody tr th {\n",
       "        vertical-align: top;\n",
       "    }\n",
       "\n",
       "    .dataframe thead th {\n",
       "        text-align: right;\n",
       "    }\n",
       "</style>\n",
       "<table border=\"1\" class=\"dataframe\">\n",
       "  <thead>\n",
       "    <tr style=\"text-align: right;\">\n",
       "      <th></th>\n",
       "      <th>consumer_id</th>\n",
       "      <th>region_id</th>\n",
       "      <th>node_id</th>\n",
       "      <th>start_date</th>\n",
       "      <th>end_date</th>\n",
       "      <th>consumer_id</th>\n",
       "      <th>transaction_date</th>\n",
       "      <th>transaction_type</th>\n",
       "      <th>transaction_amount</th>\n",
       "      <th>region_code</th>\n",
       "      <th>region_name</th>\n",
       "      <th>churn</th>\n",
       "    </tr>\n",
       "  </thead>\n",
       "  <tbody>\n",
       "    <tr>\n",
       "      <th>0</th>\n",
       "      <td>312</td>\n",
       "      <td>5</td>\n",
       "      <td>2</td>\n",
       "      <td>2020-04-24</td>\n",
       "      <td>2021-12-31</td>\n",
       "      <td>312</td>\n",
       "      <td>2020-04-24</td>\n",
       "      <td>deposit</td>\n",
       "      <td>485.0</td>\n",
       "      <td>5</td>\n",
       "      <td>Africa</td>\n",
       "      <td>churned</td>\n",
       "    </tr>\n",
       "    <tr>\n",
       "      <th>7</th>\n",
       "      <td>376</td>\n",
       "      <td>5</td>\n",
       "      <td>1</td>\n",
       "      <td>2020-04-16</td>\n",
       "      <td>2021-12-31</td>\n",
       "      <td>376</td>\n",
       "      <td>2020-04-16</td>\n",
       "      <td>deposit</td>\n",
       "      <td>706.0</td>\n",
       "      <td>5</td>\n",
       "      <td>Africa</td>\n",
       "      <td>churned</td>\n",
       "    </tr>\n",
       "    <tr>\n",
       "      <th>14</th>\n",
       "      <td>188</td>\n",
       "      <td>1</td>\n",
       "      <td>3</td>\n",
       "      <td>2020-04-08</td>\n",
       "      <td>2021-12-31</td>\n",
       "      <td>188</td>\n",
       "      <td>2020-04-08</td>\n",
       "      <td>deposit</td>\n",
       "      <td>601.0</td>\n",
       "      <td>1</td>\n",
       "      <td>United States</td>\n",
       "      <td>churned</td>\n",
       "    </tr>\n",
       "    <tr>\n",
       "      <th>21</th>\n",
       "      <td>138</td>\n",
       "      <td>4</td>\n",
       "      <td>2</td>\n",
       "      <td>2020-05-16</td>\n",
       "      <td>2021-12-31</td>\n",
       "      <td>138</td>\n",
       "      <td>2020-05-16</td>\n",
       "      <td>deposit</td>\n",
       "      <td>520.0</td>\n",
       "      <td>4</td>\n",
       "      <td>Asia</td>\n",
       "      <td>churned</td>\n",
       "    </tr>\n",
       "    <tr>\n",
       "      <th>28</th>\n",
       "      <td>373</td>\n",
       "      <td>5</td>\n",
       "      <td>2</td>\n",
       "      <td>2020-05-10</td>\n",
       "      <td>2021-12-31</td>\n",
       "      <td>373</td>\n",
       "      <td>2020-05-10</td>\n",
       "      <td>deposit</td>\n",
       "      <td>596.0</td>\n",
       "      <td>5</td>\n",
       "      <td>Africa</td>\n",
       "      <td>churned</td>\n",
       "    </tr>\n",
       "    <tr>\n",
       "      <th>...</th>\n",
       "      <td>...</td>\n",
       "      <td>...</td>\n",
       "      <td>...</td>\n",
       "      <td>...</td>\n",
       "      <td>...</td>\n",
       "      <td>...</td>\n",
       "      <td>...</td>\n",
       "      <td>...</td>\n",
       "      <td>...</td>\n",
       "      <td>...</td>\n",
       "      <td>...</td>\n",
       "      <td>...</td>\n",
       "    </tr>\n",
       "    <tr>\n",
       "      <th>41041</th>\n",
       "      <td>155</td>\n",
       "      <td>4</td>\n",
       "      <td>3</td>\n",
       "      <td>2020-05-13</td>\n",
       "      <td>2021-12-31</td>\n",
       "      <td>155</td>\n",
       "      <td>2020-05-13</td>\n",
       "      <td>deposit</td>\n",
       "      <td>712.0</td>\n",
       "      <td>4</td>\n",
       "      <td>Asia</td>\n",
       "      <td>churned</td>\n",
       "    </tr>\n",
       "    <tr>\n",
       "      <th>41048</th>\n",
       "      <td>398</td>\n",
       "      <td>3</td>\n",
       "      <td>3</td>\n",
       "      <td>2020-04-11</td>\n",
       "      <td>2021-12-31</td>\n",
       "      <td>398</td>\n",
       "      <td>2020-04-11</td>\n",
       "      <td>deposit</td>\n",
       "      <td>196.0</td>\n",
       "      <td>3</td>\n",
       "      <td>Australia</td>\n",
       "      <td>churned</td>\n",
       "    </tr>\n",
       "    <tr>\n",
       "      <th>41055</th>\n",
       "      <td>255</td>\n",
       "      <td>4</td>\n",
       "      <td>2</td>\n",
       "      <td>2020-05-10</td>\n",
       "      <td>2021-12-31</td>\n",
       "      <td>255</td>\n",
       "      <td>2020-05-10</td>\n",
       "      <td>deposit</td>\n",
       "      <td>563.0</td>\n",
       "      <td>4</td>\n",
       "      <td>Asia</td>\n",
       "      <td>churned</td>\n",
       "    </tr>\n",
       "    <tr>\n",
       "      <th>41062</th>\n",
       "      <td>185</td>\n",
       "      <td>5</td>\n",
       "      <td>1</td>\n",
       "      <td>2020-05-13</td>\n",
       "      <td>2021-12-31</td>\n",
       "      <td>185</td>\n",
       "      <td>2020-05-13</td>\n",
       "      <td>deposit</td>\n",
       "      <td>626.0</td>\n",
       "      <td>5</td>\n",
       "      <td>Africa</td>\n",
       "      <td>churned</td>\n",
       "    </tr>\n",
       "    <tr>\n",
       "      <th>41069</th>\n",
       "      <td>309</td>\n",
       "      <td>5</td>\n",
       "      <td>2</td>\n",
       "      <td>2020-03-25</td>\n",
       "      <td>2021-12-31</td>\n",
       "      <td>309</td>\n",
       "      <td>2020-03-25</td>\n",
       "      <td>deposit</td>\n",
       "      <td>995.0</td>\n",
       "      <td>5</td>\n",
       "      <td>Africa</td>\n",
       "      <td>churned</td>\n",
       "    </tr>\n",
       "  </tbody>\n",
       "</table>\n",
       "<p>5864 rows × 12 columns</p>\n",
       "</div>"
      ],
      "text/plain": [
       "       consumer_id  region_id  node_id start_date   end_date  consumer_id  \\\n",
       "0              312          5        2 2020-04-24 2021-12-31          312   \n",
       "7              376          5        1 2020-04-16 2021-12-31          376   \n",
       "14             188          1        3 2020-04-08 2021-12-31          188   \n",
       "21             138          4        2 2020-05-16 2021-12-31          138   \n",
       "28             373          5        2 2020-05-10 2021-12-31          373   \n",
       "...            ...        ...      ...        ...        ...          ...   \n",
       "41041          155          4        3 2020-05-13 2021-12-31          155   \n",
       "41048          398          3        3 2020-04-11 2021-12-31          398   \n",
       "41055          255          4        2 2020-05-10 2021-12-31          255   \n",
       "41062          185          5        1 2020-05-13 2021-12-31          185   \n",
       "41069          309          5        2 2020-03-25 2021-12-31          309   \n",
       "\n",
       "      transaction_date transaction_type  transaction_amount  region_code  \\\n",
       "0           2020-04-24          deposit               485.0            5   \n",
       "7           2020-04-16          deposit               706.0            5   \n",
       "14          2020-04-08          deposit               601.0            1   \n",
       "21          2020-05-16          deposit               520.0            4   \n",
       "28          2020-05-10          deposit               596.0            5   \n",
       "...                ...              ...                 ...          ...   \n",
       "41041       2020-05-13          deposit               712.0            4   \n",
       "41048       2020-04-11          deposit               196.0            3   \n",
       "41055       2020-05-10          deposit               563.0            4   \n",
       "41062       2020-05-13          deposit               626.0            5   \n",
       "41069       2020-03-25          deposit               995.0            5   \n",
       "\n",
       "         region_name    churn  \n",
       "0             Africa  churned  \n",
       "7             Africa  churned  \n",
       "14     United States  churned  \n",
       "21              Asia  churned  \n",
       "28            Africa  churned  \n",
       "...              ...      ...  \n",
       "41041           Asia  churned  \n",
       "41048      Australia  churned  \n",
       "41055           Asia  churned  \n",
       "41062         Africa  churned  \n",
       "41069         Africa  churned  \n",
       "\n",
       "[5864 rows x 12 columns]"
      ]
     },
     "execution_count": 84,
     "metadata": {},
     "output_type": "execute_result"
    }
   ],
   "source": [
    "churn"
   ]
  },
  {
   "cell_type": "code",
   "execution_count": 85,
   "id": "c720d2b6",
   "metadata": {},
   "outputs": [],
   "source": [
    "active =data[data['churn'] == 'active']\n"
   ]
  },
  {
   "cell_type": "code",
   "execution_count": 86,
   "id": "7c766896",
   "metadata": {},
   "outputs": [
    {
     "data": {
      "text/html": [
       "<div>\n",
       "<style scoped>\n",
       "    .dataframe tbody tr th:only-of-type {\n",
       "        vertical-align: middle;\n",
       "    }\n",
       "\n",
       "    .dataframe tbody tr th {\n",
       "        vertical-align: top;\n",
       "    }\n",
       "\n",
       "    .dataframe thead th {\n",
       "        text-align: right;\n",
       "    }\n",
       "</style>\n",
       "<table border=\"1\" class=\"dataframe\">\n",
       "  <thead>\n",
       "    <tr style=\"text-align: right;\">\n",
       "      <th></th>\n",
       "      <th>consumer_id</th>\n",
       "      <th>region_id</th>\n",
       "      <th>node_id</th>\n",
       "      <th>start_date</th>\n",
       "      <th>end_date</th>\n",
       "      <th>consumer_id</th>\n",
       "      <th>transaction_date</th>\n",
       "      <th>transaction_type</th>\n",
       "      <th>transaction_amount</th>\n",
       "      <th>region_code</th>\n",
       "      <th>region_name</th>\n",
       "      <th>churn</th>\n",
       "    </tr>\n",
       "  </thead>\n",
       "  <tbody>\n",
       "    <tr>\n",
       "      <th>1</th>\n",
       "      <td>312</td>\n",
       "      <td>5</td>\n",
       "      <td>4</td>\n",
       "      <td>2020-04-01</td>\n",
       "      <td>2020-04-23</td>\n",
       "      <td>312</td>\n",
       "      <td>2020-04-01</td>\n",
       "      <td>deposit</td>\n",
       "      <td>485.0</td>\n",
       "      <td>5</td>\n",
       "      <td>Africa</td>\n",
       "      <td>active</td>\n",
       "    </tr>\n",
       "    <tr>\n",
       "      <th>2</th>\n",
       "      <td>312</td>\n",
       "      <td>5</td>\n",
       "      <td>3</td>\n",
       "      <td>2020-03-16</td>\n",
       "      <td>2020-03-31</td>\n",
       "      <td>312</td>\n",
       "      <td>2020-03-16</td>\n",
       "      <td>deposit</td>\n",
       "      <td>485.0</td>\n",
       "      <td>5</td>\n",
       "      <td>Africa</td>\n",
       "      <td>active</td>\n",
       "    </tr>\n",
       "    <tr>\n",
       "      <th>3</th>\n",
       "      <td>312</td>\n",
       "      <td>5</td>\n",
       "      <td>4</td>\n",
       "      <td>2020-02-21</td>\n",
       "      <td>2020-03-15</td>\n",
       "      <td>312</td>\n",
       "      <td>2020-02-21</td>\n",
       "      <td>deposit</td>\n",
       "      <td>485.0</td>\n",
       "      <td>5</td>\n",
       "      <td>Africa</td>\n",
       "      <td>active</td>\n",
       "    </tr>\n",
       "    <tr>\n",
       "      <th>4</th>\n",
       "      <td>312</td>\n",
       "      <td>5</td>\n",
       "      <td>5</td>\n",
       "      <td>2020-02-09</td>\n",
       "      <td>2020-02-20</td>\n",
       "      <td>312</td>\n",
       "      <td>2020-02-09</td>\n",
       "      <td>deposit</td>\n",
       "      <td>485.0</td>\n",
       "      <td>5</td>\n",
       "      <td>Africa</td>\n",
       "      <td>active</td>\n",
       "    </tr>\n",
       "    <tr>\n",
       "      <th>5</th>\n",
       "      <td>312</td>\n",
       "      <td>5</td>\n",
       "      <td>2</td>\n",
       "      <td>2020-02-08</td>\n",
       "      <td>2020-02-08</td>\n",
       "      <td>312</td>\n",
       "      <td>2020-02-08</td>\n",
       "      <td>deposit</td>\n",
       "      <td>485.0</td>\n",
       "      <td>5</td>\n",
       "      <td>Africa</td>\n",
       "      <td>active</td>\n",
       "    </tr>\n",
       "    <tr>\n",
       "      <th>...</th>\n",
       "      <td>...</td>\n",
       "      <td>...</td>\n",
       "      <td>...</td>\n",
       "      <td>...</td>\n",
       "      <td>...</td>\n",
       "      <td>...</td>\n",
       "      <td>...</td>\n",
       "      <td>...</td>\n",
       "      <td>...</td>\n",
       "      <td>...</td>\n",
       "      <td>...</td>\n",
       "      <td>...</td>\n",
       "    </tr>\n",
       "    <tr>\n",
       "      <th>41071</th>\n",
       "      <td>309</td>\n",
       "      <td>5</td>\n",
       "      <td>5</td>\n",
       "      <td>2020-03-03</td>\n",
       "      <td>2020-03-11</td>\n",
       "      <td>309</td>\n",
       "      <td>2020-03-03</td>\n",
       "      <td>deposit</td>\n",
       "      <td>995.0</td>\n",
       "      <td>5</td>\n",
       "      <td>Africa</td>\n",
       "      <td>active</td>\n",
       "    </tr>\n",
       "    <tr>\n",
       "      <th>41072</th>\n",
       "      <td>309</td>\n",
       "      <td>5</td>\n",
       "      <td>4</td>\n",
       "      <td>2020-02-28</td>\n",
       "      <td>2020-03-02</td>\n",
       "      <td>309</td>\n",
       "      <td>2020-02-28</td>\n",
       "      <td>deposit</td>\n",
       "      <td>995.0</td>\n",
       "      <td>5</td>\n",
       "      <td>Africa</td>\n",
       "      <td>active</td>\n",
       "    </tr>\n",
       "    <tr>\n",
       "      <th>41073</th>\n",
       "      <td>309</td>\n",
       "      <td>5</td>\n",
       "      <td>1</td>\n",
       "      <td>2020-02-27</td>\n",
       "      <td>2020-02-27</td>\n",
       "      <td>309</td>\n",
       "      <td>2020-02-27</td>\n",
       "      <td>deposit</td>\n",
       "      <td>995.0</td>\n",
       "      <td>5</td>\n",
       "      <td>Africa</td>\n",
       "      <td>active</td>\n",
       "    </tr>\n",
       "    <tr>\n",
       "      <th>41074</th>\n",
       "      <td>309</td>\n",
       "      <td>5</td>\n",
       "      <td>1</td>\n",
       "      <td>2020-02-07</td>\n",
       "      <td>2020-02-26</td>\n",
       "      <td>309</td>\n",
       "      <td>2020-02-07</td>\n",
       "      <td>deposit</td>\n",
       "      <td>995.0</td>\n",
       "      <td>5</td>\n",
       "      <td>Africa</td>\n",
       "      <td>active</td>\n",
       "    </tr>\n",
       "    <tr>\n",
       "      <th>41075</th>\n",
       "      <td>309</td>\n",
       "      <td>5</td>\n",
       "      <td>2</td>\n",
       "      <td>2020-01-13</td>\n",
       "      <td>2020-02-06</td>\n",
       "      <td>309</td>\n",
       "      <td>2020-01-13</td>\n",
       "      <td>deposit</td>\n",
       "      <td>995.0</td>\n",
       "      <td>5</td>\n",
       "      <td>Africa</td>\n",
       "      <td>active</td>\n",
       "    </tr>\n",
       "  </tbody>\n",
       "</table>\n",
       "<p>35212 rows × 12 columns</p>\n",
       "</div>"
      ],
      "text/plain": [
       "       consumer_id  region_id  node_id start_date   end_date  consumer_id  \\\n",
       "1              312          5        4 2020-04-01 2020-04-23          312   \n",
       "2              312          5        3 2020-03-16 2020-03-31          312   \n",
       "3              312          5        4 2020-02-21 2020-03-15          312   \n",
       "4              312          5        5 2020-02-09 2020-02-20          312   \n",
       "5              312          5        2 2020-02-08 2020-02-08          312   \n",
       "...            ...        ...      ...        ...        ...          ...   \n",
       "41071          309          5        5 2020-03-03 2020-03-11          309   \n",
       "41072          309          5        4 2020-02-28 2020-03-02          309   \n",
       "41073          309          5        1 2020-02-27 2020-02-27          309   \n",
       "41074          309          5        1 2020-02-07 2020-02-26          309   \n",
       "41075          309          5        2 2020-01-13 2020-02-06          309   \n",
       "\n",
       "      transaction_date transaction_type  transaction_amount  region_code  \\\n",
       "1           2020-04-01          deposit               485.0            5   \n",
       "2           2020-03-16          deposit               485.0            5   \n",
       "3           2020-02-21          deposit               485.0            5   \n",
       "4           2020-02-09          deposit               485.0            5   \n",
       "5           2020-02-08          deposit               485.0            5   \n",
       "...                ...              ...                 ...          ...   \n",
       "41071       2020-03-03          deposit               995.0            5   \n",
       "41072       2020-02-28          deposit               995.0            5   \n",
       "41073       2020-02-27          deposit               995.0            5   \n",
       "41074       2020-02-07          deposit               995.0            5   \n",
       "41075       2020-01-13          deposit               995.0            5   \n",
       "\n",
       "      region_name   churn  \n",
       "1          Africa  active  \n",
       "2          Africa  active  \n",
       "3          Africa  active  \n",
       "4          Africa  active  \n",
       "5          Africa  active  \n",
       "...           ...     ...  \n",
       "41071      Africa  active  \n",
       "41072      Africa  active  \n",
       "41073      Africa  active  \n",
       "41074      Africa  active  \n",
       "41075      Africa  active  \n",
       "\n",
       "[35212 rows x 12 columns]"
      ]
     },
     "execution_count": 86,
     "metadata": {},
     "output_type": "execute_result"
    }
   ],
   "source": [
    "active"
   ]
  },
  {
   "cell_type": "code",
   "execution_count": 87,
   "id": "43f0d524",
   "metadata": {},
   "outputs": [],
   "source": [
    "numerical_columns = data.select_dtypes(include=['int64', 'float64'])\n"
   ]
  },
  {
   "cell_type": "code",
   "execution_count": 88,
   "id": "9b4cf016",
   "metadata": {},
   "outputs": [
    {
     "data": {
      "text/html": [
       "<div>\n",
       "<style scoped>\n",
       "    .dataframe tbody tr th:only-of-type {\n",
       "        vertical-align: middle;\n",
       "    }\n",
       "\n",
       "    .dataframe tbody tr th {\n",
       "        vertical-align: top;\n",
       "    }\n",
       "\n",
       "    .dataframe thead th {\n",
       "        text-align: right;\n",
       "    }\n",
       "</style>\n",
       "<table border=\"1\" class=\"dataframe\">\n",
       "  <thead>\n",
       "    <tr style=\"text-align: right;\">\n",
       "      <th></th>\n",
       "      <th>consumer_id</th>\n",
       "      <th>region_id</th>\n",
       "      <th>node_id</th>\n",
       "      <th>consumer_id</th>\n",
       "      <th>transaction_amount</th>\n",
       "      <th>region_code</th>\n",
       "    </tr>\n",
       "  </thead>\n",
       "  <tbody>\n",
       "    <tr>\n",
       "      <th>0</th>\n",
       "      <td>312</td>\n",
       "      <td>5</td>\n",
       "      <td>2</td>\n",
       "      <td>312</td>\n",
       "      <td>485.0</td>\n",
       "      <td>5</td>\n",
       "    </tr>\n",
       "    <tr>\n",
       "      <th>1</th>\n",
       "      <td>312</td>\n",
       "      <td>5</td>\n",
       "      <td>4</td>\n",
       "      <td>312</td>\n",
       "      <td>485.0</td>\n",
       "      <td>5</td>\n",
       "    </tr>\n",
       "    <tr>\n",
       "      <th>2</th>\n",
       "      <td>312</td>\n",
       "      <td>5</td>\n",
       "      <td>3</td>\n",
       "      <td>312</td>\n",
       "      <td>485.0</td>\n",
       "      <td>5</td>\n",
       "    </tr>\n",
       "    <tr>\n",
       "      <th>3</th>\n",
       "      <td>312</td>\n",
       "      <td>5</td>\n",
       "      <td>4</td>\n",
       "      <td>312</td>\n",
       "      <td>485.0</td>\n",
       "      <td>5</td>\n",
       "    </tr>\n",
       "    <tr>\n",
       "      <th>4</th>\n",
       "      <td>312</td>\n",
       "      <td>5</td>\n",
       "      <td>5</td>\n",
       "      <td>312</td>\n",
       "      <td>485.0</td>\n",
       "      <td>5</td>\n",
       "    </tr>\n",
       "    <tr>\n",
       "      <th>...</th>\n",
       "      <td>...</td>\n",
       "      <td>...</td>\n",
       "      <td>...</td>\n",
       "      <td>...</td>\n",
       "      <td>...</td>\n",
       "      <td>...</td>\n",
       "    </tr>\n",
       "    <tr>\n",
       "      <th>41071</th>\n",
       "      <td>309</td>\n",
       "      <td>5</td>\n",
       "      <td>5</td>\n",
       "      <td>309</td>\n",
       "      <td>995.0</td>\n",
       "      <td>5</td>\n",
       "    </tr>\n",
       "    <tr>\n",
       "      <th>41072</th>\n",
       "      <td>309</td>\n",
       "      <td>5</td>\n",
       "      <td>4</td>\n",
       "      <td>309</td>\n",
       "      <td>995.0</td>\n",
       "      <td>5</td>\n",
       "    </tr>\n",
       "    <tr>\n",
       "      <th>41073</th>\n",
       "      <td>309</td>\n",
       "      <td>5</td>\n",
       "      <td>1</td>\n",
       "      <td>309</td>\n",
       "      <td>995.0</td>\n",
       "      <td>5</td>\n",
       "    </tr>\n",
       "    <tr>\n",
       "      <th>41074</th>\n",
       "      <td>309</td>\n",
       "      <td>5</td>\n",
       "      <td>1</td>\n",
       "      <td>309</td>\n",
       "      <td>995.0</td>\n",
       "      <td>5</td>\n",
       "    </tr>\n",
       "    <tr>\n",
       "      <th>41075</th>\n",
       "      <td>309</td>\n",
       "      <td>5</td>\n",
       "      <td>2</td>\n",
       "      <td>309</td>\n",
       "      <td>995.0</td>\n",
       "      <td>5</td>\n",
       "    </tr>\n",
       "  </tbody>\n",
       "</table>\n",
       "<p>41076 rows × 6 columns</p>\n",
       "</div>"
      ],
      "text/plain": [
       "       consumer_id  region_id  node_id  consumer_id  transaction_amount  \\\n",
       "0              312          5        2          312               485.0   \n",
       "1              312          5        4          312               485.0   \n",
       "2              312          5        3          312               485.0   \n",
       "3              312          5        4          312               485.0   \n",
       "4              312          5        5          312               485.0   \n",
       "...            ...        ...      ...          ...                 ...   \n",
       "41071          309          5        5          309               995.0   \n",
       "41072          309          5        4          309               995.0   \n",
       "41073          309          5        1          309               995.0   \n",
       "41074          309          5        1          309               995.0   \n",
       "41075          309          5        2          309               995.0   \n",
       "\n",
       "       region_code  \n",
       "0                5  \n",
       "1                5  \n",
       "2                5  \n",
       "3                5  \n",
       "4                5  \n",
       "...            ...  \n",
       "41071            5  \n",
       "41072            5  \n",
       "41073            5  \n",
       "41074            5  \n",
       "41075            5  \n",
       "\n",
       "[41076 rows x 6 columns]"
      ]
     },
     "execution_count": 88,
     "metadata": {},
     "output_type": "execute_result"
    }
   ],
   "source": [
    "numerical_columns"
   ]
  },
  {
   "cell_type": "markdown",
   "id": "77462cdf",
   "metadata": {},
   "source": [
    "# visualizing customer behavior"
   ]
  },
  {
   "cell_type": "markdown",
   "id": "32da57ec",
   "metadata": {},
   "source": [
    "visualizing customer churn against customer region code "
   ]
  },
  {
   "cell_type": "code",
   "execution_count": 89,
   "id": "d8e40bde",
   "metadata": {},
   "outputs": [
    {
     "data": {
      "image/png": "[encoded data removed]",
      "text/plain": [
       "<Figure size 720x432 with 1 Axes>"
      ]
     },
     "metadata": {},
     "output_type": "display_data"
    }
   ],
   "source": [
    "# KDE Plot with grid\n",
    "fig, ax = plt.subplots(1, 1, figsize=(10, 6))\n",
    "sns.kdeplot(x='region_code', data=churn, color='red', ax=ax, fill=True, alpha=.3, label='churn')\n",
    "sns.kdeplot(x='region_code', data=active, color='green', ax=ax, fill=True, alpha=.1, label='active')\n",
    "plt.legend()\n",
    "plt.grid(True) \n",
    "plt.show()\n"
   ]
  },
  {
   "cell_type": "markdown",
   "id": "46f056f9",
   "metadata": {},
   "source": [
    "The kde plot analysis reveals an interesting trend among different regions. In this analysis, it's evident that each region managed to retain more customers than they lost, indicating a positive overall customer retention strategy. However, the data also highlights that Region 5, which corresponds to Africa, had the lowest number of retained customers while the united state that corresponds with Region 1 has the higest retention rate .\n",
    "\n",
    "This finding can be significant for the bank as it suggests that while their overall customer retention strategy is working, there might be specific challenges or factors affecting customer retention in the African region. It could mean that the bank needs to pay closer attention to this region, possibly by tailoring retention strategies to address region-specific issues."
   ]
  },
  {
   "cell_type": "markdown",
   "id": "fb7980a6",
   "metadata": {},
   "source": [
    " ## churned customers based on their Transactions amount summary statistic"
   ]
  },
  {
   "cell_type": "code",
   "execution_count": 90,
   "id": "dc7ef9a6",
   "metadata": {},
   "outputs": [
    {
     "name": "stdout",
     "output_type": "stream",
     "text": [
      "count    5864.000000\n",
      "mean      504.228513\n",
      "std       288.189135\n",
      "min         0.000000\n",
      "25%       256.000000\n",
      "50%       503.000000\n",
      "75%       753.000000\n",
      "max      1000.000000\n",
      "Name: transaction_amount, dtype: float64\n"
     ]
    }
   ],
   "source": [
    "churned_summary = churn['transaction_amount'].describe()\n",
    "print(churned_summary)\n"
   ]
  },
  {
   "cell_type": "markdown",
   "id": "06537ef3",
   "metadata": {},
   "source": [
    "\n",
    " \n",
    "Count: We have data for 5864 customers who left the bank.\n",
    "\n",
    "Mean: On average, these customers had a typical transaction of around $504.23.\n",
    "\n",
    "Standard Deviation (std): The transaction amounts vary, and on average, they differ by about $288.19 from the typical amount.\n",
    "\n",
    "Minimum (min): The minimum transaction amount observed for churned customers is $0. This indicates that there are customers who churned without making any transactions.\n",
    "\n",
    "25th Percentile (25%): 25% of these customers had transactions of $256 or less.\n",
    "\n",
    "50th Percentile (Median, 50%): Half of these customers had transactions of $503 or less.\n",
    "\n",
    "75th Percentile (75%): 75% of these customers had transactions of $753 or less.\n",
    "\n",
    "Maximum (max): The highest transaction among these customers was $1000.\n",
    "\n",
    "In summary, these statistics provide insights into the transaction amounts of customers who have churned. \n",
    "\n",
    "The average transaction amount is approximately $504.23, with a moderate level of variability.\n",
    "\n",
    "\n",
    "\n",
    "\n",
    "some customers have churned without making any transaction at all ,while others had a transaction amount ranging from 0 to a maximum of $1000"
   ]
  },
  {
   "cell_type": "markdown",
   "id": "1ae37789",
   "metadata": {},
   "source": [
    "The maximum transaction amount of $1000 suggests that some churned customers had relatively high transaction activity. The bank should investigate whether these high-value customers had specific reasons for churning and consider strategies to retain or re-engage such customers. These statistics could  be part of the bank's broader customer retention strategy. The bank can use this information to develop more targeted retention campaigns, improve customer engagement, and offer personalized services to prevent churn and increase customer loyalty."
   ]
  },
  {
   "cell_type": "markdown",
   "id": "82daa894",
   "metadata": {},
   "source": [
    "## visualizing churn based on customer preferred transaction type"
   ]
  },
  {
   "cell_type": "code",
   "execution_count": 91,
   "id": "ca4bed75",
   "metadata": {},
   "outputs": [],
   "source": [
    "categorical_columns = data.select_dtypes(include=['object'])\n"
   ]
  },
  {
   "cell_type": "code",
   "execution_count": 92,
   "id": "317c51af",
   "metadata": {},
   "outputs": [
    {
     "data": {
      "text/html": [
       "<div>\n",
       "<style scoped>\n",
       "    .dataframe tbody tr th:only-of-type {\n",
       "        vertical-align: middle;\n",
       "    }\n",
       "\n",
       "    .dataframe tbody tr th {\n",
       "        vertical-align: top;\n",
       "    }\n",
       "\n",
       "    .dataframe thead th {\n",
       "        text-align: right;\n",
       "    }\n",
       "</style>\n",
       "<table border=\"1\" class=\"dataframe\">\n",
       "  <thead>\n",
       "    <tr style=\"text-align: right;\">\n",
       "      <th></th>\n",
       "      <th>transaction_type</th>\n",
       "      <th>region_name</th>\n",
       "      <th>churn</th>\n",
       "    </tr>\n",
       "  </thead>\n",
       "  <tbody>\n",
       "    <tr>\n",
       "      <th>0</th>\n",
       "      <td>deposit</td>\n",
       "      <td>Africa</td>\n",
       "      <td>churned</td>\n",
       "    </tr>\n",
       "    <tr>\n",
       "      <th>1</th>\n",
       "      <td>deposit</td>\n",
       "      <td>Africa</td>\n",
       "      <td>active</td>\n",
       "    </tr>\n",
       "    <tr>\n",
       "      <th>2</th>\n",
       "      <td>deposit</td>\n",
       "      <td>Africa</td>\n",
       "      <td>active</td>\n",
       "    </tr>\n",
       "    <tr>\n",
       "      <th>3</th>\n",
       "      <td>deposit</td>\n",
       "      <td>Africa</td>\n",
       "      <td>active</td>\n",
       "    </tr>\n",
       "    <tr>\n",
       "      <th>4</th>\n",
       "      <td>deposit</td>\n",
       "      <td>Africa</td>\n",
       "      <td>active</td>\n",
       "    </tr>\n",
       "    <tr>\n",
       "      <th>...</th>\n",
       "      <td>...</td>\n",
       "      <td>...</td>\n",
       "      <td>...</td>\n",
       "    </tr>\n",
       "    <tr>\n",
       "      <th>41071</th>\n",
       "      <td>deposit</td>\n",
       "      <td>Africa</td>\n",
       "      <td>active</td>\n",
       "    </tr>\n",
       "    <tr>\n",
       "      <th>41072</th>\n",
       "      <td>deposit</td>\n",
       "      <td>Africa</td>\n",
       "      <td>active</td>\n",
       "    </tr>\n",
       "    <tr>\n",
       "      <th>41073</th>\n",
       "      <td>deposit</td>\n",
       "      <td>Africa</td>\n",
       "      <td>active</td>\n",
       "    </tr>\n",
       "    <tr>\n",
       "      <th>41074</th>\n",
       "      <td>deposit</td>\n",
       "      <td>Africa</td>\n",
       "      <td>active</td>\n",
       "    </tr>\n",
       "    <tr>\n",
       "      <th>41075</th>\n",
       "      <td>deposit</td>\n",
       "      <td>Africa</td>\n",
       "      <td>active</td>\n",
       "    </tr>\n",
       "  </tbody>\n",
       "</table>\n",
       "<p>41076 rows × 3 columns</p>\n",
       "</div>"
      ],
      "text/plain": [
       "      transaction_type region_name    churn\n",
       "0              deposit      Africa  churned\n",
       "1              deposit      Africa   active\n",
       "2              deposit      Africa   active\n",
       "3              deposit      Africa   active\n",
       "4              deposit      Africa   active\n",
       "...                ...         ...      ...\n",
       "41071          deposit      Africa   active\n",
       "41072          deposit      Africa   active\n",
       "41073          deposit      Africa   active\n",
       "41074          deposit      Africa   active\n",
       "41075          deposit      Africa   active\n",
       "\n",
       "[41076 rows x 3 columns]"
      ]
     },
     "execution_count": 92,
     "metadata": {},
     "output_type": "execute_result"
    }
   ],
   "source": [
    "categorical_columns"
   ]
  },
  {
   "cell_type": "code",
   "execution_count": 93,
   "id": "3fd9ba1a",
   "metadata": {},
   "outputs": [
    {
     "data": {
      "image/png": "[encoded data removed]",
      "text/plain": [
       "<Figure size 720x432 with 1 Axes>"
      ]
     },
     "metadata": {},
     "output_type": "display_data"
    }
   ],
   "source": [
    "\n",
    "fig, ax = plt.subplots(1, 1, figsize=(10, 6))\n",
    "sns.countplot(data=churn, x='transaction_type', color='red', ax=ax, alpha=0.7, label='churn')\n",
    "sns.countplot(data=active, x='transaction_type', color='green', ax=ax, alpha=0.3, label='active')\n",
    "plt.title('Count of Customers by Transaction Type')\n",
    "plt.xlabel('Transaction Type')\n",
    "plt.legend()\n",
    "plt.grid(True)  # Add a grid\n",
    "plt.show()"
   ]
  },
  {
   "cell_type": "markdown",
   "id": "c3b474c7",
   "metadata": {},
   "source": [
    "\n",
    "The countplot reveals that all transaction types generally have good retention rates, with a notable observation that 'deposit' has the highest churn distribution among them. This implies that a  number of customers who primarily engaged in deposit transactions ended up churning.\n",
    "\n",
    "What the bank should take note of:\n",
    "The bank should closely examine why customers with a 'deposit' transaction type have a relatively higher likelihood of churning. It may indicate that customers with deposit-focused activity may have unique needs or expectations that are not being adequately met. Understanding the reasons behind this trend can help the bank develop targeted strategies to retain these customers and improve their overall experience."
   ]
  },
  {
   "cell_type": "code",
   "execution_count": null,
   "id": "9ae03322",
   "metadata": {},
   "outputs": [],
   "source": []
  },
  {
   "cell_type": "code",
   "execution_count": null,
   "id": "3d08e1dc",
   "metadata": {},
   "outputs": [],
   "source": []
  }
 ],
 "metadata": {
  "kernelspec": {
   "display_name": "Python 3 (ipykernel)",
   "language": "python",
   "name": "python3"
  },
  "language_info": {
   "codemirror_mode": {
    "name": "ipython",
    "version": 3
   },
   "file_extension": ".py",
   "mimetype": "text/x-python",
   "name": "python",
   "nbconvert_exporter": "python",
   "pygments_lexer": "ipython3",
   "version": "3.7.4"
  }
 },
 "nbformat": 4,
 "nbformat_minor": 5
}
